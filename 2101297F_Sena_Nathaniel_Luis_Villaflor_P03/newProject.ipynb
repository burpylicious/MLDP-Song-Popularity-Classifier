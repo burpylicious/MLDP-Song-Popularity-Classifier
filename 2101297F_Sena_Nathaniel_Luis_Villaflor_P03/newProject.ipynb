{
 "cells": [
  {
   "cell_type": "code",
   "execution_count": 1,
   "id": "2b3055a7-dc6d-47ca-ab25-9da4e4ad0dd4",
   "metadata": {},
   "outputs": [
    {
     "data": {
      "text/html": [
       "<div>\n",
       "<style scoped>\n",
       "    .dataframe tbody tr th:only-of-type {\n",
       "        vertical-align: middle;\n",
       "    }\n",
       "\n",
       "    .dataframe tbody tr th {\n",
       "        vertical-align: top;\n",
       "    }\n",
       "\n",
       "    .dataframe thead th {\n",
       "        text-align: right;\n",
       "    }\n",
       "</style>\n",
       "<table border=\"1\" class=\"dataframe\">\n",
       "  <thead>\n",
       "    <tr style=\"text-align: right;\">\n",
       "      <th></th>\n",
       "      <th>Unnamed: 0</th>\n",
       "      <th>title</th>\n",
       "      <th>artist</th>\n",
       "      <th>top genre</th>\n",
       "      <th>year</th>\n",
       "      <th>bpm</th>\n",
       "      <th>nrgy</th>\n",
       "      <th>dnce</th>\n",
       "      <th>dB</th>\n",
       "      <th>live</th>\n",
       "      <th>val</th>\n",
       "      <th>dur</th>\n",
       "      <th>acous</th>\n",
       "      <th>spch</th>\n",
       "      <th>pop</th>\n",
       "    </tr>\n",
       "  </thead>\n",
       "  <tbody>\n",
       "    <tr>\n",
       "      <th>0</th>\n",
       "      <td>1</td>\n",
       "      <td>Hey, Soul Sister</td>\n",
       "      <td>Train</td>\n",
       "      <td>neo mellow</td>\n",
       "      <td>2010</td>\n",
       "      <td>97</td>\n",
       "      <td>89</td>\n",
       "      <td>67</td>\n",
       "      <td>-4</td>\n",
       "      <td>8</td>\n",
       "      <td>80</td>\n",
       "      <td>217</td>\n",
       "      <td>19</td>\n",
       "      <td>4</td>\n",
       "      <td>83</td>\n",
       "    </tr>\n",
       "    <tr>\n",
       "      <th>1</th>\n",
       "      <td>2</td>\n",
       "      <td>Love The Way You Lie</td>\n",
       "      <td>Eminem</td>\n",
       "      <td>detroit hip hop</td>\n",
       "      <td>2010</td>\n",
       "      <td>87</td>\n",
       "      <td>93</td>\n",
       "      <td>75</td>\n",
       "      <td>-5</td>\n",
       "      <td>52</td>\n",
       "      <td>64</td>\n",
       "      <td>263</td>\n",
       "      <td>24</td>\n",
       "      <td>23</td>\n",
       "      <td>82</td>\n",
       "    </tr>\n",
       "    <tr>\n",
       "      <th>2</th>\n",
       "      <td>3</td>\n",
       "      <td>TiK ToK</td>\n",
       "      <td>Kesha</td>\n",
       "      <td>dance pop</td>\n",
       "      <td>2010</td>\n",
       "      <td>120</td>\n",
       "      <td>84</td>\n",
       "      <td>76</td>\n",
       "      <td>-3</td>\n",
       "      <td>29</td>\n",
       "      <td>71</td>\n",
       "      <td>200</td>\n",
       "      <td>10</td>\n",
       "      <td>14</td>\n",
       "      <td>80</td>\n",
       "    </tr>\n",
       "    <tr>\n",
       "      <th>3</th>\n",
       "      <td>4</td>\n",
       "      <td>Bad Romance</td>\n",
       "      <td>Lady Gaga</td>\n",
       "      <td>dance pop</td>\n",
       "      <td>2010</td>\n",
       "      <td>119</td>\n",
       "      <td>92</td>\n",
       "      <td>70</td>\n",
       "      <td>-4</td>\n",
       "      <td>8</td>\n",
       "      <td>71</td>\n",
       "      <td>295</td>\n",
       "      <td>0</td>\n",
       "      <td>4</td>\n",
       "      <td>79</td>\n",
       "    </tr>\n",
       "    <tr>\n",
       "      <th>4</th>\n",
       "      <td>5</td>\n",
       "      <td>Just the Way You Are</td>\n",
       "      <td>Bruno Mars</td>\n",
       "      <td>pop</td>\n",
       "      <td>2010</td>\n",
       "      <td>109</td>\n",
       "      <td>84</td>\n",
       "      <td>64</td>\n",
       "      <td>-5</td>\n",
       "      <td>9</td>\n",
       "      <td>43</td>\n",
       "      <td>221</td>\n",
       "      <td>2</td>\n",
       "      <td>4</td>\n",
       "      <td>78</td>\n",
       "    </tr>\n",
       "  </tbody>\n",
       "</table>\n",
       "</div>"
      ],
      "text/plain": [
       "   Unnamed: 0                 title      artist        top genre  year  bpm  \\\n",
       "0           1      Hey, Soul Sister       Train       neo mellow  2010   97   \n",
       "1           2  Love The Way You Lie      Eminem  detroit hip hop  2010   87   \n",
       "2           3               TiK ToK       Kesha        dance pop  2010  120   \n",
       "3           4           Bad Romance   Lady Gaga        dance pop  2010  119   \n",
       "4           5  Just the Way You Are  Bruno Mars              pop  2010  109   \n",
       "\n",
       "   nrgy  dnce  dB  live  val  dur  acous  spch  pop  \n",
       "0    89    67  -4     8   80  217     19     4   83  \n",
       "1    93    75  -5    52   64  263     24    23   82  \n",
       "2    84    76  -3    29   71  200     10    14   80  \n",
       "3    92    70  -4     8   71  295      0     4   79  \n",
       "4    84    64  -5     9   43  221      2     4   78  "
      ]
     },
     "execution_count": 1,
     "metadata": {},
     "output_type": "execute_result"
    }
   ],
   "source": [
    "# Import relevant modules\n",
    "import pandas as pd\n",
    "from matplotlib import pyplot as plt\n",
    "import missingno as msno\n",
    "import numpy\n",
    "import numpy.random as rand\n",
    "import seaborn as sns\n",
    "import numpy as np\n",
    "import sklearn\n",
    "#ignore warnings\n",
    "import warnings\n",
    "warnings.filterwarnings('ignore')\n",
    "\n",
    "# Print out the first 5 values of the dataset\n",
    "df = pd.read_csv(\"top10s.csv\", encoding='ISO-8859-1') \n",
    "df.head()"
   ]
  },
  {
   "cell_type": "code",
   "execution_count": 2,
   "id": "7fb1f1c0-99df-44f7-8a27-5e1e9457952e",
   "metadata": {},
   "outputs": [
    {
     "name": "stdout",
     "output_type": "stream",
     "text": [
      "(603, 15)\n"
     ]
    }
   ],
   "source": [
    "# Find out the shape of the dataset\n",
    "print(df.shape)"
   ]
  },
  {
   "cell_type": "code",
   "execution_count": 3,
   "id": "82668f19-2317-482c-a386-aa0e274d24e0",
   "metadata": {},
   "outputs": [
    {
     "name": "stdout",
     "output_type": "stream",
     "text": [
      "       Unnamed: 0         year         bpm        nrgy        dnce  \\\n",
      "count  603.000000   603.000000  603.000000  603.000000  603.000000   \n",
      "mean   302.000000  2014.592040  118.545605   70.504146   64.379768   \n",
      "std    174.215384     2.607057   24.795358   16.310664   13.378718   \n",
      "min      1.000000  2010.000000    0.000000    0.000000    0.000000   \n",
      "25%    151.500000  2013.000000  100.000000   61.000000   57.000000   \n",
      "50%    302.000000  2015.000000  120.000000   74.000000   66.000000   \n",
      "75%    452.500000  2017.000000  129.000000   82.000000   73.000000   \n",
      "max    603.000000  2019.000000  206.000000   98.000000   97.000000   \n",
      "\n",
      "               dB        live         val         dur       acous        spch  \\\n",
      "count  603.000000  603.000000  603.000000  603.000000  603.000000  603.000000   \n",
      "mean    -5.578773   17.774461   52.225539  224.674959   14.326700    8.358209   \n",
      "std      2.798020   13.102543   22.513020   34.130059   20.766165    7.483162   \n",
      "min    -60.000000    0.000000    0.000000  134.000000    0.000000    0.000000   \n",
      "25%     -6.000000    9.000000   35.000000  202.000000    2.000000    4.000000   \n",
      "50%     -5.000000   12.000000   52.000000  221.000000    6.000000    5.000000   \n",
      "75%     -4.000000   24.000000   69.000000  239.500000   17.000000    9.000000   \n",
      "max     -2.000000   74.000000   98.000000  424.000000   99.000000   48.000000   \n",
      "\n",
      "              pop  \n",
      "count  603.000000  \n",
      "mean    66.520730  \n",
      "std     14.517746  \n",
      "min      0.000000  \n",
      "25%     60.000000  \n",
      "50%     69.000000  \n",
      "75%     76.000000  \n",
      "max     99.000000  \n"
     ]
    }
   ],
   "source": [
    "# Find out more information about the dataset\n",
    "print(df.describe())"
   ]
  },
  {
   "cell_type": "markdown",
   "id": "a28d94fa-1558-47eb-a942-ebb3be656857",
   "metadata": {},
   "source": [
    "## <font color= grey> Data Cleaning"
   ]
  },
  {
   "cell_type": "code",
   "execution_count": 4,
   "id": "738f4636-75a7-4d36-97b5-3014f7e311d6",
   "metadata": {},
   "outputs": [],
   "source": [
    "# Replace all \" \" values with Not a Number\n",
    "df = df.replace(\" \", np.nan)"
   ]
  },
  {
   "cell_type": "code",
   "execution_count": 5,
   "id": "44c376fd-b4b3-40d4-9176-d313bc7f2fbf",
   "metadata": {},
   "outputs": [
    {
     "data": {
      "text/plain": [
       "Unnamed: 0    0\n",
       "title         0\n",
       "artist        0\n",
       "top genre     0\n",
       "year          0\n",
       "bpm           0\n",
       "nrgy          0\n",
       "dnce          0\n",
       "dB            0\n",
       "live          0\n",
       "val           0\n",
       "dur           0\n",
       "acous         0\n",
       "spch          0\n",
       "pop           0\n",
       "dtype: int64"
      ]
     },
     "execution_count": 5,
     "metadata": {},
     "output_type": "execute_result"
    }
   ],
   "source": [
    "# Find out how much missing values there are in the dataset\n",
    "df.isnull().sum()"
   ]
  },
  {
   "cell_type": "code",
   "execution_count": 6,
   "id": "e490898f-5752-4670-8670-2f9f32045f92",
   "metadata": {},
   "outputs": [
    {
     "data": {
      "text/html": [
       "<div>\n",
       "<style scoped>\n",
       "    .dataframe tbody tr th:only-of-type {\n",
       "        vertical-align: middle;\n",
       "    }\n",
       "\n",
       "    .dataframe tbody tr th {\n",
       "        vertical-align: top;\n",
       "    }\n",
       "\n",
       "    .dataframe thead th {\n",
       "        text-align: right;\n",
       "    }\n",
       "</style>\n",
       "<table border=\"1\" class=\"dataframe\">\n",
       "  <thead>\n",
       "    <tr style=\"text-align: right;\">\n",
       "      <th></th>\n",
       "      <th>Unnamed: 0</th>\n",
       "      <th>title</th>\n",
       "      <th>artist</th>\n",
       "      <th>top genre</th>\n",
       "      <th>year</th>\n",
       "      <th>bpm</th>\n",
       "      <th>nrgy</th>\n",
       "      <th>dnce</th>\n",
       "      <th>dB</th>\n",
       "      <th>live</th>\n",
       "      <th>val</th>\n",
       "      <th>dur</th>\n",
       "      <th>acous</th>\n",
       "      <th>spch</th>\n",
       "      <th>pop</th>\n",
       "    </tr>\n",
       "  </thead>\n",
       "  <tbody>\n",
       "    <tr>\n",
       "      <th>0</th>\n",
       "      <td>1</td>\n",
       "      <td>Hey, Soul Sister</td>\n",
       "      <td>Train</td>\n",
       "      <td>neo mellow</td>\n",
       "      <td>2010</td>\n",
       "      <td>97</td>\n",
       "      <td>89</td>\n",
       "      <td>67</td>\n",
       "      <td>-4</td>\n",
       "      <td>8</td>\n",
       "      <td>80</td>\n",
       "      <td>217</td>\n",
       "      <td>19</td>\n",
       "      <td>4</td>\n",
       "      <td>83</td>\n",
       "    </tr>\n",
       "    <tr>\n",
       "      <th>1</th>\n",
       "      <td>2</td>\n",
       "      <td>Love The Way You Lie</td>\n",
       "      <td>Eminem</td>\n",
       "      <td>detroit hip hop</td>\n",
       "      <td>2010</td>\n",
       "      <td>87</td>\n",
       "      <td>93</td>\n",
       "      <td>75</td>\n",
       "      <td>-5</td>\n",
       "      <td>52</td>\n",
       "      <td>64</td>\n",
       "      <td>263</td>\n",
       "      <td>24</td>\n",
       "      <td>23</td>\n",
       "      <td>82</td>\n",
       "    </tr>\n",
       "    <tr>\n",
       "      <th>2</th>\n",
       "      <td>3</td>\n",
       "      <td>TiK ToK</td>\n",
       "      <td>Kesha</td>\n",
       "      <td>dance pop</td>\n",
       "      <td>2010</td>\n",
       "      <td>120</td>\n",
       "      <td>84</td>\n",
       "      <td>76</td>\n",
       "      <td>-3</td>\n",
       "      <td>29</td>\n",
       "      <td>71</td>\n",
       "      <td>200</td>\n",
       "      <td>10</td>\n",
       "      <td>14</td>\n",
       "      <td>80</td>\n",
       "    </tr>\n",
       "    <tr>\n",
       "      <th>3</th>\n",
       "      <td>4</td>\n",
       "      <td>Bad Romance</td>\n",
       "      <td>Lady Gaga</td>\n",
       "      <td>dance pop</td>\n",
       "      <td>2010</td>\n",
       "      <td>119</td>\n",
       "      <td>92</td>\n",
       "      <td>70</td>\n",
       "      <td>-4</td>\n",
       "      <td>8</td>\n",
       "      <td>71</td>\n",
       "      <td>295</td>\n",
       "      <td>0</td>\n",
       "      <td>4</td>\n",
       "      <td>79</td>\n",
       "    </tr>\n",
       "    <tr>\n",
       "      <th>4</th>\n",
       "      <td>5</td>\n",
       "      <td>Just the Way You Are</td>\n",
       "      <td>Bruno Mars</td>\n",
       "      <td>pop</td>\n",
       "      <td>2010</td>\n",
       "      <td>109</td>\n",
       "      <td>84</td>\n",
       "      <td>64</td>\n",
       "      <td>-5</td>\n",
       "      <td>9</td>\n",
       "      <td>43</td>\n",
       "      <td>221</td>\n",
       "      <td>2</td>\n",
       "      <td>4</td>\n",
       "      <td>78</td>\n",
       "    </tr>\n",
       "    <tr>\n",
       "      <th>...</th>\n",
       "      <td>...</td>\n",
       "      <td>...</td>\n",
       "      <td>...</td>\n",
       "      <td>...</td>\n",
       "      <td>...</td>\n",
       "      <td>...</td>\n",
       "      <td>...</td>\n",
       "      <td>...</td>\n",
       "      <td>...</td>\n",
       "      <td>...</td>\n",
       "      <td>...</td>\n",
       "      <td>...</td>\n",
       "      <td>...</td>\n",
       "      <td>...</td>\n",
       "      <td>...</td>\n",
       "    </tr>\n",
       "    <tr>\n",
       "      <th>598</th>\n",
       "      <td>599</td>\n",
       "      <td>Find U Again (feat. Camila Cabello)</td>\n",
       "      <td>Mark Ronson</td>\n",
       "      <td>dance pop</td>\n",
       "      <td>2019</td>\n",
       "      <td>104</td>\n",
       "      <td>66</td>\n",
       "      <td>61</td>\n",
       "      <td>-7</td>\n",
       "      <td>20</td>\n",
       "      <td>16</td>\n",
       "      <td>176</td>\n",
       "      <td>1</td>\n",
       "      <td>3</td>\n",
       "      <td>75</td>\n",
       "    </tr>\n",
       "    <tr>\n",
       "      <th>599</th>\n",
       "      <td>600</td>\n",
       "      <td>Cross Me (feat. Chance the Rapper &amp; PnB Rock)</td>\n",
       "      <td>Ed Sheeran</td>\n",
       "      <td>pop</td>\n",
       "      <td>2019</td>\n",
       "      <td>95</td>\n",
       "      <td>79</td>\n",
       "      <td>75</td>\n",
       "      <td>-6</td>\n",
       "      <td>7</td>\n",
       "      <td>61</td>\n",
       "      <td>206</td>\n",
       "      <td>21</td>\n",
       "      <td>12</td>\n",
       "      <td>75</td>\n",
       "    </tr>\n",
       "    <tr>\n",
       "      <th>600</th>\n",
       "      <td>601</td>\n",
       "      <td>No Brainer (feat. Justin Bieber, Chance the Ra...</td>\n",
       "      <td>DJ Khaled</td>\n",
       "      <td>dance pop</td>\n",
       "      <td>2019</td>\n",
       "      <td>136</td>\n",
       "      <td>76</td>\n",
       "      <td>53</td>\n",
       "      <td>-5</td>\n",
       "      <td>9</td>\n",
       "      <td>65</td>\n",
       "      <td>260</td>\n",
       "      <td>7</td>\n",
       "      <td>34</td>\n",
       "      <td>70</td>\n",
       "    </tr>\n",
       "    <tr>\n",
       "      <th>601</th>\n",
       "      <td>602</td>\n",
       "      <td>Nothing Breaks Like a Heart (feat. Miley Cyrus)</td>\n",
       "      <td>Mark Ronson</td>\n",
       "      <td>dance pop</td>\n",
       "      <td>2019</td>\n",
       "      <td>114</td>\n",
       "      <td>79</td>\n",
       "      <td>60</td>\n",
       "      <td>-6</td>\n",
       "      <td>42</td>\n",
       "      <td>24</td>\n",
       "      <td>217</td>\n",
       "      <td>1</td>\n",
       "      <td>7</td>\n",
       "      <td>69</td>\n",
       "    </tr>\n",
       "    <tr>\n",
       "      <th>602</th>\n",
       "      <td>603</td>\n",
       "      <td>Kills You Slowly</td>\n",
       "      <td>The Chainsmokers</td>\n",
       "      <td>electropop</td>\n",
       "      <td>2019</td>\n",
       "      <td>150</td>\n",
       "      <td>44</td>\n",
       "      <td>70</td>\n",
       "      <td>-9</td>\n",
       "      <td>13</td>\n",
       "      <td>23</td>\n",
       "      <td>213</td>\n",
       "      <td>6</td>\n",
       "      <td>6</td>\n",
       "      <td>67</td>\n",
       "    </tr>\n",
       "  </tbody>\n",
       "</table>\n",
       "<p>603 rows × 15 columns</p>\n",
       "</div>"
      ],
      "text/plain": [
       "     Unnamed: 0                                              title  \\\n",
       "0             1                                   Hey, Soul Sister   \n",
       "1             2                               Love The Way You Lie   \n",
       "2             3                                            TiK ToK   \n",
       "3             4                                        Bad Romance   \n",
       "4             5                               Just the Way You Are   \n",
       "..          ...                                                ...   \n",
       "598         599                Find U Again (feat. Camila Cabello)   \n",
       "599         600      Cross Me (feat. Chance the Rapper & PnB Rock)   \n",
       "600         601  No Brainer (feat. Justin Bieber, Chance the Ra...   \n",
       "601         602    Nothing Breaks Like a Heart (feat. Miley Cyrus)   \n",
       "602         603                                   Kills You Slowly   \n",
       "\n",
       "               artist        top genre  year  bpm  nrgy  dnce  dB  live  val  \\\n",
       "0               Train       neo mellow  2010   97    89    67  -4     8   80   \n",
       "1              Eminem  detroit hip hop  2010   87    93    75  -5    52   64   \n",
       "2               Kesha        dance pop  2010  120    84    76  -3    29   71   \n",
       "3           Lady Gaga        dance pop  2010  119    92    70  -4     8   71   \n",
       "4          Bruno Mars              pop  2010  109    84    64  -5     9   43   \n",
       "..                ...              ...   ...  ...   ...   ...  ..   ...  ...   \n",
       "598       Mark Ronson        dance pop  2019  104    66    61  -7    20   16   \n",
       "599        Ed Sheeran              pop  2019   95    79    75  -6     7   61   \n",
       "600         DJ Khaled        dance pop  2019  136    76    53  -5     9   65   \n",
       "601       Mark Ronson        dance pop  2019  114    79    60  -6    42   24   \n",
       "602  The Chainsmokers       electropop  2019  150    44    70  -9    13   23   \n",
       "\n",
       "     dur  acous  spch  pop  \n",
       "0    217     19     4   83  \n",
       "1    263     24    23   82  \n",
       "2    200     10    14   80  \n",
       "3    295      0     4   79  \n",
       "4    221      2     4   78  \n",
       "..   ...    ...   ...  ...  \n",
       "598  176      1     3   75  \n",
       "599  206     21    12   75  \n",
       "600  260      7    34   70  \n",
       "601  217      1     7   69  \n",
       "602  213      6     6   67  \n",
       "\n",
       "[603 rows x 15 columns]"
      ]
     },
     "execution_count": 6,
     "metadata": {},
     "output_type": "execute_result"
    }
   ],
   "source": [
    "# Dropping all missing values just in case there were any missed out\n",
    "df=df.dropna(axis = 0, how='any')\n",
    "df"
   ]
  },
  {
   "cell_type": "code",
   "execution_count": 7,
   "id": "9094a67b-b2a2-42bf-9e18-6149ac7a45da",
   "metadata": {},
   "outputs": [
    {
     "data": {
      "text/plain": [
       "(603, 15)"
      ]
     },
     "execution_count": 7,
     "metadata": {},
     "output_type": "execute_result"
    }
   ],
   "source": [
    "# Notice how it seems that the dataset has no missing values\n",
    "df.shape"
   ]
  },
  {
   "cell_type": "code",
   "execution_count": 8,
   "id": "b3837814-2da3-4ce4-bed8-201115917818",
   "metadata": {},
   "outputs": [
    {
     "data": {
      "text/plain": [
       "0"
      ]
     },
     "execution_count": 8,
     "metadata": {},
     "output_type": "execute_result"
    }
   ],
   "source": [
    "# Find out how many duplicated values are there in the dataset\n",
    "duplicated = df.duplicated().sum()\n",
    "duplicated"
   ]
  },
  {
   "cell_type": "code",
   "execution_count": 9,
   "id": "4eb57fef-50bd-49d0-8b58-8d1bae7e92f1",
   "metadata": {},
   "outputs": [
    {
     "data": {
      "text/plain": [
       "Index(['Unnamed: 0', 'title', 'artist', 'top genre', 'year', 'bpm', 'nrgy',\n",
       "       'dnce', 'dB', 'live', 'val', 'dur', 'acous', 'spch', 'pop'],\n",
       "      dtype='object')"
      ]
     },
     "execution_count": 9,
     "metadata": {},
     "output_type": "execute_result"
    }
   ],
   "source": [
    "# Find out what are the columns in the dataset\n",
    "df.columns"
   ]
  },
  {
   "cell_type": "code",
   "execution_count": 10,
   "id": "a19ed525-7af0-4e0b-9102-5eb7dd116668",
   "metadata": {},
   "outputs": [
    {
     "data": {
      "text/html": [
       "<div>\n",
       "<style scoped>\n",
       "    .dataframe tbody tr th:only-of-type {\n",
       "        vertical-align: middle;\n",
       "    }\n",
       "\n",
       "    .dataframe tbody tr th {\n",
       "        vertical-align: top;\n",
       "    }\n",
       "\n",
       "    .dataframe thead th {\n",
       "        text-align: right;\n",
       "    }\n",
       "</style>\n",
       "<table border=\"1\" class=\"dataframe\">\n",
       "  <thead>\n",
       "    <tr style=\"text-align: right;\">\n",
       "      <th></th>\n",
       "      <th>title</th>\n",
       "      <th>artist</th>\n",
       "      <th>top genre</th>\n",
       "      <th>year</th>\n",
       "      <th>bpm</th>\n",
       "      <th>nrgy</th>\n",
       "      <th>dnce</th>\n",
       "      <th>dB</th>\n",
       "      <th>live</th>\n",
       "      <th>val</th>\n",
       "      <th>dur</th>\n",
       "      <th>acous</th>\n",
       "      <th>spch</th>\n",
       "      <th>pop</th>\n",
       "    </tr>\n",
       "  </thead>\n",
       "  <tbody>\n",
       "    <tr>\n",
       "      <th>0</th>\n",
       "      <td>Hey, Soul Sister</td>\n",
       "      <td>Train</td>\n",
       "      <td>neo mellow</td>\n",
       "      <td>2010</td>\n",
       "      <td>97</td>\n",
       "      <td>89</td>\n",
       "      <td>67</td>\n",
       "      <td>-4</td>\n",
       "      <td>8</td>\n",
       "      <td>80</td>\n",
       "      <td>217</td>\n",
       "      <td>19</td>\n",
       "      <td>4</td>\n",
       "      <td>83</td>\n",
       "    </tr>\n",
       "    <tr>\n",
       "      <th>1</th>\n",
       "      <td>Love The Way You Lie</td>\n",
       "      <td>Eminem</td>\n",
       "      <td>detroit hip hop</td>\n",
       "      <td>2010</td>\n",
       "      <td>87</td>\n",
       "      <td>93</td>\n",
       "      <td>75</td>\n",
       "      <td>-5</td>\n",
       "      <td>52</td>\n",
       "      <td>64</td>\n",
       "      <td>263</td>\n",
       "      <td>24</td>\n",
       "      <td>23</td>\n",
       "      <td>82</td>\n",
       "    </tr>\n",
       "    <tr>\n",
       "      <th>2</th>\n",
       "      <td>TiK ToK</td>\n",
       "      <td>Kesha</td>\n",
       "      <td>dance pop</td>\n",
       "      <td>2010</td>\n",
       "      <td>120</td>\n",
       "      <td>84</td>\n",
       "      <td>76</td>\n",
       "      <td>-3</td>\n",
       "      <td>29</td>\n",
       "      <td>71</td>\n",
       "      <td>200</td>\n",
       "      <td>10</td>\n",
       "      <td>14</td>\n",
       "      <td>80</td>\n",
       "    </tr>\n",
       "    <tr>\n",
       "      <th>3</th>\n",
       "      <td>Bad Romance</td>\n",
       "      <td>Lady Gaga</td>\n",
       "      <td>dance pop</td>\n",
       "      <td>2010</td>\n",
       "      <td>119</td>\n",
       "      <td>92</td>\n",
       "      <td>70</td>\n",
       "      <td>-4</td>\n",
       "      <td>8</td>\n",
       "      <td>71</td>\n",
       "      <td>295</td>\n",
       "      <td>0</td>\n",
       "      <td>4</td>\n",
       "      <td>79</td>\n",
       "    </tr>\n",
       "    <tr>\n",
       "      <th>4</th>\n",
       "      <td>Just the Way You Are</td>\n",
       "      <td>Bruno Mars</td>\n",
       "      <td>pop</td>\n",
       "      <td>2010</td>\n",
       "      <td>109</td>\n",
       "      <td>84</td>\n",
       "      <td>64</td>\n",
       "      <td>-5</td>\n",
       "      <td>9</td>\n",
       "      <td>43</td>\n",
       "      <td>221</td>\n",
       "      <td>2</td>\n",
       "      <td>4</td>\n",
       "      <td>78</td>\n",
       "    </tr>\n",
       "    <tr>\n",
       "      <th>...</th>\n",
       "      <td>...</td>\n",
       "      <td>...</td>\n",
       "      <td>...</td>\n",
       "      <td>...</td>\n",
       "      <td>...</td>\n",
       "      <td>...</td>\n",
       "      <td>...</td>\n",
       "      <td>...</td>\n",
       "      <td>...</td>\n",
       "      <td>...</td>\n",
       "      <td>...</td>\n",
       "      <td>...</td>\n",
       "      <td>...</td>\n",
       "      <td>...</td>\n",
       "    </tr>\n",
       "    <tr>\n",
       "      <th>598</th>\n",
       "      <td>Find U Again (feat. Camila Cabello)</td>\n",
       "      <td>Mark Ronson</td>\n",
       "      <td>dance pop</td>\n",
       "      <td>2019</td>\n",
       "      <td>104</td>\n",
       "      <td>66</td>\n",
       "      <td>61</td>\n",
       "      <td>-7</td>\n",
       "      <td>20</td>\n",
       "      <td>16</td>\n",
       "      <td>176</td>\n",
       "      <td>1</td>\n",
       "      <td>3</td>\n",
       "      <td>75</td>\n",
       "    </tr>\n",
       "    <tr>\n",
       "      <th>599</th>\n",
       "      <td>Cross Me (feat. Chance the Rapper &amp; PnB Rock)</td>\n",
       "      <td>Ed Sheeran</td>\n",
       "      <td>pop</td>\n",
       "      <td>2019</td>\n",
       "      <td>95</td>\n",
       "      <td>79</td>\n",
       "      <td>75</td>\n",
       "      <td>-6</td>\n",
       "      <td>7</td>\n",
       "      <td>61</td>\n",
       "      <td>206</td>\n",
       "      <td>21</td>\n",
       "      <td>12</td>\n",
       "      <td>75</td>\n",
       "    </tr>\n",
       "    <tr>\n",
       "      <th>600</th>\n",
       "      <td>No Brainer (feat. Justin Bieber, Chance the Ra...</td>\n",
       "      <td>DJ Khaled</td>\n",
       "      <td>dance pop</td>\n",
       "      <td>2019</td>\n",
       "      <td>136</td>\n",
       "      <td>76</td>\n",
       "      <td>53</td>\n",
       "      <td>-5</td>\n",
       "      <td>9</td>\n",
       "      <td>65</td>\n",
       "      <td>260</td>\n",
       "      <td>7</td>\n",
       "      <td>34</td>\n",
       "      <td>70</td>\n",
       "    </tr>\n",
       "    <tr>\n",
       "      <th>601</th>\n",
       "      <td>Nothing Breaks Like a Heart (feat. Miley Cyrus)</td>\n",
       "      <td>Mark Ronson</td>\n",
       "      <td>dance pop</td>\n",
       "      <td>2019</td>\n",
       "      <td>114</td>\n",
       "      <td>79</td>\n",
       "      <td>60</td>\n",
       "      <td>-6</td>\n",
       "      <td>42</td>\n",
       "      <td>24</td>\n",
       "      <td>217</td>\n",
       "      <td>1</td>\n",
       "      <td>7</td>\n",
       "      <td>69</td>\n",
       "    </tr>\n",
       "    <tr>\n",
       "      <th>602</th>\n",
       "      <td>Kills You Slowly</td>\n",
       "      <td>The Chainsmokers</td>\n",
       "      <td>electropop</td>\n",
       "      <td>2019</td>\n",
       "      <td>150</td>\n",
       "      <td>44</td>\n",
       "      <td>70</td>\n",
       "      <td>-9</td>\n",
       "      <td>13</td>\n",
       "      <td>23</td>\n",
       "      <td>213</td>\n",
       "      <td>6</td>\n",
       "      <td>6</td>\n",
       "      <td>67</td>\n",
       "    </tr>\n",
       "  </tbody>\n",
       "</table>\n",
       "<p>603 rows × 14 columns</p>\n",
       "</div>"
      ],
      "text/plain": [
       "                                                 title            artist  \\\n",
       "0                                     Hey, Soul Sister             Train   \n",
       "1                                 Love The Way You Lie            Eminem   \n",
       "2                                              TiK ToK             Kesha   \n",
       "3                                          Bad Romance         Lady Gaga   \n",
       "4                                 Just the Way You Are        Bruno Mars   \n",
       "..                                                 ...               ...   \n",
       "598                Find U Again (feat. Camila Cabello)       Mark Ronson   \n",
       "599      Cross Me (feat. Chance the Rapper & PnB Rock)        Ed Sheeran   \n",
       "600  No Brainer (feat. Justin Bieber, Chance the Ra...         DJ Khaled   \n",
       "601    Nothing Breaks Like a Heart (feat. Miley Cyrus)       Mark Ronson   \n",
       "602                                   Kills You Slowly  The Chainsmokers   \n",
       "\n",
       "           top genre  year  bpm  nrgy  dnce  dB  live  val  dur  acous  spch  \\\n",
       "0         neo mellow  2010   97    89    67  -4     8   80  217     19     4   \n",
       "1    detroit hip hop  2010   87    93    75  -5    52   64  263     24    23   \n",
       "2          dance pop  2010  120    84    76  -3    29   71  200     10    14   \n",
       "3          dance pop  2010  119    92    70  -4     8   71  295      0     4   \n",
       "4                pop  2010  109    84    64  -5     9   43  221      2     4   \n",
       "..               ...   ...  ...   ...   ...  ..   ...  ...  ...    ...   ...   \n",
       "598        dance pop  2019  104    66    61  -7    20   16  176      1     3   \n",
       "599              pop  2019   95    79    75  -6     7   61  206     21    12   \n",
       "600        dance pop  2019  136    76    53  -5     9   65  260      7    34   \n",
       "601        dance pop  2019  114    79    60  -6    42   24  217      1     7   \n",
       "602       electropop  2019  150    44    70  -9    13   23  213      6     6   \n",
       "\n",
       "     pop  \n",
       "0     83  \n",
       "1     82  \n",
       "2     80  \n",
       "3     79  \n",
       "4     78  \n",
       "..   ...  \n",
       "598   75  \n",
       "599   75  \n",
       "600   70  \n",
       "601   69  \n",
       "602   67  \n",
       "\n",
       "[603 rows x 14 columns]"
      ]
     },
     "execution_count": 10,
     "metadata": {},
     "output_type": "execute_result"
    }
   ],
   "source": [
    "# Drop the column \"Index\" and reset the index of the dataset\n",
    "df.drop(['Unnamed: 0'], axis=1, inplace=True)\n",
    "df.reset_index(drop=True)"
   ]
  },
  {
   "cell_type": "code",
   "execution_count": 11,
   "id": "f596f596-eb28-4fe1-ab97-d34c0a36b803",
   "metadata": {},
   "outputs": [
    {
     "data": {
      "text/plain": [
       "(91.96000000000004, 18.0)"
      ]
     },
     "execution_count": 11,
     "metadata": {},
     "output_type": "execute_result"
    }
   ],
   "source": [
    "# Identifying the upper and lower limits\n",
    "upper_limit_pop = df['pop'].quantile(0.99)\n",
    "lower_limit_pop = df['pop'].quantile(0.01)\n",
    "upper_limit_pop, lower_limit_pop"
   ]
  },
  {
   "cell_type": "code",
   "execution_count": 12,
   "id": "0194764b-d1fa-42a1-a0a2-39fb2936d2ca",
   "metadata": {},
   "outputs": [],
   "source": [
    "# Trim the upper and lower limit data\n",
    "df = df[(df['pop'] <= upper_limit_pop) & (df['pop'] >= lower_limit_pop)]"
   ]
  },
  {
   "cell_type": "code",
   "execution_count": 13,
   "id": "9f831a7d-34f8-4fae-a090-79f85d1218e5",
   "metadata": {},
   "outputs": [
    {
     "data": {
      "text/plain": [
       "<seaborn.axisgrid.FacetGrid at 0x27760a97220>"
      ]
     },
     "execution_count": 13,
     "metadata": {},
     "output_type": "execute_result"
    },
    {
     "data": {
      "image/png": "[encoded data removed]",
      "text/plain": [
       "<Figure size 360x360 with 1 Axes>"
      ]
     },
     "metadata": {
      "needs_background": "light"
     },
     "output_type": "display_data"
    }
   ],
   "source": [
    "# Plot the new distribution plot for pop column\n",
    "sns.displot(df['pop'])"
   ]
  },
  {
   "cell_type": "code",
   "execution_count": 14,
   "id": "fdd83d9d-e81e-4c20-aae0-b2131db046df",
   "metadata": {},
   "outputs": [
    {
     "data": {
      "text/plain": [
       "(-3.0, -11.0)"
      ]
     },
     "execution_count": 14,
     "metadata": {},
     "output_type": "execute_result"
    }
   ],
   "source": [
    "# Identifying the upper and lower limits\n",
    "upper_limit_dB = df['dB'].quantile(0.99)\n",
    "lower_limit_dB = df['dB'].quantile(0.01)\n",
    "upper_limit_dB, lower_limit_dB"
   ]
  },
  {
   "cell_type": "code",
   "execution_count": 15,
   "id": "e5a33d29-9da5-48b1-9d58-dcd2faa7ea94",
   "metadata": {},
   "outputs": [],
   "source": [
    "# Trim the upper and lower limit data\n",
    "df = df[(df['dB'] <= upper_limit_dB) & (df['dB'] >= lower_limit_dB)]"
   ]
  },
  {
   "cell_type": "code",
   "execution_count": 16,
   "id": "3cfdaec4-fb15-44e3-a0bd-cbd9c7e17100",
   "metadata": {},
   "outputs": [
    {
     "data": {
      "text/plain": [
       "<seaborn.axisgrid.FacetGrid at 0x27760c3b9d0>"
      ]
     },
     "execution_count": 16,
     "metadata": {},
     "output_type": "execute_result"
    },
    {
     "data": {
      "image/png": "[encoded data removed]",
      "text/plain": [
       "<Figure size 360x360 with 1 Axes>"
      ]
     },
     "metadata": {
      "needs_background": "light"
     },
     "output_type": "display_data"
    }
   ],
   "source": [
    "# Plot the new distribution plot for dB column\n",
    "sns.displot(df['dB'])"
   ]
  },
  {
   "cell_type": "code",
   "execution_count": 17,
   "id": "e707cb4b-d225-484b-95b3-f152c4939772",
   "metadata": {},
   "outputs": [
    {
     "data": {
      "text/plain": [
       "(190.0, 75.81)"
      ]
     },
     "execution_count": 17,
     "metadata": {},
     "output_type": "execute_result"
    }
   ],
   "source": [
    "# Identifying the upper and lower limits\n",
    "upper_limit_bpm = df['bpm'].quantile(0.99)\n",
    "lower_limit_bpm = df['bpm'].quantile(0.01)\n",
    "upper_limit_bpm, lower_limit_bpm"
   ]
  },
  {
   "cell_type": "code",
   "execution_count": 18,
   "id": "10844a1d-5bbf-458c-b940-6b43e5d80c15",
   "metadata": {},
   "outputs": [],
   "source": [
    "# Trim the upper and lower limit data\n",
    "df = df[(df['bpm'] <= upper_limit_bpm) & (df['bpm'] >= lower_limit_bpm)]"
   ]
  },
  {
   "cell_type": "code",
   "execution_count": 19,
   "id": "1036c28f-9923-491f-9f01-44d2c2226f9f",
   "metadata": {},
   "outputs": [
    {
     "data": {
      "text/plain": [
       "<seaborn.axisgrid.FacetGrid at 0x27760ab16d0>"
      ]
     },
     "execution_count": 19,
     "metadata": {},
     "output_type": "execute_result"
    },
    {
     "data": {
      "image/png": "[encoded data removed]",
      "text/plain": [
       "<Figure size 360x360 with 1 Axes>"
      ]
     },
     "metadata": {
      "needs_background": "light"
     },
     "output_type": "display_data"
    }
   ],
   "source": [
    "# Plot the new distribution plot for bpm column\n",
    "sns.displot(df['bpm'])"
   ]
  },
  {
   "cell_type": "code",
   "execution_count": 20,
   "id": "a95fd212-f977-4574-a513-9b994da74b03",
   "metadata": {},
   "outputs": [
    {
     "data": {
      "text/plain": [
       "(95.0, 28.0)"
      ]
     },
     "execution_count": 20,
     "metadata": {},
     "output_type": "execute_result"
    }
   ],
   "source": [
    "# Identifying the upper and lower limits\n",
    "upper_limit_nrgy = df['nrgy'].quantile(0.99)\n",
    "lower_limit_nrgy = df['nrgy'].quantile(0.01)\n",
    "upper_limit_nrgy, lower_limit_nrgy"
   ]
  },
  {
   "cell_type": "code",
   "execution_count": 21,
   "id": "4cfec550-189f-4136-9dbb-cb2f518daf15",
   "metadata": {},
   "outputs": [],
   "source": [
    "# Trim the upper and lower limit data\n",
    "df = df[(df['nrgy'] <= upper_limit_nrgy) & (df['nrgy'] >= lower_limit_nrgy)]"
   ]
  },
  {
   "cell_type": "code",
   "execution_count": 22,
   "id": "c71dff66-843f-45c8-8d95-e7c406773872",
   "metadata": {},
   "outputs": [
    {
     "data": {
      "text/plain": [
       "<seaborn.axisgrid.FacetGrid at 0x27760bd0970>"
      ]
     },
     "execution_count": 22,
     "metadata": {},
     "output_type": "execute_result"
    },
    {
     "data": {
      "image/png": "[encoded data removed]",
      "text/plain": [
       "<Figure size 360x360 with 1 Axes>"
      ]
     },
     "metadata": {
      "needs_background": "light"
     },
     "output_type": "display_data"
    }
   ],
   "source": [
    "# Plot the new distribution plot for nrgy column\n",
    "sns.displot(df['nrgy'])"
   ]
  },
  {
   "cell_type": "code",
   "execution_count": 23,
   "id": "839b9015-3288-4b03-b2e8-191d2875ba0b",
   "metadata": {},
   "outputs": [
    {
     "data": {
      "text/plain": [
       "(93.0, 28.0)"
      ]
     },
     "execution_count": 23,
     "metadata": {},
     "output_type": "execute_result"
    }
   ],
   "source": [
    "# Identifying the upper and lower limits\n",
    "upper_limit_dnce = df['dnce'].quantile(0.99)\n",
    "lower_limit_dnce = df['dnce'].quantile(0.01)\n",
    "upper_limit_dnce, lower_limit_dnce"
   ]
  },
  {
   "cell_type": "code",
   "execution_count": 24,
   "id": "ef2fb275-de7a-4586-af7c-d6a74e717ad5",
   "metadata": {},
   "outputs": [],
   "source": [
    "# Trim the upper and lower limit data\n",
    "df = df[(df['dnce'] <= upper_limit_dnce) & (df['dnce'] >= lower_limit_dnce)]"
   ]
  },
  {
   "cell_type": "code",
   "execution_count": 25,
   "id": "3e1b2b11-1bcf-4f12-9b95-44a5118449aa",
   "metadata": {},
   "outputs": [
    {
     "data": {
      "text/plain": [
       "<seaborn.axisgrid.FacetGrid at 0x27760d5f400>"
      ]
     },
     "execution_count": 25,
     "metadata": {},
     "output_type": "execute_result"
    },
    {
     "data": {
      "image/png": "[encoded data removed]",
      "text/plain": [
       "<Figure size 360x360 with 1 Axes>"
      ]
     },
     "metadata": {
      "needs_background": "light"
     },
     "output_type": "display_data"
    }
   ],
   "source": [
    "# Plot the new distribution plot for dnce column\n",
    "sns.displot(df['dnce'])"
   ]
  },
  {
   "cell_type": "markdown",
   "id": "928d035e-2196-487c-8498-d758452f820d",
   "metadata": {},
   "source": [
    "## <font color= grey> Data Transormation"
   ]
  },
  {
   "cell_type": "code",
   "execution_count": 26,
   "id": "b090e377-1156-4639-b8e7-6965e0723be4",
   "metadata": {},
   "outputs": [],
   "source": [
    "# Generalise the genres into 9 different categories\n",
    "for genre in df['top genre']:\n",
    "    if 'pop' in genre :\n",
    "        df['top genre'] = df['top genre'].replace(genre, 'pop')\n",
    "    elif 'hip hop' in genre :\n",
    "        df['top genre'] = df['top genre'].replace(genre, 'hip hop')\n",
    "    elif 'rap' in genre :\n",
    "        df['top genre'] = df['top genre'].replace(genre, 'hip hop')\n",
    "    elif 'edm' in genre:\n",
    "        df['top genre'] = df['top genre'].replace(genre, 'edm')\n",
    "    elif 'r&b' in genre:\n",
    "        df['top genre'] = df['top genre'].replace(genre, 'pop')\n",
    "    elif 'latin' in genre:\n",
    "        df['top genre'] = df['top genre'].replace(genre, 'latin')\n",
    "    elif 'room' in genre:\n",
    "        df['top genre'] = df['top genre'].replace(genre, 'room')\n",
    "    elif 'electro' in genre:\n",
    "        df['top genre'] = df['top genre'].replace(genre, 'edm')\n",
    "    elif 'complextro' in genre:\n",
    "        df['top genre'] = df['top genre'].replace(genre, 'edm')\n",
    "    elif 'house' in genre:\n",
    "        df['top genre'] = df['top genre'].replace(genre, 'house')\n",
    "    else:\n",
    "        df['top genre'] = df['top genre'].replace(genre, 'others')"
   ]
  },
  {
   "cell_type": "code",
   "execution_count": 27,
   "id": "dc5b7120-3f75-49ac-a350-0d197a668b78",
   "metadata": {},
   "outputs": [
    {
     "data": {
      "text/html": [
       "<div>\n",
       "<style scoped>\n",
       "    .dataframe tbody tr th:only-of-type {\n",
       "        vertical-align: middle;\n",
       "    }\n",
       "\n",
       "    .dataframe tbody tr th {\n",
       "        vertical-align: top;\n",
       "    }\n",
       "\n",
       "    .dataframe thead th {\n",
       "        text-align: right;\n",
       "    }\n",
       "</style>\n",
       "<table border=\"1\" class=\"dataframe\">\n",
       "  <thead>\n",
       "    <tr style=\"text-align: right;\">\n",
       "      <th></th>\n",
       "      <th>title</th>\n",
       "      <th>artist</th>\n",
       "      <th>top genre</th>\n",
       "      <th>year</th>\n",
       "      <th>bpm</th>\n",
       "      <th>nrgy</th>\n",
       "      <th>dnce</th>\n",
       "      <th>dB</th>\n",
       "      <th>live</th>\n",
       "      <th>val</th>\n",
       "      <th>dur</th>\n",
       "      <th>acous</th>\n",
       "      <th>spch</th>\n",
       "      <th>pop</th>\n",
       "    </tr>\n",
       "  </thead>\n",
       "  <tbody>\n",
       "    <tr>\n",
       "      <th>0</th>\n",
       "      <td>Hey, Soul Sister</td>\n",
       "      <td>Train</td>\n",
       "      <td>others</td>\n",
       "      <td>2010</td>\n",
       "      <td>97</td>\n",
       "      <td>89</td>\n",
       "      <td>67</td>\n",
       "      <td>-4</td>\n",
       "      <td>8</td>\n",
       "      <td>80</td>\n",
       "      <td>217</td>\n",
       "      <td>19</td>\n",
       "      <td>4</td>\n",
       "      <td>83</td>\n",
       "    </tr>\n",
       "    <tr>\n",
       "      <th>1</th>\n",
       "      <td>Love The Way You Lie</td>\n",
       "      <td>Eminem</td>\n",
       "      <td>hip hop</td>\n",
       "      <td>2010</td>\n",
       "      <td>87</td>\n",
       "      <td>93</td>\n",
       "      <td>75</td>\n",
       "      <td>-5</td>\n",
       "      <td>52</td>\n",
       "      <td>64</td>\n",
       "      <td>263</td>\n",
       "      <td>24</td>\n",
       "      <td>23</td>\n",
       "      <td>82</td>\n",
       "    </tr>\n",
       "    <tr>\n",
       "      <th>2</th>\n",
       "      <td>TiK ToK</td>\n",
       "      <td>Kesha</td>\n",
       "      <td>pop</td>\n",
       "      <td>2010</td>\n",
       "      <td>120</td>\n",
       "      <td>84</td>\n",
       "      <td>76</td>\n",
       "      <td>-3</td>\n",
       "      <td>29</td>\n",
       "      <td>71</td>\n",
       "      <td>200</td>\n",
       "      <td>10</td>\n",
       "      <td>14</td>\n",
       "      <td>80</td>\n",
       "    </tr>\n",
       "    <tr>\n",
       "      <th>3</th>\n",
       "      <td>Bad Romance</td>\n",
       "      <td>Lady Gaga</td>\n",
       "      <td>pop</td>\n",
       "      <td>2010</td>\n",
       "      <td>119</td>\n",
       "      <td>92</td>\n",
       "      <td>70</td>\n",
       "      <td>-4</td>\n",
       "      <td>8</td>\n",
       "      <td>71</td>\n",
       "      <td>295</td>\n",
       "      <td>0</td>\n",
       "      <td>4</td>\n",
       "      <td>79</td>\n",
       "    </tr>\n",
       "    <tr>\n",
       "      <th>4</th>\n",
       "      <td>Just the Way You Are</td>\n",
       "      <td>Bruno Mars</td>\n",
       "      <td>pop</td>\n",
       "      <td>2010</td>\n",
       "      <td>109</td>\n",
       "      <td>84</td>\n",
       "      <td>64</td>\n",
       "      <td>-5</td>\n",
       "      <td>9</td>\n",
       "      <td>43</td>\n",
       "      <td>221</td>\n",
       "      <td>2</td>\n",
       "      <td>4</td>\n",
       "      <td>78</td>\n",
       "    </tr>\n",
       "  </tbody>\n",
       "</table>\n",
       "</div>"
      ],
      "text/plain": [
       "                  title      artist top genre  year  bpm  nrgy  dnce  dB  \\\n",
       "0      Hey, Soul Sister       Train    others  2010   97    89    67  -4   \n",
       "1  Love The Way You Lie      Eminem   hip hop  2010   87    93    75  -5   \n",
       "2               TiK ToK       Kesha       pop  2010  120    84    76  -3   \n",
       "3           Bad Romance   Lady Gaga       pop  2010  119    92    70  -4   \n",
       "4  Just the Way You Are  Bruno Mars       pop  2010  109    84    64  -5   \n",
       "\n",
       "   live  val  dur  acous  spch  pop  \n",
       "0     8   80  217     19     4   83  \n",
       "1    52   64  263     24    23   82  \n",
       "2    29   71  200     10    14   80  \n",
       "3     8   71  295      0     4   79  \n",
       "4     9   43  221      2     4   78  "
      ]
     },
     "execution_count": 27,
     "metadata": {},
     "output_type": "execute_result"
    }
   ],
   "source": [
    "# Print out first 5 values of dataset\n",
    "df.head()"
   ]
  },
  {
   "cell_type": "code",
   "execution_count": 28,
   "id": "e1e33114-be7c-4e00-b24f-656512166931",
   "metadata": {},
   "outputs": [],
   "source": [
    "# One hot encode the top genre column\n",
    "df = pd.get_dummies(df,columns=[\"top genre\"])"
   ]
  },
  {
   "cell_type": "code",
   "execution_count": 29,
   "id": "38c392cf-0bd7-4f06-8145-cfedcb223c47",
   "metadata": {},
   "outputs": [
    {
     "data": {
      "text/plain": [
       "title                object\n",
       "artist               object\n",
       "year                  int64\n",
       "bpm                   int64\n",
       "nrgy                  int64\n",
       "dnce                  int64\n",
       "dB                    int64\n",
       "live                  int64\n",
       "val                   int64\n",
       "dur                   int64\n",
       "acous                 int64\n",
       "spch                  int64\n",
       "pop                   int64\n",
       "top genre_edm         uint8\n",
       "top genre_hip hop     uint8\n",
       "top genre_house       uint8\n",
       "top genre_latin       uint8\n",
       "top genre_others      uint8\n",
       "top genre_pop         uint8\n",
       "top genre_room        uint8\n",
       "dtype: object"
      ]
     },
     "execution_count": 29,
     "metadata": {},
     "output_type": "execute_result"
    }
   ],
   "source": [
    "# Find out the datatypes of the data in dataset\n",
    "df.dtypes"
   ]
  },
  {
   "cell_type": "code",
   "execution_count": 30,
   "id": "cb320590-dd60-4ed0-9522-380f1e90c1b2",
   "metadata": {},
   "outputs": [
    {
     "data": {
      "text/html": [
       "<div>\n",
       "<style scoped>\n",
       "    .dataframe tbody tr th:only-of-type {\n",
       "        vertical-align: middle;\n",
       "    }\n",
       "\n",
       "    .dataframe tbody tr th {\n",
       "        vertical-align: top;\n",
       "    }\n",
       "\n",
       "    .dataframe thead th {\n",
       "        text-align: right;\n",
       "    }\n",
       "</style>\n",
       "<table border=\"1\" class=\"dataframe\">\n",
       "  <thead>\n",
       "    <tr style=\"text-align: right;\">\n",
       "      <th></th>\n",
       "      <th>title</th>\n",
       "      <th>artist</th>\n",
       "      <th>year</th>\n",
       "      <th>bpm</th>\n",
       "      <th>nrgy</th>\n",
       "      <th>dnce</th>\n",
       "      <th>dB</th>\n",
       "      <th>live</th>\n",
       "      <th>val</th>\n",
       "      <th>dur</th>\n",
       "      <th>acous</th>\n",
       "      <th>spch</th>\n",
       "      <th>pop</th>\n",
       "      <th>top genre_edm</th>\n",
       "      <th>top genre_hip hop</th>\n",
       "      <th>top genre_house</th>\n",
       "      <th>top genre_latin</th>\n",
       "      <th>top genre_others</th>\n",
       "      <th>top genre_pop</th>\n",
       "      <th>top genre_room</th>\n",
       "    </tr>\n",
       "  </thead>\n",
       "  <tbody>\n",
       "    <tr>\n",
       "      <th>0</th>\n",
       "      <td>Hey, Soul Sister</td>\n",
       "      <td>Train</td>\n",
       "      <td>2010</td>\n",
       "      <td>97</td>\n",
       "      <td>89</td>\n",
       "      <td>67</td>\n",
       "      <td>-4</td>\n",
       "      <td>8</td>\n",
       "      <td>80</td>\n",
       "      <td>3.616667</td>\n",
       "      <td>19</td>\n",
       "      <td>4</td>\n",
       "      <td>83</td>\n",
       "      <td>0</td>\n",
       "      <td>0</td>\n",
       "      <td>0</td>\n",
       "      <td>0</td>\n",
       "      <td>1</td>\n",
       "      <td>0</td>\n",
       "      <td>0</td>\n",
       "    </tr>\n",
       "    <tr>\n",
       "      <th>1</th>\n",
       "      <td>Love The Way You Lie</td>\n",
       "      <td>Eminem</td>\n",
       "      <td>2010</td>\n",
       "      <td>87</td>\n",
       "      <td>93</td>\n",
       "      <td>75</td>\n",
       "      <td>-5</td>\n",
       "      <td>52</td>\n",
       "      <td>64</td>\n",
       "      <td>4.383333</td>\n",
       "      <td>24</td>\n",
       "      <td>23</td>\n",
       "      <td>82</td>\n",
       "      <td>0</td>\n",
       "      <td>1</td>\n",
       "      <td>0</td>\n",
       "      <td>0</td>\n",
       "      <td>0</td>\n",
       "      <td>0</td>\n",
       "      <td>0</td>\n",
       "    </tr>\n",
       "    <tr>\n",
       "      <th>2</th>\n",
       "      <td>TiK ToK</td>\n",
       "      <td>Kesha</td>\n",
       "      <td>2010</td>\n",
       "      <td>120</td>\n",
       "      <td>84</td>\n",
       "      <td>76</td>\n",
       "      <td>-3</td>\n",
       "      <td>29</td>\n",
       "      <td>71</td>\n",
       "      <td>3.333333</td>\n",
       "      <td>10</td>\n",
       "      <td>14</td>\n",
       "      <td>80</td>\n",
       "      <td>0</td>\n",
       "      <td>0</td>\n",
       "      <td>0</td>\n",
       "      <td>0</td>\n",
       "      <td>0</td>\n",
       "      <td>1</td>\n",
       "      <td>0</td>\n",
       "    </tr>\n",
       "    <tr>\n",
       "      <th>3</th>\n",
       "      <td>Bad Romance</td>\n",
       "      <td>Lady Gaga</td>\n",
       "      <td>2010</td>\n",
       "      <td>119</td>\n",
       "      <td>92</td>\n",
       "      <td>70</td>\n",
       "      <td>-4</td>\n",
       "      <td>8</td>\n",
       "      <td>71</td>\n",
       "      <td>4.916667</td>\n",
       "      <td>0</td>\n",
       "      <td>4</td>\n",
       "      <td>79</td>\n",
       "      <td>0</td>\n",
       "      <td>0</td>\n",
       "      <td>0</td>\n",
       "      <td>0</td>\n",
       "      <td>0</td>\n",
       "      <td>1</td>\n",
       "      <td>0</td>\n",
       "    </tr>\n",
       "    <tr>\n",
       "      <th>4</th>\n",
       "      <td>Just the Way You Are</td>\n",
       "      <td>Bruno Mars</td>\n",
       "      <td>2010</td>\n",
       "      <td>109</td>\n",
       "      <td>84</td>\n",
       "      <td>64</td>\n",
       "      <td>-5</td>\n",
       "      <td>9</td>\n",
       "      <td>43</td>\n",
       "      <td>3.683333</td>\n",
       "      <td>2</td>\n",
       "      <td>4</td>\n",
       "      <td>78</td>\n",
       "      <td>0</td>\n",
       "      <td>0</td>\n",
       "      <td>0</td>\n",
       "      <td>0</td>\n",
       "      <td>0</td>\n",
       "      <td>1</td>\n",
       "      <td>0</td>\n",
       "    </tr>\n",
       "  </tbody>\n",
       "</table>\n",
       "</div>"
      ],
      "text/plain": [
       "                  title      artist  year  bpm  nrgy  dnce  dB  live  val  \\\n",
       "0      Hey, Soul Sister       Train  2010   97    89    67  -4     8   80   \n",
       "1  Love The Way You Lie      Eminem  2010   87    93    75  -5    52   64   \n",
       "2               TiK ToK       Kesha  2010  120    84    76  -3    29   71   \n",
       "3           Bad Romance   Lady Gaga  2010  119    92    70  -4     8   71   \n",
       "4  Just the Way You Are  Bruno Mars  2010  109    84    64  -5     9   43   \n",
       "\n",
       "        dur  acous  spch  pop  top genre_edm  top genre_hip hop  \\\n",
       "0  3.616667     19     4   83              0                  0   \n",
       "1  4.383333     24    23   82              0                  1   \n",
       "2  3.333333     10    14   80              0                  0   \n",
       "3  4.916667      0     4   79              0                  0   \n",
       "4  3.683333      2     4   78              0                  0   \n",
       "\n",
       "   top genre_house  top genre_latin  top genre_others  top genre_pop  \\\n",
       "0                0                0                 1              0   \n",
       "1                0                0                 0              0   \n",
       "2                0                0                 0              1   \n",
       "3                0                0                 0              1   \n",
       "4                0                0                 0              1   \n",
       "\n",
       "   top genre_room  \n",
       "0               0  \n",
       "1               0  \n",
       "2               0  \n",
       "3               0  \n",
       "4               0  "
      ]
     },
     "execution_count": 30,
     "metadata": {},
     "output_type": "execute_result"
    }
   ],
   "source": [
    "# Convert the duration into minutes by dividing the seconds by 60 to get the duration in minutes\n",
    "df['dur'] = df['dur'].div(60)\n",
    "df.head()"
   ]
  },
  {
   "cell_type": "code",
   "execution_count": 31,
   "id": "dd32ff57-ad5e-4fda-bb1f-2b4a6234490c",
   "metadata": {},
   "outputs": [],
   "source": [
    "# Round up duration to 2 decimal places\n",
    "df['dur'] = df['dur'].round(decimals = 2)"
   ]
  },
  {
   "cell_type": "code",
   "execution_count": 32,
   "id": "067a3220-9891-4221-9f58-5aab56502e69",
   "metadata": {},
   "outputs": [
    {
     "data": {
      "text/plain": [
       "0      3.62\n",
       "1      4.38\n",
       "2      3.33\n",
       "3      4.92\n",
       "4      3.68\n",
       "       ... \n",
       "598    2.93\n",
       "599    3.43\n",
       "600    4.33\n",
       "601    3.62\n",
       "602    3.55\n",
       "Name: dur, Length: 557, dtype: float64"
      ]
     },
     "execution_count": 32,
     "metadata": {},
     "output_type": "execute_result"
    }
   ],
   "source": [
    "# Check to see if we have transformed Duration (ms) properly\n",
    "df['dur']"
   ]
  },
  {
   "cell_type": "code",
   "execution_count": 33,
   "id": "bc918c93-6f7f-43e7-b8fb-6a6902a60c78",
   "metadata": {},
   "outputs": [
    {
     "data": {
      "text/plain": [
       "Index(['title', 'artist', 'year', 'bpm', 'nrgy', 'dnce', 'dB', 'live', 'val',\n",
       "       'dur', 'acous', 'spch', 'pop', 'top genre_edm', 'top genre_hip hop',\n",
       "       'top genre_house', 'top genre_latin', 'top genre_others',\n",
       "       'top genre_pop', 'top genre_room'],\n",
       "      dtype='object')"
      ]
     },
     "execution_count": 33,
     "metadata": {},
     "output_type": "execute_result"
    }
   ],
   "source": [
    "df.columns"
   ]
  },
  {
   "cell_type": "code",
   "execution_count": 34,
   "id": "12771bf0-c382-486a-87ba-677446bd8029",
   "metadata": {},
   "outputs": [],
   "source": [
    "# Rename columns respectively to provide more clarity to them \n",
    "df.rename(columns = {'year':'release year',\n",
    "                    'nrgy':'energy',\n",
    "                    'dnce':'danceability',\n",
    "                    'dB':'decibles',\n",
    "                    'live':'liveness',\n",
    "                    'val':'valence',\n",
    "                    'dur':'duration',\n",
    "                    'acous':'acoustic',\n",
    "                    'spch':'speechiness',\n",
    "                    'pop':'popularity'\n",
    "                            }, inplace=True)"
   ]
  },
  {
   "cell_type": "code",
   "execution_count": 35,
   "id": "52676ca1-a073-4222-9bd6-e470be168b46",
   "metadata": {},
   "outputs": [
    {
     "data": {
      "text/html": [
       "<div>\n",
       "<style scoped>\n",
       "    .dataframe tbody tr th:only-of-type {\n",
       "        vertical-align: middle;\n",
       "    }\n",
       "\n",
       "    .dataframe tbody tr th {\n",
       "        vertical-align: top;\n",
       "    }\n",
       "\n",
       "    .dataframe thead th {\n",
       "        text-align: right;\n",
       "    }\n",
       "</style>\n",
       "<table border=\"1\" class=\"dataframe\">\n",
       "  <thead>\n",
       "    <tr style=\"text-align: right;\">\n",
       "      <th></th>\n",
       "      <th>title</th>\n",
       "      <th>artist</th>\n",
       "      <th>release year</th>\n",
       "      <th>bpm</th>\n",
       "      <th>energy</th>\n",
       "      <th>danceability</th>\n",
       "      <th>decibles</th>\n",
       "      <th>liveness</th>\n",
       "      <th>valence</th>\n",
       "      <th>duration</th>\n",
       "      <th>acoustic</th>\n",
       "      <th>speechiness</th>\n",
       "      <th>popularity</th>\n",
       "      <th>top genre_edm</th>\n",
       "      <th>top genre_hip hop</th>\n",
       "      <th>top genre_house</th>\n",
       "      <th>top genre_latin</th>\n",
       "      <th>top genre_others</th>\n",
       "      <th>top genre_pop</th>\n",
       "      <th>top genre_room</th>\n",
       "    </tr>\n",
       "  </thead>\n",
       "  <tbody>\n",
       "    <tr>\n",
       "      <th>0</th>\n",
       "      <td>Hey, Soul Sister</td>\n",
       "      <td>Train</td>\n",
       "      <td>2010</td>\n",
       "      <td>97</td>\n",
       "      <td>89</td>\n",
       "      <td>67</td>\n",
       "      <td>-4</td>\n",
       "      <td>8</td>\n",
       "      <td>80</td>\n",
       "      <td>3.62</td>\n",
       "      <td>19</td>\n",
       "      <td>4</td>\n",
       "      <td>83</td>\n",
       "      <td>0</td>\n",
       "      <td>0</td>\n",
       "      <td>0</td>\n",
       "      <td>0</td>\n",
       "      <td>1</td>\n",
       "      <td>0</td>\n",
       "      <td>0</td>\n",
       "    </tr>\n",
       "    <tr>\n",
       "      <th>1</th>\n",
       "      <td>Love The Way You Lie</td>\n",
       "      <td>Eminem</td>\n",
       "      <td>2010</td>\n",
       "      <td>87</td>\n",
       "      <td>93</td>\n",
       "      <td>75</td>\n",
       "      <td>-5</td>\n",
       "      <td>52</td>\n",
       "      <td>64</td>\n",
       "      <td>4.38</td>\n",
       "      <td>24</td>\n",
       "      <td>23</td>\n",
       "      <td>82</td>\n",
       "      <td>0</td>\n",
       "      <td>1</td>\n",
       "      <td>0</td>\n",
       "      <td>0</td>\n",
       "      <td>0</td>\n",
       "      <td>0</td>\n",
       "      <td>0</td>\n",
       "    </tr>\n",
       "    <tr>\n",
       "      <th>2</th>\n",
       "      <td>TiK ToK</td>\n",
       "      <td>Kesha</td>\n",
       "      <td>2010</td>\n",
       "      <td>120</td>\n",
       "      <td>84</td>\n",
       "      <td>76</td>\n",
       "      <td>-3</td>\n",
       "      <td>29</td>\n",
       "      <td>71</td>\n",
       "      <td>3.33</td>\n",
       "      <td>10</td>\n",
       "      <td>14</td>\n",
       "      <td>80</td>\n",
       "      <td>0</td>\n",
       "      <td>0</td>\n",
       "      <td>0</td>\n",
       "      <td>0</td>\n",
       "      <td>0</td>\n",
       "      <td>1</td>\n",
       "      <td>0</td>\n",
       "    </tr>\n",
       "    <tr>\n",
       "      <th>3</th>\n",
       "      <td>Bad Romance</td>\n",
       "      <td>Lady Gaga</td>\n",
       "      <td>2010</td>\n",
       "      <td>119</td>\n",
       "      <td>92</td>\n",
       "      <td>70</td>\n",
       "      <td>-4</td>\n",
       "      <td>8</td>\n",
       "      <td>71</td>\n",
       "      <td>4.92</td>\n",
       "      <td>0</td>\n",
       "      <td>4</td>\n",
       "      <td>79</td>\n",
       "      <td>0</td>\n",
       "      <td>0</td>\n",
       "      <td>0</td>\n",
       "      <td>0</td>\n",
       "      <td>0</td>\n",
       "      <td>1</td>\n",
       "      <td>0</td>\n",
       "    </tr>\n",
       "    <tr>\n",
       "      <th>4</th>\n",
       "      <td>Just the Way You Are</td>\n",
       "      <td>Bruno Mars</td>\n",
       "      <td>2010</td>\n",
       "      <td>109</td>\n",
       "      <td>84</td>\n",
       "      <td>64</td>\n",
       "      <td>-5</td>\n",
       "      <td>9</td>\n",
       "      <td>43</td>\n",
       "      <td>3.68</td>\n",
       "      <td>2</td>\n",
       "      <td>4</td>\n",
       "      <td>78</td>\n",
       "      <td>0</td>\n",
       "      <td>0</td>\n",
       "      <td>0</td>\n",
       "      <td>0</td>\n",
       "      <td>0</td>\n",
       "      <td>1</td>\n",
       "      <td>0</td>\n",
       "    </tr>\n",
       "  </tbody>\n",
       "</table>\n",
       "</div>"
      ],
      "text/plain": [
       "                  title      artist  release year  bpm  energy  danceability  \\\n",
       "0      Hey, Soul Sister       Train          2010   97      89            67   \n",
       "1  Love The Way You Lie      Eminem          2010   87      93            75   \n",
       "2               TiK ToK       Kesha          2010  120      84            76   \n",
       "3           Bad Romance   Lady Gaga          2010  119      92            70   \n",
       "4  Just the Way You Are  Bruno Mars          2010  109      84            64   \n",
       "\n",
       "   decibles  liveness  valence  duration  acoustic  speechiness  popularity  \\\n",
       "0        -4         8       80      3.62        19            4          83   \n",
       "1        -5        52       64      4.38        24           23          82   \n",
       "2        -3        29       71      3.33        10           14          80   \n",
       "3        -4         8       71      4.92         0            4          79   \n",
       "4        -5         9       43      3.68         2            4          78   \n",
       "\n",
       "   top genre_edm  top genre_hip hop  top genre_house  top genre_latin  \\\n",
       "0              0                  0                0                0   \n",
       "1              0                  1                0                0   \n",
       "2              0                  0                0                0   \n",
       "3              0                  0                0                0   \n",
       "4              0                  0                0                0   \n",
       "\n",
       "   top genre_others  top genre_pop  top genre_room  \n",
       "0                 1              0               0  \n",
       "1                 0              0               0  \n",
       "2                 0              1               0  \n",
       "3                 0              1               0  \n",
       "4                 0              1               0  "
      ]
     },
     "execution_count": 35,
     "metadata": {},
     "output_type": "execute_result"
    }
   ],
   "source": [
    "df.head()"
   ]
  },
  {
   "cell_type": "code",
   "execution_count": 36,
   "id": "22c01e82-87ec-44b4-9d91-a7d4f2b2be17",
   "metadata": {},
   "outputs": [
    {
     "data": {
      "text/plain": [
       "Index(['title', 'artist', 'release year', 'bpm', 'energy', 'danceability',\n",
       "       'decibles', 'liveness', 'valence', 'duration', 'acoustic',\n",
       "       'speechiness', 'popularity', 'top genre_edm', 'top genre_hip hop',\n",
       "       'top genre_house', 'top genre_latin', 'top genre_others',\n",
       "       'top genre_pop', 'top genre_room'],\n",
       "      dtype='object')"
      ]
     },
     "execution_count": 36,
     "metadata": {},
     "output_type": "execute_result"
    }
   ],
   "source": [
    "# Check to see if columns have been renamed properly\n",
    "df.columns"
   ]
  },
  {
   "cell_type": "code",
   "execution_count": 37,
   "id": "eaa4050d-3382-47e2-ae8f-e804f2e13ca4",
   "metadata": {},
   "outputs": [],
   "source": [
    "# Bin the bpm into 5 categotical values\n",
    "# Find the min and max of bpm\n",
    "min_value_bpm = df['bpm'].min()\n",
    "max_value_bpm = df['bpm'].max()\n",
    "# Bin values equally into 5 bins between the min and max of bpm\n",
    "bpm_bins = np.linspace(min_value_bpm,max_value_bpm,6)\n",
    "bpm_labels = ['very slow', 'slow', 'average', 'fast', 'very fast']\n",
    "df['bpm'] = pd.cut(df['bpm'], bins=bpm_bins, labels=bpm_labels, include_lowest=True)"
   ]
  },
  {
   "cell_type": "code",
   "execution_count": 38,
   "id": "095b08a0-5864-4170-8b98-a5e5f85ddedb",
   "metadata": {},
   "outputs": [
    {
     "data": {
      "text/plain": [
       "<AxesSubplot:>"
      ]
     },
     "execution_count": 38,
     "metadata": {},
     "output_type": "execute_result"
    },
    {
     "data": {
      "image/png": "[encoded data removed]",
      "text/plain": [
       "<Figure size 432x288 with 1 Axes>"
      ]
     },
     "metadata": {
      "needs_background": "light"
     },
     "output_type": "display_data"
    }
   ],
   "source": [
    "# Check if the values have been binned properly using a bar chart\n",
    "df['bpm'].value_counts().plot(kind='bar')"
   ]
  },
  {
   "cell_type": "code",
   "execution_count": 39,
   "id": "670992e9-b73c-4e23-b075-1de8b2ad5026",
   "metadata": {},
   "outputs": [
    {
     "data": {
      "text/plain": [
       "slow         198\n",
       "average      188\n",
       "very slow    110\n",
       "fast          41\n",
       "very fast     20\n",
       "Name: bpm, dtype: int64"
      ]
     },
     "execution_count": 39,
     "metadata": {},
     "output_type": "execute_result"
    }
   ],
   "source": [
    "# Check if the values have been binned properly\n",
    "df['bpm'].value_counts()"
   ]
  },
  {
   "cell_type": "code",
   "execution_count": 40,
   "id": "2e90a0c6-bb73-4a96-8d04-054937496750",
   "metadata": {},
   "outputs": [],
   "source": [
    "# Bin energy into 5 categorical values\n",
    "# Find the min and max of energy\n",
    "min_value_energy = df['energy'].min()\n",
    "max_value_energy = df['energy'].max()\n",
    "# Bin values equally into 5 bins between the min and max of energy\n",
    "energy_bins = np.linspace(min_value_energy,max_value_energy,6)\n",
    "energy_labels = ['very unenergetic', 'unenergetic', 'average', 'energetic', 'very energetic']\n",
    "df['energy'] = pd.cut(df['energy'], bins=energy_bins, labels=energy_labels, include_lowest=True)"
   ]
  },
  {
   "cell_type": "code",
   "execution_count": 41,
   "id": "302eb1ab-a1c9-405f-a549-93cd9e6a4364",
   "metadata": {},
   "outputs": [
    {
     "data": {
      "text/plain": [
       "<AxesSubplot:>"
      ]
     },
     "execution_count": 41,
     "metadata": {},
     "output_type": "execute_result"
    },
    {
     "data": {
      "image/png": "[encoded data removed]",
      "text/plain": [
       "<Figure size 432x288 with 1 Axes>"
      ]
     },
     "metadata": {
      "needs_background": "light"
     },
     "output_type": "display_data"
    }
   ],
   "source": [
    "# Check if the values have been binned properly using a bar chart\n",
    "df['energy'].value_counts().plot(kind='bar')"
   ]
  },
  {
   "cell_type": "code",
   "execution_count": 42,
   "id": "1d597226-ba6c-4c74-b0c5-df96cfce7859",
   "metadata": {},
   "outputs": [
    {
     "data": {
      "text/plain": [
       "energetic           211\n",
       "very energetic      151\n",
       "average             123\n",
       "unenergetic          48\n",
       "very unenergetic     24\n",
       "Name: energy, dtype: int64"
      ]
     },
     "execution_count": 42,
     "metadata": {},
     "output_type": "execute_result"
    }
   ],
   "source": [
    "# Check if the values have been binned properly\n",
    "df['energy'].value_counts()"
   ]
  },
  {
   "cell_type": "code",
   "execution_count": 43,
   "id": "d1d5be22-1afb-45ea-81db-d16a9e2b8b2a",
   "metadata": {},
   "outputs": [],
   "source": [
    "# Bin danceability into 5 categorical values\n",
    "# Find the min and max of danceability\n",
    "min_value_danceability = df['danceability'].min()\n",
    "max_value_danceability = df['danceability'].max()\n",
    "# Bin values equally into 5 bins between the min and max of danceability\n",
    "danceability_bins = np.linspace(min_value_danceability,max_value_danceability,6)\n",
    "danceability_labels = ['very undanceable', 'undanceable', 'average', 'danceable', 'very danceable']\n",
    "df['danceability'] = pd.cut(df['danceability'], bins=danceability_bins, labels=danceability_labels, include_lowest=True)"
   ]
  },
  {
   "cell_type": "code",
   "execution_count": 44,
   "id": "c29230fc-1d54-4121-938e-a3afa3da4972",
   "metadata": {},
   "outputs": [
    {
     "data": {
      "text/plain": [
       "<AxesSubplot:>"
      ]
     },
     "execution_count": 44,
     "metadata": {},
     "output_type": "execute_result"
    },
    {
     "data": {
      "image/png": "[encoded data removed]",
      "text/plain": [
       "<Figure size 432x288 with 1 Axes>"
      ]
     },
     "metadata": {
      "needs_background": "light"
     },
     "output_type": "display_data"
    }
   ],
   "source": [
    "# Check if the values have been binned properly using a bar chart\n",
    "df['danceability'].value_counts().plot(kind='bar')"
   ]
  },
  {
   "cell_type": "code",
   "execution_count": 45,
   "id": "19ba3314-05b4-4a6f-9b3c-154b6a62ff89",
   "metadata": {},
   "outputs": [
    {
     "data": {
      "text/plain": [
       "average             214\n",
       "danceable           207\n",
       "undanceable          67\n",
       "very danceable       46\n",
       "very undanceable     23\n",
       "Name: danceability, dtype: int64"
      ]
     },
     "execution_count": 45,
     "metadata": {},
     "output_type": "execute_result"
    }
   ],
   "source": [
    "# Check if the values have been binned properly\n",
    "df['danceability'].value_counts()"
   ]
  },
  {
   "cell_type": "code",
   "execution_count": 46,
   "id": "86d4d9a6-f271-4826-96b5-9bc7ccf5d170",
   "metadata": {},
   "outputs": [],
   "source": [
    "# Bin decibles into 5 categorical values\n",
    "# Find the min and max of decibles\n",
    "min_value_decibles = df['decibles'].min()\n",
    "max_value_decibles = df['decibles'].max()\n",
    "# Bin values equally into 5 bins between the min and max of decibles\n",
    "decibles_bins = np.linspace(min_value_decibles,max_value_decibles,6)\n",
    "decibles_labels = ['very quiet', 'quiet', 'average', 'loud', 'very loud']\n",
    "df['decibles'] = pd.cut(df['decibles'], bins=decibles_bins, labels=decibles_labels, include_lowest=True)"
   ]
  },
  {
   "cell_type": "code",
   "execution_count": 47,
   "id": "603fe61d-d155-4879-80f2-56ca68862fe2",
   "metadata": {},
   "outputs": [
    {
     "data": {
      "text/plain": [
       "<AxesSubplot:>"
      ]
     },
     "execution_count": 47,
     "metadata": {},
     "output_type": "execute_result"
    },
    {
     "data": {
      "image/png": "[encoded data removed]",
      "text/plain": [
       "<Figure size 432x288 with 1 Axes>"
      ]
     },
     "metadata": {
      "needs_background": "light"
     },
     "output_type": "display_data"
    }
   ],
   "source": [
    "# Check if the values have been binned properly using a bar chart\n",
    "df['decibles'].value_counts().plot(kind='bar')"
   ]
  },
  {
   "cell_type": "code",
   "execution_count": 48,
   "id": "b2ea2957-7262-4200-b1cd-becead380fd5",
   "metadata": {},
   "outputs": [
    {
     "data": {
      "text/plain": [
       "loud          263\n",
       "very loud     168\n",
       "average        78\n",
       "quiet          39\n",
       "very quiet      9\n",
       "Name: decibles, dtype: int64"
      ]
     },
     "execution_count": 48,
     "metadata": {},
     "output_type": "execute_result"
    }
   ],
   "source": [
    "# Check if the values have been binned properly\n",
    "df['decibles'].value_counts()"
   ]
  },
  {
   "cell_type": "code",
   "execution_count": 49,
   "id": "8588f3ad-283e-4ac4-8003-afd636afb6fc",
   "metadata": {},
   "outputs": [],
   "source": [
    "# Bin valence into 5 categorical values\n",
    "# Find the min and max of valence\n",
    "min_value_valence = df['valence'].min()\n",
    "max_value_valence = df['valence'].max()\n",
    "# Bin values equally into 5 bins between the min and max of valence\n",
    "valence_bins = np.linspace(min_value_valence,max_value_valence,6)\n",
    "valence_labels = ['very negative', 'negative', 'average', 'positive', 'very positive']\n",
    "df['valence'] = pd.cut(df['valence'], bins=valence_bins, labels=valence_labels, include_lowest=True)"
   ]
  },
  {
   "cell_type": "code",
   "execution_count": 50,
   "id": "055cef10-d36b-4a67-a5aa-705c4713348f",
   "metadata": {},
   "outputs": [
    {
     "data": {
      "text/plain": [
       "<AxesSubplot:>"
      ]
     },
     "execution_count": 50,
     "metadata": {},
     "output_type": "execute_result"
    },
    {
     "data": {
      "image/png": "[encoded data removed]",
      "text/plain": [
       "<Figure size 432x288 with 1 Axes>"
      ]
     },
     "metadata": {
      "needs_background": "light"
     },
     "output_type": "display_data"
    }
   ],
   "source": [
    "# Check if the values have been binned properly using a bar chart\n",
    "df['valence'].value_counts().plot(kind='bar')"
   ]
  },
  {
   "cell_type": "code",
   "execution_count": 51,
   "id": "43c4fa01-674e-4543-a03d-b5f3407b8315",
   "metadata": {
    "tags": []
   },
   "outputs": [
    {
     "data": {
      "text/plain": [
       "average          164\n",
       "positive         138\n",
       "negative         123\n",
       "very positive     79\n",
       "very negative     53\n",
       "Name: valence, dtype: int64"
      ]
     },
     "execution_count": 51,
     "metadata": {},
     "output_type": "execute_result"
    }
   ],
   "source": [
    "# Check if the values have been binned properly\n",
    "df['valence'].value_counts()"
   ]
  },
  {
   "cell_type": "code",
   "execution_count": 52,
   "id": "550a2bf6-d689-4d1a-b4c1-da78ac8e3828",
   "metadata": {},
   "outputs": [],
   "source": [
    "# Bin duration into 5 categorical values\n",
    "# Find the min and max of duration\n",
    "min_value_duration = df['duration'].min()\n",
    "max_value_duration = df['duration'].max()\n",
    "# Bin values equally into 5 bins between the min and max of duration\n",
    "duration_bins = np.linspace(min_value_duration,max_value_duration,6)\n",
    "duration_labels = ['very slow', 'slow', 'average', 'fast', 'very fast']\n",
    "df['duration'] = pd.cut(df['duration'], bins=duration_bins, labels=duration_labels, include_lowest=True)"
   ]
  },
  {
   "cell_type": "code",
   "execution_count": 53,
   "id": "c27aa50a-7001-4219-9c27-8de452ea006c",
   "metadata": {},
   "outputs": [
    {
     "data": {
      "text/plain": [
       "<AxesSubplot:>"
      ]
     },
     "execution_count": 53,
     "metadata": {},
     "output_type": "execute_result"
    },
    {
     "data": {
      "image/png": "[encoded data removed]",
      "text/plain": [
       "<Figure size 432x288 with 1 Axes>"
      ]
     },
     "metadata": {
      "needs_background": "light"
     },
     "output_type": "display_data"
    }
   ],
   "source": [
    "# Check if the values have been binned properly using a bar chart\n",
    "df['duration'].value_counts().plot(kind='bar')"
   ]
  },
  {
   "cell_type": "code",
   "execution_count": 54,
   "id": "4bd8571f-cda7-4f6b-b9d8-71bf4d779604",
   "metadata": {},
   "outputs": [
    {
     "data": {
      "text/plain": [
       "slow         333\n",
       "very slow    150\n",
       "average       62\n",
       "fast           9\n",
       "very fast      3\n",
       "Name: duration, dtype: int64"
      ]
     },
     "execution_count": 54,
     "metadata": {},
     "output_type": "execute_result"
    }
   ],
   "source": [
    "# Check if the values have been binned properly\n",
    "df['duration'].value_counts()"
   ]
  },
  {
   "cell_type": "code",
   "execution_count": 55,
   "id": "36f67a90-8a1f-4ba9-a053-a1495b46d6d0",
   "metadata": {},
   "outputs": [],
   "source": [
    "# Bin acoustic into 5 categorical values\n",
    "# Find the min and max of acoustic\n",
    "min_value_acoustic = df['acoustic'].min()\n",
    "max_value_acoustic = df['acoustic'].max()\n",
    "# Bin values equally into 5 bins between the min and max of acoustic\n",
    "acoustic_bins = np.linspace(min_value_acoustic,max_value_acoustic,6)\n",
    "acoustic_labels = ['very little acoustic', 'a little acoustic', 'average', 'acoustic', 'very acoustic']\n",
    "df['acoustic'] = pd.cut(df['acoustic'], bins=acoustic_bins, labels=acoustic_labels, include_lowest=True)"
   ]
  },
  {
   "cell_type": "code",
   "execution_count": 56,
   "id": "686cbf59-36d6-4469-a47a-580012d23646",
   "metadata": {},
   "outputs": [
    {
     "data": {
      "text/plain": [
       "<AxesSubplot:>"
      ]
     },
     "execution_count": 56,
     "metadata": {},
     "output_type": "execute_result"
    },
    {
     "data": {
      "image/png": "[encoded data removed]",
      "text/plain": [
       "<Figure size 432x288 with 1 Axes>"
      ]
     },
     "metadata": {
      "needs_background": "light"
     },
     "output_type": "display_data"
    }
   ],
   "source": [
    "# Check if the values have been binned properly using a bar chart\n",
    "df['acoustic'].value_counts().plot(kind='bar')"
   ]
  },
  {
   "cell_type": "code",
   "execution_count": 57,
   "id": "ff3fbf49-9eb5-4d40-b4da-cf18e7fc54d5",
   "metadata": {},
   "outputs": [
    {
     "data": {
      "text/plain": [
       "very little acoustic    437\n",
       "a little acoustic        66\n",
       "average                  28\n",
       "acoustic                 13\n",
       "very acoustic            13\n",
       "Name: acoustic, dtype: int64"
      ]
     },
     "execution_count": 57,
     "metadata": {},
     "output_type": "execute_result"
    }
   ],
   "source": [
    "# Check if the values have been binned properly\n",
    "df['acoustic'].value_counts()"
   ]
  },
  {
   "cell_type": "code",
   "execution_count": 58,
   "id": "a4854775-a6b5-4567-98c3-31e700dbb359",
   "metadata": {},
   "outputs": [],
   "source": [
    "# Bin speechiness into 5 categorical values\n",
    "# Find the min and max of speechiness\n",
    "min_value_speechiness = df['speechiness'].min()\n",
    "max_value_speechiness = df['speechiness'].max()\n",
    "# Bin values equally into 5 bins between the min and max of speechiness\n",
    "speechiness_bins = np.linspace(min_value_speechiness,max_value_speechiness,6)\n",
    "speechiness_labels = ['very little speech', 'a little speech', 'average', 'speechy', 'very speechy']\n",
    "df['speechiness'] = pd.cut(df['speechiness'], bins=speechiness_bins, labels=speechiness_labels, include_lowest=True)"
   ]
  },
  {
   "cell_type": "code",
   "execution_count": 59,
   "id": "cc3c20fe-5974-4c9b-a16d-8f1528e43ecc",
   "metadata": {},
   "outputs": [
    {
     "data": {
      "text/plain": [
       "<AxesSubplot:>"
      ]
     },
     "execution_count": 59,
     "metadata": {},
     "output_type": "execute_result"
    },
    {
     "data": {
      "image/png": "[encoded data removed]",
      "text/plain": [
       "<Figure size 432x288 with 1 Axes>"
      ]
     },
     "metadata": {
      "needs_background": "light"
     },
     "output_type": "display_data"
    }
   ],
   "source": [
    "# Check if the values have been binned properly using a bar chart\n",
    "df['speechiness'].value_counts().plot(kind='bar')"
   ]
  },
  {
   "cell_type": "code",
   "execution_count": 60,
   "id": "e799cc24-8ffd-4034-98e0-01362386930b",
   "metadata": {},
   "outputs": [
    {
     "data": {
      "text/plain": [
       "very little speech    458\n",
       "a little speech        55\n",
       "average                26\n",
       "very speechy           10\n",
       "speechy                 8\n",
       "Name: speechiness, dtype: int64"
      ]
     },
     "execution_count": 60,
     "metadata": {},
     "output_type": "execute_result"
    }
   ],
   "source": [
    "# Check if the values have been binned properly\n",
    "df['speechiness'].value_counts()"
   ]
  },
  {
   "cell_type": "code",
   "execution_count": 61,
   "id": "df7e2610-190a-4fc2-a837-2a5bb7819e4a",
   "metadata": {},
   "outputs": [],
   "source": [
    "# Bin liveness into 5 categorical values\n",
    "# Find the min and max of liveness\n",
    "min_value_liveness = df['liveness'].min()\n",
    "max_value_liveness = df['liveness'].max()\n",
    "# Bin values equally into 5 bins between the min and max of liveness\n",
    "liveness_bins = np.linspace(min_value_liveness,max_value_liveness,6)\n",
    "liveness_labels = ['very prerecorded', 'prerecorded', 'mixed', 'live', 'very live']\n",
    "df['liveness'] = pd.cut(df['liveness'], bins=liveness_bins, labels=liveness_labels, include_lowest=True)"
   ]
  },
  {
   "cell_type": "code",
   "execution_count": 62,
   "id": "6e4d00dd-3d56-423c-99fa-4cf55a3ffc26",
   "metadata": {},
   "outputs": [
    {
     "data": {
      "text/plain": [
       "<AxesSubplot:>"
      ]
     },
     "execution_count": 62,
     "metadata": {},
     "output_type": "execute_result"
    },
    {
     "data": {
      "image/png": "[encoded data removed]",
      "text/plain": [
       "<Figure size 432x288 with 1 Axes>"
      ]
     },
     "metadata": {
      "needs_background": "light"
     },
     "output_type": "display_data"
    }
   ],
   "source": [
    "# Check if the values have been binned properly using a bar chart\n",
    "df['liveness'].value_counts().plot(kind='bar')"
   ]
  },
  {
   "cell_type": "code",
   "execution_count": 63,
   "id": "89ee6203-9a05-4a49-a201-4bc4158e6813",
   "metadata": {},
   "outputs": [],
   "source": [
    "# Bin popularity into 5 categorical values\n",
    "# Find the min and max of popularity\n",
    "min_value_popularity = df['popularity'].min()\n",
    "max_value_popularity = df['popularity'].max()\n",
    "# Bin values equally into 5 bins between the min and max of popularity\n",
    "popularity_bins = np.linspace(min_value_popularity,max_value_popularity,6)\n",
    "popularity_labels = ['very low popularity', 'low popularity', 'average popularity', 'high popularity', 'very high popularity']\n",
    "df['popularity'] = pd.cut(df['popularity'], bins=popularity_bins, labels=popularity_labels, include_lowest=True)"
   ]
  },
  {
   "cell_type": "code",
   "execution_count": 64,
   "id": "ab64a3f2-9f89-4621-b431-5950d18972e7",
   "metadata": {},
   "outputs": [
    {
     "data": {
      "text/plain": [
       "<AxesSubplot:>"
      ]
     },
     "execution_count": 64,
     "metadata": {},
     "output_type": "execute_result"
    },
    {
     "data": {
      "image/png": "[encoded data removed]",
      "text/plain": [
       "<Figure size 432x288 with 1 Axes>"
      ]
     },
     "metadata": {
      "needs_background": "light"
     },
     "output_type": "display_data"
    }
   ],
   "source": [
    "# Check if the values have been binned properly using a bar chart\n",
    "df['popularity'].value_counts().plot(kind='bar')"
   ]
  },
  {
   "cell_type": "code",
   "execution_count": 65,
   "id": "d08ff5d0-e9a0-45d1-885b-cd94fc0f0066",
   "metadata": {},
   "outputs": [
    {
     "data": {
      "text/plain": [
       "title                  object\n",
       "artist                 object\n",
       "release year            int64\n",
       "bpm                  category\n",
       "energy               category\n",
       "danceability         category\n",
       "decibles             category\n",
       "liveness             category\n",
       "valence              category\n",
       "duration             category\n",
       "acoustic             category\n",
       "speechiness          category\n",
       "popularity           category\n",
       "top genre_edm           uint8\n",
       "top genre_hip hop       uint8\n",
       "top genre_house         uint8\n",
       "top genre_latin         uint8\n",
       "top genre_others        uint8\n",
       "top genre_pop           uint8\n",
       "top genre_room          uint8\n",
       "dtype: object"
      ]
     },
     "execution_count": 65,
     "metadata": {},
     "output_type": "execute_result"
    }
   ],
   "source": [
    "df.dtypes"
   ]
  },
  {
   "cell_type": "markdown",
   "id": "2eca856a-111a-4468-b68e-e6ba0bd3a3f0",
   "metadata": {},
   "source": [
    "Below is code that helps to ordinally encode the categorical columns in the dataset"
   ]
  },
  {
   "cell_type": "code",
   "execution_count": 66,
   "id": "c75bab30-5038-423c-959f-59e0076dbee7",
   "metadata": {},
   "outputs": [],
   "source": [
    "encoded_bpm = {\"bpm\": {\"very slow\": 1, \"slow\": 2,\"average\":3,\"fast\":4,\"very fast\":5}}\n",
    "df.replace(encoded_bpm, inplace=True)"
   ]
  },
  {
   "cell_type": "code",
   "execution_count": 67,
   "id": "fbb8146b-4865-4b54-888a-04d4b615e449",
   "metadata": {},
   "outputs": [],
   "source": [
    "encoded_energy = {\"energy\": {\"very unenergetic\": 1, \"unenergetic\": 2,\"average\":3,\"energetic\":4,\"very energetic\":5}}\n",
    "df.replace(encoded_energy, inplace=True)"
   ]
  },
  {
   "cell_type": "code",
   "execution_count": 68,
   "id": "03c9120d-c656-45b0-af12-5714f1996a86",
   "metadata": {},
   "outputs": [],
   "source": [
    "encoded_danceability = {\"danceability\": {\"very undanceable\": 1, \"undanceable\": 2,\"average\":3,\"danceable\":4,\"very danceable\":5}}\n",
    "df.replace(encoded_danceability, inplace=True)"
   ]
  },
  {
   "cell_type": "code",
   "execution_count": 69,
   "id": "4c30310a-c3d1-4f24-b7f9-eb4e22167294",
   "metadata": {},
   "outputs": [],
   "source": [
    "encoded_decibles = {\"decibles\": {\"very quiet\": 1, \"quiet\": 2,\"average\":3,\"loud\":4,\"very loud\":5}}\n",
    "df.replace(encoded_decibles, inplace=True)"
   ]
  },
  {
   "cell_type": "code",
   "execution_count": 70,
   "id": "6edeabfb-bbd8-49b6-9abd-79a9164bfdc8",
   "metadata": {},
   "outputs": [],
   "source": [
    "encoded_liveness = {\"liveness\": {\"very prerecorded\": 1, \"prerecorded\": 2,\"mixed\":3,\"live\":4,\"very live\":5}}\n",
    "df.replace(encoded_liveness, inplace=True)"
   ]
  },
  {
   "cell_type": "code",
   "execution_count": 71,
   "id": "5004ca11-516a-4790-bd30-ffb50d92a129",
   "metadata": {},
   "outputs": [],
   "source": [
    "encoded_valence = {\"valence\": {\"very negative\": 1, \"negative\": 2,\"average\":3,\"positive\":4,\"very positive\":5}}\n",
    "df.replace(encoded_valence, inplace=True)"
   ]
  },
  {
   "cell_type": "code",
   "execution_count": 72,
   "id": "19272d51-38ba-4ca9-ba25-0288493cbfc0",
   "metadata": {},
   "outputs": [],
   "source": [
    "encoded_duration = {\"duration\": {\"very slow\": 1, \"slow\": 2,\"average\":3,\"fast\":4,\"very fast\":5}}\n",
    "df.replace(encoded_duration, inplace=True)"
   ]
  },
  {
   "cell_type": "code",
   "execution_count": 73,
   "id": "62cdbc58-0577-4d69-a87f-1de83a7fdcf3",
   "metadata": {},
   "outputs": [],
   "source": [
    "encoded_acoustic = {\"acoustic\": {\"very little acoustic\": 1, \"a little acoustic\": 2,\"average\":3,\"acoustic\":4,\"very acoustic\":5}}\n",
    "df.replace(encoded_acoustic, inplace=True)"
   ]
  },
  {
   "cell_type": "code",
   "execution_count": 74,
   "id": "fc21bf3f-70c9-4f0f-bfe1-2e063451f80e",
   "metadata": {},
   "outputs": [],
   "source": [
    "encoded_speechiness = {\"speechiness\": {\"very little speech\": 1, \"a little speech\": 2,\"average\":3,\"speechy\":4,\"very speechy\":5}}\n",
    "df.replace(encoded_speechiness, inplace=True)"
   ]
  },
  {
   "cell_type": "code",
   "execution_count": 75,
   "id": "fbe89947-215d-44e2-b7de-852b59e234ca",
   "metadata": {},
   "outputs": [],
   "source": [
    "encoded_popularity = {\"popularity\": {\"very low popularity\": 1, \"low popularity\": 2,\"average popularity\":3,\"high popularity\":4,\"very high popularity\":5}}\n",
    "df.replace(encoded_popularity, inplace=True)"
   ]
  },
  {
   "cell_type": "code",
   "execution_count": 76,
   "id": "9b968c04-eec6-4707-8e33-6bb5fd4bfcf0",
   "metadata": {},
   "outputs": [
    {
     "data": {
      "text/plain": [
       "title                object\n",
       "artist               object\n",
       "release year          int64\n",
       "bpm                   int64\n",
       "energy                int64\n",
       "danceability          int64\n",
       "decibles              int64\n",
       "liveness              int64\n",
       "valence               int64\n",
       "duration              int64\n",
       "acoustic              int64\n",
       "speechiness           int64\n",
       "popularity            int64\n",
       "top genre_edm         uint8\n",
       "top genre_hip hop     uint8\n",
       "top genre_house       uint8\n",
       "top genre_latin       uint8\n",
       "top genre_others      uint8\n",
       "top genre_pop         uint8\n",
       "top genre_room        uint8\n",
       "dtype: object"
      ]
     },
     "execution_count": 76,
     "metadata": {},
     "output_type": "execute_result"
    }
   ],
   "source": [
    "df.dtypes"
   ]
  },
  {
   "cell_type": "code",
   "execution_count": 77,
   "id": "1c60af60-9190-482d-82b6-3057c5253b0f",
   "metadata": {},
   "outputs": [
    {
     "data": {
      "text/html": [
       "<div>\n",
       "<style scoped>\n",
       "    .dataframe tbody tr th:only-of-type {\n",
       "        vertical-align: middle;\n",
       "    }\n",
       "\n",
       "    .dataframe tbody tr th {\n",
       "        vertical-align: top;\n",
       "    }\n",
       "\n",
       "    .dataframe thead th {\n",
       "        text-align: right;\n",
       "    }\n",
       "</style>\n",
       "<table border=\"1\" class=\"dataframe\">\n",
       "  <thead>\n",
       "    <tr style=\"text-align: right;\">\n",
       "      <th></th>\n",
       "      <th>title</th>\n",
       "      <th>artist</th>\n",
       "      <th>release year</th>\n",
       "      <th>bpm</th>\n",
       "      <th>energy</th>\n",
       "      <th>danceability</th>\n",
       "      <th>decibles</th>\n",
       "      <th>liveness</th>\n",
       "      <th>valence</th>\n",
       "      <th>duration</th>\n",
       "      <th>acoustic</th>\n",
       "      <th>speechiness</th>\n",
       "      <th>popularity</th>\n",
       "      <th>top genre_edm</th>\n",
       "      <th>top genre_hip hop</th>\n",
       "      <th>top genre_house</th>\n",
       "      <th>top genre_latin</th>\n",
       "      <th>top genre_others</th>\n",
       "      <th>top genre_pop</th>\n",
       "      <th>top genre_room</th>\n",
       "    </tr>\n",
       "  </thead>\n",
       "  <tbody>\n",
       "    <tr>\n",
       "      <th>0</th>\n",
       "      <td>Hey, Soul Sister</td>\n",
       "      <td>Train</td>\n",
       "      <td>2010</td>\n",
       "      <td>1</td>\n",
       "      <td>5</td>\n",
       "      <td>3</td>\n",
       "      <td>5</td>\n",
       "      <td>1</td>\n",
       "      <td>5</td>\n",
       "      <td>2</td>\n",
       "      <td>2</td>\n",
       "      <td>1</td>\n",
       "      <td>5</td>\n",
       "      <td>0</td>\n",
       "      <td>0</td>\n",
       "      <td>0</td>\n",
       "      <td>0</td>\n",
       "      <td>1</td>\n",
       "      <td>0</td>\n",
       "      <td>0</td>\n",
       "    </tr>\n",
       "    <tr>\n",
       "      <th>1</th>\n",
       "      <td>Love The Way You Lie</td>\n",
       "      <td>Eminem</td>\n",
       "      <td>2010</td>\n",
       "      <td>1</td>\n",
       "      <td>5</td>\n",
       "      <td>4</td>\n",
       "      <td>4</td>\n",
       "      <td>4</td>\n",
       "      <td>4</td>\n",
       "      <td>3</td>\n",
       "      <td>2</td>\n",
       "      <td>3</td>\n",
       "      <td>5</td>\n",
       "      <td>0</td>\n",
       "      <td>1</td>\n",
       "      <td>0</td>\n",
       "      <td>0</td>\n",
       "      <td>0</td>\n",
       "      <td>0</td>\n",
       "      <td>0</td>\n",
       "    </tr>\n",
       "    <tr>\n",
       "      <th>2</th>\n",
       "      <td>TiK ToK</td>\n",
       "      <td>Kesha</td>\n",
       "      <td>2010</td>\n",
       "      <td>2</td>\n",
       "      <td>5</td>\n",
       "      <td>4</td>\n",
       "      <td>5</td>\n",
       "      <td>2</td>\n",
       "      <td>4</td>\n",
       "      <td>1</td>\n",
       "      <td>1</td>\n",
       "      <td>2</td>\n",
       "      <td>5</td>\n",
       "      <td>0</td>\n",
       "      <td>0</td>\n",
       "      <td>0</td>\n",
       "      <td>0</td>\n",
       "      <td>0</td>\n",
       "      <td>1</td>\n",
       "      <td>0</td>\n",
       "    </tr>\n",
       "    <tr>\n",
       "      <th>3</th>\n",
       "      <td>Bad Romance</td>\n",
       "      <td>Lady Gaga</td>\n",
       "      <td>2010</td>\n",
       "      <td>2</td>\n",
       "      <td>5</td>\n",
       "      <td>4</td>\n",
       "      <td>5</td>\n",
       "      <td>1</td>\n",
       "      <td>4</td>\n",
       "      <td>3</td>\n",
       "      <td>1</td>\n",
       "      <td>1</td>\n",
       "      <td>5</td>\n",
       "      <td>0</td>\n",
       "      <td>0</td>\n",
       "      <td>0</td>\n",
       "      <td>0</td>\n",
       "      <td>0</td>\n",
       "      <td>1</td>\n",
       "      <td>0</td>\n",
       "    </tr>\n",
       "    <tr>\n",
       "      <th>4</th>\n",
       "      <td>Just the Way You Are</td>\n",
       "      <td>Bruno Mars</td>\n",
       "      <td>2010</td>\n",
       "      <td>2</td>\n",
       "      <td>5</td>\n",
       "      <td>3</td>\n",
       "      <td>4</td>\n",
       "      <td>1</td>\n",
       "      <td>3</td>\n",
       "      <td>2</td>\n",
       "      <td>1</td>\n",
       "      <td>1</td>\n",
       "      <td>5</td>\n",
       "      <td>0</td>\n",
       "      <td>0</td>\n",
       "      <td>0</td>\n",
       "      <td>0</td>\n",
       "      <td>0</td>\n",
       "      <td>1</td>\n",
       "      <td>0</td>\n",
       "    </tr>\n",
       "  </tbody>\n",
       "</table>\n",
       "</div>"
      ],
      "text/plain": [
       "                  title      artist  release year  bpm  energy  danceability  \\\n",
       "0      Hey, Soul Sister       Train          2010    1       5             3   \n",
       "1  Love The Way You Lie      Eminem          2010    1       5             4   \n",
       "2               TiK ToK       Kesha          2010    2       5             4   \n",
       "3           Bad Romance   Lady Gaga          2010    2       5             4   \n",
       "4  Just the Way You Are  Bruno Mars          2010    2       5             3   \n",
       "\n",
       "   decibles  liveness  valence  duration  acoustic  speechiness  popularity  \\\n",
       "0         5         1        5         2         2            1           5   \n",
       "1         4         4        4         3         2            3           5   \n",
       "2         5         2        4         1         1            2           5   \n",
       "3         5         1        4         3         1            1           5   \n",
       "4         4         1        3         2         1            1           5   \n",
       "\n",
       "   top genre_edm  top genre_hip hop  top genre_house  top genre_latin  \\\n",
       "0              0                  0                0                0   \n",
       "1              0                  1                0                0   \n",
       "2              0                  0                0                0   \n",
       "3              0                  0                0                0   \n",
       "4              0                  0                0                0   \n",
       "\n",
       "   top genre_others  top genre_pop  top genre_room  \n",
       "0                 1              0               0  \n",
       "1                 0              0               0  \n",
       "2                 0              1               0  \n",
       "3                 0              1               0  \n",
       "4                 0              1               0  "
      ]
     },
     "execution_count": 77,
     "metadata": {},
     "output_type": "execute_result"
    }
   ],
   "source": [
    "df.head()"
   ]
  },
  {
   "cell_type": "code",
   "execution_count": 78,
   "id": "9aba0563-ef15-4095-9f40-9fc0f37c8091",
   "metadata": {},
   "outputs": [],
   "source": [
    "# Rename columns respectively to provide more clarity to them \n",
    "df.rename(columns = {\"bpm\":\"speed\",\n",
    "                    \"decibles\":\"loudness\",\n",
    "                    \"duration\":\"length\",\n",
    "                     \"acoustic\":\"acousticness\",\n",
    "                            }, inplace=True)"
   ]
  },
  {
   "cell_type": "code",
   "execution_count": 79,
   "id": "fa15dd01-b59c-49d5-86fa-32621edb54fd",
   "metadata": {},
   "outputs": [],
   "source": [
    "# Convert the categorical data into numerical data\n",
    "df['speed'] = pd.factorize(df['speed'],sort=True)[0] + 1\n",
    "df['energy'] = pd.factorize(df['energy'],sort=True)[0] + 1\n",
    "df['danceability'] = pd.factorize(df['danceability'],sort=True)[0] + 1\n",
    "df['loudness'] = pd.factorize(df['loudness'],sort=True)[0] + 1\n",
    "df['liveness'] = pd.factorize(df['liveness'],sort=True)[0] + 1\n",
    "df['valence'] = pd.factorize(df['valence'],sort=True)[0] + 1\n",
    "df['length'] = pd.factorize(df['length'],sort=True)[0] + 1\n",
    "df['acousticness'] = pd.factorize(df['acousticness'],sort=True)[0] + 1\n",
    "df['speechiness'] = pd.factorize(df['speechiness'],sort=True)[0] + 1\n",
    "df['popularity'] = pd.factorize(df['popularity'],sort=True)[0] + 1"
   ]
  },
  {
   "cell_type": "code",
   "execution_count": 80,
   "id": "d58003b9-7e63-4de6-8bec-9c288d6828c8",
   "metadata": {},
   "outputs": [
    {
     "data": {
      "text/plain": [
       "title                object\n",
       "artist               object\n",
       "release year          int64\n",
       "speed                 int64\n",
       "energy                int64\n",
       "danceability          int64\n",
       "loudness              int64\n",
       "liveness              int64\n",
       "valence               int64\n",
       "length                int64\n",
       "acousticness          int64\n",
       "speechiness           int64\n",
       "popularity            int64\n",
       "top genre_edm         uint8\n",
       "top genre_hip hop     uint8\n",
       "top genre_house       uint8\n",
       "top genre_latin       uint8\n",
       "top genre_others      uint8\n",
       "top genre_pop         uint8\n",
       "top genre_room        uint8\n",
       "dtype: object"
      ]
     },
     "execution_count": 80,
     "metadata": {},
     "output_type": "execute_result"
    }
   ],
   "source": [
    "df.dtypes"
   ]
  },
  {
   "cell_type": "code",
   "execution_count": 81,
   "id": "c100e945-6d55-4235-bab1-a245c5e21ddc",
   "metadata": {},
   "outputs": [
    {
     "data": {
      "text/html": [
       "<div>\n",
       "<style scoped>\n",
       "    .dataframe tbody tr th:only-of-type {\n",
       "        vertical-align: middle;\n",
       "    }\n",
       "\n",
       "    .dataframe tbody tr th {\n",
       "        vertical-align: top;\n",
       "    }\n",
       "\n",
       "    .dataframe thead th {\n",
       "        text-align: right;\n",
       "    }\n",
       "</style>\n",
       "<table border=\"1\" class=\"dataframe\">\n",
       "  <thead>\n",
       "    <tr style=\"text-align: right;\">\n",
       "      <th></th>\n",
       "      <th>title</th>\n",
       "      <th>artist</th>\n",
       "      <th>release year</th>\n",
       "      <th>speed</th>\n",
       "      <th>energy</th>\n",
       "      <th>danceability</th>\n",
       "      <th>loudness</th>\n",
       "      <th>liveness</th>\n",
       "      <th>valence</th>\n",
       "      <th>length</th>\n",
       "      <th>acousticness</th>\n",
       "      <th>speechiness</th>\n",
       "      <th>popularity</th>\n",
       "      <th>top genre_edm</th>\n",
       "      <th>top genre_hip hop</th>\n",
       "      <th>top genre_house</th>\n",
       "      <th>top genre_latin</th>\n",
       "      <th>top genre_others</th>\n",
       "      <th>top genre_pop</th>\n",
       "      <th>top genre_room</th>\n",
       "    </tr>\n",
       "  </thead>\n",
       "  <tbody>\n",
       "    <tr>\n",
       "      <th>0</th>\n",
       "      <td>Hey, Soul Sister</td>\n",
       "      <td>Train</td>\n",
       "      <td>2010</td>\n",
       "      <td>1</td>\n",
       "      <td>5</td>\n",
       "      <td>3</td>\n",
       "      <td>5</td>\n",
       "      <td>1</td>\n",
       "      <td>5</td>\n",
       "      <td>2</td>\n",
       "      <td>2</td>\n",
       "      <td>1</td>\n",
       "      <td>5</td>\n",
       "      <td>0</td>\n",
       "      <td>0</td>\n",
       "      <td>0</td>\n",
       "      <td>0</td>\n",
       "      <td>1</td>\n",
       "      <td>0</td>\n",
       "      <td>0</td>\n",
       "    </tr>\n",
       "    <tr>\n",
       "      <th>1</th>\n",
       "      <td>Love The Way You Lie</td>\n",
       "      <td>Eminem</td>\n",
       "      <td>2010</td>\n",
       "      <td>1</td>\n",
       "      <td>5</td>\n",
       "      <td>4</td>\n",
       "      <td>4</td>\n",
       "      <td>4</td>\n",
       "      <td>4</td>\n",
       "      <td>3</td>\n",
       "      <td>2</td>\n",
       "      <td>3</td>\n",
       "      <td>5</td>\n",
       "      <td>0</td>\n",
       "      <td>1</td>\n",
       "      <td>0</td>\n",
       "      <td>0</td>\n",
       "      <td>0</td>\n",
       "      <td>0</td>\n",
       "      <td>0</td>\n",
       "    </tr>\n",
       "    <tr>\n",
       "      <th>2</th>\n",
       "      <td>TiK ToK</td>\n",
       "      <td>Kesha</td>\n",
       "      <td>2010</td>\n",
       "      <td>2</td>\n",
       "      <td>5</td>\n",
       "      <td>4</td>\n",
       "      <td>5</td>\n",
       "      <td>2</td>\n",
       "      <td>4</td>\n",
       "      <td>1</td>\n",
       "      <td>1</td>\n",
       "      <td>2</td>\n",
       "      <td>5</td>\n",
       "      <td>0</td>\n",
       "      <td>0</td>\n",
       "      <td>0</td>\n",
       "      <td>0</td>\n",
       "      <td>0</td>\n",
       "      <td>1</td>\n",
       "      <td>0</td>\n",
       "    </tr>\n",
       "    <tr>\n",
       "      <th>3</th>\n",
       "      <td>Bad Romance</td>\n",
       "      <td>Lady Gaga</td>\n",
       "      <td>2010</td>\n",
       "      <td>2</td>\n",
       "      <td>5</td>\n",
       "      <td>4</td>\n",
       "      <td>5</td>\n",
       "      <td>1</td>\n",
       "      <td>4</td>\n",
       "      <td>3</td>\n",
       "      <td>1</td>\n",
       "      <td>1</td>\n",
       "      <td>5</td>\n",
       "      <td>0</td>\n",
       "      <td>0</td>\n",
       "      <td>0</td>\n",
       "      <td>0</td>\n",
       "      <td>0</td>\n",
       "      <td>1</td>\n",
       "      <td>0</td>\n",
       "    </tr>\n",
       "    <tr>\n",
       "      <th>4</th>\n",
       "      <td>Just the Way You Are</td>\n",
       "      <td>Bruno Mars</td>\n",
       "      <td>2010</td>\n",
       "      <td>2</td>\n",
       "      <td>5</td>\n",
       "      <td>3</td>\n",
       "      <td>4</td>\n",
       "      <td>1</td>\n",
       "      <td>3</td>\n",
       "      <td>2</td>\n",
       "      <td>1</td>\n",
       "      <td>1</td>\n",
       "      <td>5</td>\n",
       "      <td>0</td>\n",
       "      <td>0</td>\n",
       "      <td>0</td>\n",
       "      <td>0</td>\n",
       "      <td>0</td>\n",
       "      <td>1</td>\n",
       "      <td>0</td>\n",
       "    </tr>\n",
       "  </tbody>\n",
       "</table>\n",
       "</div>"
      ],
      "text/plain": [
       "                  title      artist  release year  speed  energy  \\\n",
       "0      Hey, Soul Sister       Train          2010      1       5   \n",
       "1  Love The Way You Lie      Eminem          2010      1       5   \n",
       "2               TiK ToK       Kesha          2010      2       5   \n",
       "3           Bad Romance   Lady Gaga          2010      2       5   \n",
       "4  Just the Way You Are  Bruno Mars          2010      2       5   \n",
       "\n",
       "   danceability  loudness  liveness  valence  length  acousticness  \\\n",
       "0             3         5         1        5       2             2   \n",
       "1             4         4         4        4       3             2   \n",
       "2             4         5         2        4       1             1   \n",
       "3             4         5         1        4       3             1   \n",
       "4             3         4         1        3       2             1   \n",
       "\n",
       "   speechiness  popularity  top genre_edm  top genre_hip hop  top genre_house  \\\n",
       "0            1           5              0                  0                0   \n",
       "1            3           5              0                  1                0   \n",
       "2            2           5              0                  0                0   \n",
       "3            1           5              0                  0                0   \n",
       "4            1           5              0                  0                0   \n",
       "\n",
       "   top genre_latin  top genre_others  top genre_pop  top genre_room  \n",
       "0                0                 1              0               0  \n",
       "1                0                 0              0               0  \n",
       "2                0                 0              1               0  \n",
       "3                0                 0              1               0  \n",
       "4                0                 0              1               0  "
      ]
     },
     "execution_count": 81,
     "metadata": {},
     "output_type": "execute_result"
    }
   ],
   "source": [
    "df.head()"
   ]
  },
  {
   "cell_type": "code",
   "execution_count": 82,
   "id": "0f4d55f4-971d-4015-a43b-6943992cc50f",
   "metadata": {},
   "outputs": [
    {
     "data": {
      "text/plain": [
       "4    256\n",
       "5    155\n",
       "3    102\n",
       "2     33\n",
       "1     11\n",
       "Name: popularity, dtype: int64"
      ]
     },
     "execution_count": 82,
     "metadata": {},
     "output_type": "execute_result"
    }
   ],
   "source": [
    "df['popularity'].value_counts()"
   ]
  },
  {
   "cell_type": "markdown",
   "id": "97679b1d-29df-4366-831a-c7b368bf331f",
   "metadata": {
    "tags": []
   },
   "source": [
    "## <font color= grey> Correlation Analysis"
   ]
  },
  {
   "cell_type": "code",
   "execution_count": 83,
   "id": "a4810963-25db-4555-98d0-6b5de7bdae99",
   "metadata": {},
   "outputs": [],
   "source": [
    "# Drop title and artist as we want to evaluate the relation between musical factors/characteristics and popularity, and \n",
    "# title and artist do not have relation to the characteristics of music. (using domain knowledge)\n",
    "df.drop(['title','artist'], axis=1, inplace=True)"
   ]
  },
  {
   "cell_type": "code",
   "execution_count": 84,
   "id": "d20af32a-c778-4800-a99f-22c2c5ff6dd4",
   "metadata": {},
   "outputs": [
    {
     "data": {
      "text/plain": [
       "(557, 18)"
      ]
     },
     "execution_count": 84,
     "metadata": {},
     "output_type": "execute_result"
    }
   ],
   "source": [
    "df.shape"
   ]
  },
  {
   "cell_type": "code",
   "execution_count": 85,
   "id": "fd92609c-65a3-4bff-b8cb-e71c0fd7114e",
   "metadata": {},
   "outputs": [
    {
     "data": {
      "text/html": [
       "<style type=\"text/css\">\n",
       "#T_e28bf_row0_col0, #T_e28bf_row1_col1, #T_e28bf_row2_col2, #T_e28bf_row3_col3, #T_e28bf_row4_col4, #T_e28bf_row5_col5, #T_e28bf_row6_col6, #T_e28bf_row7_col7, #T_e28bf_row8_col8, #T_e28bf_row9_col9, #T_e28bf_row10_col10, #T_e28bf_row11_col11, #T_e28bf_row12_col12, #T_e28bf_row13_col13, #T_e28bf_row14_col14, #T_e28bf_row15_col15, #T_e28bf_row16_col16, #T_e28bf_row17_col17 {\n",
       "  background-color: #67000d;\n",
       "  color: #f1f1f1;\n",
       "}\n",
       "#T_e28bf_row0_col1, #T_e28bf_row7_col3, #T_e28bf_row8_col5, #T_e28bf_row12_col1, #T_e28bf_row15_col9 {\n",
       "  background-color: #fff0e9;\n",
       "  color: #000000;\n",
       "}\n",
       "#T_e28bf_row0_col2, #T_e28bf_row6_col9, #T_e28bf_row7_col9, #T_e28bf_row11_col14, #T_e28bf_row12_col14, #T_e28bf_row12_col16 {\n",
       "  background-color: #fdd7c6;\n",
       "  color: #000000;\n",
       "}\n",
       "#T_e28bf_row0_col3, #T_e28bf_row6_col14, #T_e28bf_row10_col6, #T_e28bf_row12_col9 {\n",
       "  background-color: #fcc2aa;\n",
       "  color: #000000;\n",
       "}\n",
       "#T_e28bf_row0_col4, #T_e28bf_row4_col10, #T_e28bf_row6_col13, #T_e28bf_row8_col1, #T_e28bf_row9_col3 {\n",
       "  background-color: #fee7db;\n",
       "  color: #000000;\n",
       "}\n",
       "#T_e28bf_row0_col5, #T_e28bf_row2_col0, #T_e28bf_row2_col8, #T_e28bf_row2_col10, #T_e28bf_row3_col1, #T_e28bf_row4_col9, #T_e28bf_row5_col10, #T_e28bf_row6_col7, #T_e28bf_row7_col6, #T_e28bf_row8_col2, #T_e28bf_row8_col4, #T_e28bf_row15_col3, #T_e28bf_row15_col16, #T_e28bf_row16_col11, #T_e28bf_row16_col12, #T_e28bf_row16_col13, #T_e28bf_row16_col14, #T_e28bf_row16_col15, #T_e28bf_row16_col17 {\n",
       "  background-color: #fff5f0;\n",
       "  color: #000000;\n",
       "}\n",
       "#T_e28bf_row0_col6, #T_e28bf_row8_col10, #T_e28bf_row8_col13, #T_e28bf_row9_col4, #T_e28bf_row11_col10, #T_e28bf_row12_col6, #T_e28bf_row17_col5 {\n",
       "  background-color: #fee1d3;\n",
       "  color: #000000;\n",
       "}\n",
       "#T_e28bf_row0_col7, #T_e28bf_row5_col0, #T_e28bf_row15_col10 {\n",
       "  background-color: #feeae0;\n",
       "  color: #000000;\n",
       "}\n",
       "#T_e28bf_row0_col8 {\n",
       "  background-color: #fc997a;\n",
       "  color: #000000;\n",
       "}\n",
       "#T_e28bf_row0_col9 {\n",
       "  background-color: #fee5d8;\n",
       "  color: #000000;\n",
       "}\n",
       "#T_e28bf_row0_col10, #T_e28bf_row2_col12, #T_e28bf_row10_col12, #T_e28bf_row13_col8 {\n",
       "  background-color: #fcb398;\n",
       "  color: #000000;\n",
       "}\n",
       "#T_e28bf_row0_col11, #T_e28bf_row5_col15, #T_e28bf_row10_col0, #T_e28bf_row16_col2 {\n",
       "  background-color: #fc9d7f;\n",
       "  color: #000000;\n",
       "}\n",
       "#T_e28bf_row0_col12, #T_e28bf_row0_col14, #T_e28bf_row3_col4, #T_e28bf_row12_col11, #T_e28bf_row14_col0 {\n",
       "  background-color: #fcbba1;\n",
       "  color: #000000;\n",
       "}\n",
       "#T_e28bf_row0_col13, #T_e28bf_row7_col13, #T_e28bf_row11_col4, #T_e28bf_row11_col16, #T_e28bf_row13_col14 {\n",
       "  background-color: #fdd4c2;\n",
       "  color: #000000;\n",
       "}\n",
       "#T_e28bf_row0_col15, #T_e28bf_row5_col2 {\n",
       "  background-color: #fc8767;\n",
       "  color: #f1f1f1;\n",
       "}\n",
       "#T_e28bf_row0_col16, #T_e28bf_row6_col15 {\n",
       "  background-color: #fca082;\n",
       "  color: #000000;\n",
       "}\n",
       "#T_e28bf_row0_col17, #T_e28bf_row5_col7, #T_e28bf_row16_col3 {\n",
       "  background-color: #fcb095;\n",
       "  color: #000000;\n",
       "}\n",
       "#T_e28bf_row1_col0, #T_e28bf_row7_col10, #T_e28bf_row10_col9 {\n",
       "  background-color: #ffece4;\n",
       "  color: #000000;\n",
       "}\n",
       "#T_e28bf_row1_col2, #T_e28bf_row7_col15 {\n",
       "  background-color: #fc8d6d;\n",
       "  color: #f1f1f1;\n",
       "}\n",
       "#T_e28bf_row1_col3 {\n",
       "  background-color: #fff2ec;\n",
       "  color: #000000;\n",
       "}\n",
       "#T_e28bf_row1_col4 {\n",
       "  background-color: #fcbda4;\n",
       "  color: #000000;\n",
       "}\n",
       "#T_e28bf_row1_col5, #T_e28bf_row1_col12, #T_e28bf_row2_col13, #T_e28bf_row4_col14, #T_e28bf_row8_col14, #T_e28bf_row9_col0, #T_e28bf_row12_col5, #T_e28bf_row13_col4 {\n",
       "  background-color: #fdd2bf;\n",
       "  color: #000000;\n",
       "}\n",
       "#T_e28bf_row1_col6, #T_e28bf_row2_col14, #T_e28bf_row4_col1, #T_e28bf_row11_col3 {\n",
       "  background-color: #fdcdb9;\n",
       "  color: #000000;\n",
       "}\n",
       "#T_e28bf_row1_col7, #T_e28bf_row3_col8, #T_e28bf_row5_col1, #T_e28bf_row14_col4, #T_e28bf_row17_col16 {\n",
       "  background-color: #fdc6b0;\n",
       "  color: #000000;\n",
       "}\n",
       "#T_e28bf_row1_col8, #T_e28bf_row2_col5, #T_e28bf_row5_col4, #T_e28bf_row11_col0, #T_e28bf_row15_col2 {\n",
       "  background-color: #fcbca2;\n",
       "  color: #000000;\n",
       "}\n",
       "#T_e28bf_row1_col9, #T_e28bf_row8_col3 {\n",
       "  background-color: #ffece3;\n",
       "  color: #000000;\n",
       "}\n",
       "#T_e28bf_row1_col10, #T_e28bf_row17_col9 {\n",
       "  background-color: #ffede5;\n",
       "  color: #000000;\n",
       "}\n",
       "#T_e28bf_row1_col11, #T_e28bf_row2_col1, #T_e28bf_row8_col11, #T_e28bf_row9_col7, #T_e28bf_row13_col11, #T_e28bf_row14_col6 {\n",
       "  background-color: #fcb79c;\n",
       "  color: #000000;\n",
       "}\n",
       "#T_e28bf_row1_col13, #T_e28bf_row2_col3, #T_e28bf_row8_col9, #T_e28bf_row10_col13, #T_e28bf_row13_col0, #T_e28bf_row13_col5 {\n",
       "  background-color: #fdd0bc;\n",
       "  color: #000000;\n",
       "}\n",
       "#T_e28bf_row1_col14, #T_e28bf_row11_col7, #T_e28bf_row14_col3 {\n",
       "  background-color: #fdc9b3;\n",
       "  color: #000000;\n",
       "}\n",
       "#T_e28bf_row1_col15, #T_e28bf_row4_col15, #T_e28bf_row9_col12 {\n",
       "  background-color: #fc9070;\n",
       "  color: #000000;\n",
       "}\n",
       "#T_e28bf_row1_col16 {\n",
       "  background-color: #fc8262;\n",
       "  color: #f1f1f1;\n",
       "}\n",
       "#T_e28bf_row1_col17, #T_e28bf_row2_col11, #T_e28bf_row9_col6, #T_e28bf_row14_col11, #T_e28bf_row17_col12 {\n",
       "  background-color: #fcb89e;\n",
       "  color: #000000;\n",
       "}\n",
       "#T_e28bf_row2_col4 {\n",
       "  background-color: #e22e27;\n",
       "  color: #f1f1f1;\n",
       "}\n",
       "#T_e28bf_row2_col6 {\n",
       "  background-color: #fb7656;\n",
       "  color: #f1f1f1;\n",
       "}\n",
       "#T_e28bf_row2_col7, #T_e28bf_row3_col5, #T_e28bf_row13_col9, #T_e28bf_row16_col0 {\n",
       "  background-color: #fee6da;\n",
       "  color: #000000;\n",
       "}\n",
       "#T_e28bf_row2_col9, #T_e28bf_row9_col1, #T_e28bf_row10_col14, #T_e28bf_row14_col5, #T_e28bf_row17_col3 {\n",
       "  background-color: #fee3d6;\n",
       "  color: #000000;\n",
       "}\n",
       "#T_e28bf_row2_col15, #T_e28bf_row9_col15 {\n",
       "  background-color: #fc9c7d;\n",
       "  color: #000000;\n",
       "}\n",
       "#T_e28bf_row2_col16, #T_e28bf_row7_col12 {\n",
       "  background-color: #fc8161;\n",
       "  color: #f1f1f1;\n",
       "}\n",
       "#T_e28bf_row2_col17, #T_e28bf_row4_col11, #T_e28bf_row8_col0, #T_e28bf_row10_col2, #T_e28bf_row17_col0 {\n",
       "  background-color: #fcc1a8;\n",
       "  color: #000000;\n",
       "}\n",
       "#T_e28bf_row3_col0, #T_e28bf_row5_col8, #T_e28bf_row5_col17, #T_e28bf_row15_col11, #T_e28bf_row16_col8 {\n",
       "  background-color: #fcbfa7;\n",
       "  color: #000000;\n",
       "}\n",
       "#T_e28bf_row3_col2, #T_e28bf_row9_col2, #T_e28bf_row10_col17, #T_e28bf_row12_col8, #T_e28bf_row13_col2 {\n",
       "  background-color: #fca689;\n",
       "  color: #000000;\n",
       "}\n",
       "#T_e28bf_row3_col6 {\n",
       "  background-color: #f6553c;\n",
       "  color: #f1f1f1;\n",
       "}\n",
       "#T_e28bf_row3_col7, #T_e28bf_row6_col0 {\n",
       "  background-color: #fee8dd;\n",
       "  color: #000000;\n",
       "}\n",
       "#T_e28bf_row3_col9 {\n",
       "  background-color: #fff3ed;\n",
       "  color: #000000;\n",
       "}\n",
       "#T_e28bf_row3_col10, #T_e28bf_row6_col5, #T_e28bf_row11_col13, #T_e28bf_row12_col0, #T_e28bf_row12_col13, #T_e28bf_row17_col6 {\n",
       "  background-color: #fedbcc;\n",
       "  color: #000000;\n",
       "}\n",
       "#T_e28bf_row3_col11, #T_e28bf_row12_col2 {\n",
       "  background-color: #fcad90;\n",
       "  color: #000000;\n",
       "}\n",
       "#T_e28bf_row3_col12, #T_e28bf_row17_col2 {\n",
       "  background-color: #fca98c;\n",
       "  color: #000000;\n",
       "}\n",
       "#T_e28bf_row3_col13 {\n",
       "  background-color: #fee9df;\n",
       "  color: #000000;\n",
       "}\n",
       "#T_e28bf_row3_col14, #T_e28bf_row4_col3, #T_e28bf_row5_col11, #T_e28bf_row10_col4, #T_e28bf_row11_col17, #T_e28bf_row12_col17, #T_e28bf_row15_col7 {\n",
       "  background-color: #fdc7b2;\n",
       "  color: #000000;\n",
       "}\n",
       "#T_e28bf_row3_col15, #T_e28bf_row7_col11 {\n",
       "  background-color: #fcb499;\n",
       "  color: #000000;\n",
       "}\n",
       "#T_e28bf_row3_col16, #T_e28bf_row8_col15 {\n",
       "  background-color: #fb7151;\n",
       "  color: #f1f1f1;\n",
       "}\n",
       "#T_e28bf_row3_col17, #T_e28bf_row10_col7, #T_e28bf_row13_col1 {\n",
       "  background-color: #fdd1be;\n",
       "  color: #000000;\n",
       "}\n",
       "#T_e28bf_row4_col0, #T_e28bf_row9_col10 {\n",
       "  background-color: #ffeee6;\n",
       "  color: #000000;\n",
       "}\n",
       "#T_e28bf_row4_col2 {\n",
       "  background-color: #d82422;\n",
       "  color: #f1f1f1;\n",
       "}\n",
       "#T_e28bf_row4_col5, #T_e28bf_row7_col1 {\n",
       "  background-color: #fed8c7;\n",
       "  color: #000000;\n",
       "}\n",
       "#T_e28bf_row4_col6, #T_e28bf_row6_col4 {\n",
       "  background-color: #fc8464;\n",
       "  color: #f1f1f1;\n",
       "}\n",
       "#T_e28bf_row4_col7, #T_e28bf_row7_col4 {\n",
       "  background-color: #fee3d7;\n",
       "  color: #000000;\n",
       "}\n",
       "#T_e28bf_row4_col8, #T_e28bf_row6_col10, #T_e28bf_row10_col1, #T_e28bf_row13_col10 {\n",
       "  background-color: #fee2d5;\n",
       "  color: #000000;\n",
       "}\n",
       "#T_e28bf_row4_col12, #T_e28bf_row5_col13, #T_e28bf_row9_col11, #T_e28bf_row17_col4 {\n",
       "  background-color: #fcc3ab;\n",
       "  color: #000000;\n",
       "}\n",
       "#T_e28bf_row4_col13 {\n",
       "  background-color: #fee1d4;\n",
       "  color: #000000;\n",
       "}\n",
       "#T_e28bf_row4_col16 {\n",
       "  background-color: #fc7f5f;\n",
       "  color: #f1f1f1;\n",
       "}\n",
       "#T_e28bf_row4_col17, #T_e28bf_row5_col6, #T_e28bf_row15_col12 {\n",
       "  background-color: #fcbea5;\n",
       "  color: #000000;\n",
       "}\n",
       "#T_e28bf_row5_col3, #T_e28bf_row13_col6, #T_e28bf_row15_col14, #T_e28bf_row16_col5, #T_e28bf_row17_col13 {\n",
       "  background-color: #fedaca;\n",
       "  color: #000000;\n",
       "}\n",
       "#T_e28bf_row5_col9, #T_e28bf_row7_col17, #T_e28bf_row9_col17, #T_e28bf_row14_col1, #T_e28bf_row17_col1 {\n",
       "  background-color: #fdcebb;\n",
       "  color: #000000;\n",
       "}\n",
       "#T_e28bf_row5_col12, #T_e28bf_row10_col8 {\n",
       "  background-color: #fca183;\n",
       "  color: #000000;\n",
       "}\n",
       "#T_e28bf_row5_col14 {\n",
       "  background-color: #fdd3c1;\n",
       "  color: #000000;\n",
       "}\n",
       "#T_e28bf_row5_col16, #T_e28bf_row9_col16 {\n",
       "  background-color: #fc8565;\n",
       "  color: #f1f1f1;\n",
       "}\n",
       "#T_e28bf_row6_col1, #T_e28bf_row15_col6 {\n",
       "  background-color: #fedfd0;\n",
       "  color: #000000;\n",
       "}\n",
       "#T_e28bf_row6_col2 {\n",
       "  background-color: #f96044;\n",
       "  color: #f1f1f1;\n",
       "}\n",
       "#T_e28bf_row6_col3 {\n",
       "  background-color: #f85f43;\n",
       "  color: #f1f1f1;\n",
       "}\n",
       "#T_e28bf_row6_col8, #T_e28bf_row7_col5, #T_e28bf_row15_col0, #T_e28bf_row15_col4, #T_e28bf_row17_col10 {\n",
       "  background-color: #fdccb8;\n",
       "  color: #000000;\n",
       "}\n",
       "#T_e28bf_row6_col11, #T_e28bf_row13_col12, #T_e28bf_row14_col12, #T_e28bf_row14_col16, #T_e28bf_row16_col4 {\n",
       "  background-color: #fcb69b;\n",
       "  color: #000000;\n",
       "}\n",
       "#T_e28bf_row6_col12, #T_e28bf_row11_col6 {\n",
       "  background-color: #fdcab5;\n",
       "  color: #000000;\n",
       "}\n",
       "#T_e28bf_row6_col16 {\n",
       "  background-color: #fb7050;\n",
       "  color: #f1f1f1;\n",
       "}\n",
       "#T_e28bf_row6_col17, #T_e28bf_row7_col14, #T_e28bf_row9_col14, #T_e28bf_row17_col7, #T_e28bf_row17_col14 {\n",
       "  background-color: #fdd5c4;\n",
       "  color: #000000;\n",
       "}\n",
       "#T_e28bf_row7_col0 {\n",
       "  background-color: #fff1ea;\n",
       "  color: #000000;\n",
       "}\n",
       "#T_e28bf_row7_col2, #T_e28bf_row9_col5, #T_e28bf_row12_col3, #T_e28bf_row14_col7, #T_e28bf_row15_col17, #T_e28bf_row16_col1 {\n",
       "  background-color: #fdcbb6;\n",
       "  color: #000000;\n",
       "}\n",
       "#T_e28bf_row7_col8 {\n",
       "  background-color: #fc8f6f;\n",
       "  color: #000000;\n",
       "}\n",
       "#T_e28bf_row7_col16 {\n",
       "  background-color: #fc9b7c;\n",
       "  color: #000000;\n",
       "}\n",
       "#T_e28bf_row8_col6, #T_e28bf_row12_col10, #T_e28bf_row13_col3, #T_e28bf_row14_col9 {\n",
       "  background-color: #fee7dc;\n",
       "  color: #000000;\n",
       "}\n",
       "#T_e28bf_row8_col7, #T_e28bf_row14_col8 {\n",
       "  background-color: #fcaa8d;\n",
       "  color: #000000;\n",
       "}\n",
       "#T_e28bf_row8_col12, #T_e28bf_row11_col8, #T_e28bf_row17_col8 {\n",
       "  background-color: #fcae92;\n",
       "  color: #000000;\n",
       "}\n",
       "#T_e28bf_row8_col16 {\n",
       "  background-color: #fc9e80;\n",
       "  color: #000000;\n",
       "}\n",
       "#T_e28bf_row8_col17, #T_e28bf_row10_col3, #T_e28bf_row13_col17, #T_e28bf_row14_col17 {\n",
       "  background-color: #fdc5ae;\n",
       "  color: #000000;\n",
       "}\n",
       "#T_e28bf_row9_col8, #T_e28bf_row17_col15 {\n",
       "  background-color: #fc9474;\n",
       "  color: #000000;\n",
       "}\n",
       "#T_e28bf_row9_col13, #T_e28bf_row12_col4, #T_e28bf_row14_col13, #T_e28bf_row16_col7 {\n",
       "  background-color: #fed9c9;\n",
       "  color: #000000;\n",
       "}\n",
       "#T_e28bf_row10_col5, #T_e28bf_row14_col10 {\n",
       "  background-color: #fff2eb;\n",
       "  color: #000000;\n",
       "}\n",
       "#T_e28bf_row10_col11 {\n",
       "  background-color: #fcab8f;\n",
       "  color: #000000;\n",
       "}\n",
       "#T_e28bf_row10_col15, #T_e28bf_row10_col16, #T_e28bf_row13_col15, #T_e28bf_row14_col15 {\n",
       "  background-color: #fc9272;\n",
       "  color: #000000;\n",
       "}\n",
       "#T_e28bf_row11_col1 {\n",
       "  background-color: #fedccd;\n",
       "  color: #000000;\n",
       "}\n",
       "#T_e28bf_row11_col2 {\n",
       "  background-color: #fcaf93;\n",
       "  color: #000000;\n",
       "}\n",
       "#T_e28bf_row11_col5 {\n",
       "  background-color: #fff0e8;\n",
       "  color: #000000;\n",
       "}\n",
       "#T_e28bf_row11_col9, #T_e28bf_row15_col5 {\n",
       "  background-color: #ffefe8;\n",
       "  color: #000000;\n",
       "}\n",
       "#T_e28bf_row11_col12, #T_e28bf_row17_col11 {\n",
       "  background-color: #fcb99f;\n",
       "  color: #000000;\n",
       "}\n",
       "#T_e28bf_row11_col15, #T_e28bf_row12_col15 {\n",
       "  background-color: #fc9777;\n",
       "  color: #000000;\n",
       "}\n",
       "#T_e28bf_row12_col7 {\n",
       "  background-color: #fc9373;\n",
       "  color: #000000;\n",
       "}\n",
       "#T_e28bf_row13_col7 {\n",
       "  background-color: #fcc4ad;\n",
       "  color: #000000;\n",
       "}\n",
       "#T_e28bf_row13_col16 {\n",
       "  background-color: #fcb296;\n",
       "  color: #000000;\n",
       "}\n",
       "#T_e28bf_row14_col2 {\n",
       "  background-color: #fca588;\n",
       "  color: #000000;\n",
       "}\n",
       "#T_e28bf_row15_col1, #T_e28bf_row15_col13, #T_e28bf_row16_col9 {\n",
       "  background-color: #fedecf;\n",
       "  color: #000000;\n",
       "}\n",
       "#T_e28bf_row15_col8 {\n",
       "  background-color: #fc8a6a;\n",
       "  color: #f1f1f1;\n",
       "}\n",
       "#T_e28bf_row16_col6 {\n",
       "  background-color: #fca285;\n",
       "  color: #000000;\n",
       "}\n",
       "#T_e28bf_row16_col10 {\n",
       "  background-color: #feeae1;\n",
       "  color: #000000;\n",
       "}\n",
       "</style>\n",
       "<table id=\"T_e28bf_\">\n",
       "  <thead>\n",
       "    <tr>\n",
       "      <th class=\"blank level0\" >&nbsp;</th>\n",
       "      <th class=\"col_heading level0 col0\" >release year</th>\n",
       "      <th class=\"col_heading level0 col1\" >speed</th>\n",
       "      <th class=\"col_heading level0 col2\" >energy</th>\n",
       "      <th class=\"col_heading level0 col3\" >danceability</th>\n",
       "      <th class=\"col_heading level0 col4\" >loudness</th>\n",
       "      <th class=\"col_heading level0 col5\" >liveness</th>\n",
       "      <th class=\"col_heading level0 col6\" >valence</th>\n",
       "      <th class=\"col_heading level0 col7\" >length</th>\n",
       "      <th class=\"col_heading level0 col8\" >acousticness</th>\n",
       "      <th class=\"col_heading level0 col9\" >speechiness</th>\n",
       "      <th class=\"col_heading level0 col10\" >popularity</th>\n",
       "      <th class=\"col_heading level0 col11\" >top genre_edm</th>\n",
       "      <th class=\"col_heading level0 col12\" >top genre_hip hop</th>\n",
       "      <th class=\"col_heading level0 col13\" >top genre_house</th>\n",
       "      <th class=\"col_heading level0 col14\" >top genre_latin</th>\n",
       "      <th class=\"col_heading level0 col15\" >top genre_others</th>\n",
       "      <th class=\"col_heading level0 col16\" >top genre_pop</th>\n",
       "      <th class=\"col_heading level0 col17\" >top genre_room</th>\n",
       "    </tr>\n",
       "  </thead>\n",
       "  <tbody>\n",
       "    <tr>\n",
       "      <th id=\"T_e28bf_level0_row0\" class=\"row_heading level0 row0\" >release year</th>\n",
       "      <td id=\"T_e28bf_row0_col0\" class=\"data row0 col0\" >1.000000</td>\n",
       "      <td id=\"T_e28bf_row0_col1\" class=\"data row0 col1\" >-0.142216</td>\n",
       "      <td id=\"T_e28bf_row0_col2\" class=\"data row0 col2\" >-0.205963</td>\n",
       "      <td id=\"T_e28bf_row0_col3\" class=\"data row0 col3\" >0.077221</td>\n",
       "      <td id=\"T_e28bf_row0_col4\" class=\"data row0 col4\" >-0.153812</td>\n",
       "      <td id=\"T_e28bf_row0_col5\" class=\"data row0 col5\" >-0.123272</td>\n",
       "      <td id=\"T_e28bf_row0_col6\" class=\"data row0 col6\" >-0.108342</td>\n",
       "      <td id=\"T_e28bf_row0_col7\" class=\"data row0 col7\" >-0.175608</td>\n",
       "      <td id=\"T_e28bf_row0_col8\" class=\"data row0 col8\" >0.075372</td>\n",
       "      <td id=\"T_e28bf_row0_col9\" class=\"data row0 col9\" >0.001637</td>\n",
       "      <td id=\"T_e28bf_row0_col10\" class=\"data row0 col10\" >0.205194</td>\n",
       "      <td id=\"T_e28bf_row0_col11\" class=\"data row0 col11\" >0.094404</td>\n",
       "      <td id=\"T_e28bf_row0_col12\" class=\"data row0 col12\" >-0.035738</td>\n",
       "      <td id=\"T_e28bf_row0_col13\" class=\"data row0 col13\" >0.013811</td>\n",
       "      <td id=\"T_e28bf_row0_col14\" class=\"data row0 col14\" >0.096392</td>\n",
       "      <td id=\"T_e28bf_row0_col15\" class=\"data row0 col15\" >0.025224</td>\n",
       "      <td id=\"T_e28bf_row0_col16\" class=\"data row0 col16\" >-0.096531</td>\n",
       "      <td id=\"T_e28bf_row0_col17\" class=\"data row0 col17\" >0.074222</td>\n",
       "    </tr>\n",
       "    <tr>\n",
       "      <th id=\"T_e28bf_level0_row1\" class=\"row_heading level0 row1\" >speed</th>\n",
       "      <td id=\"T_e28bf_row1_col0\" class=\"data row1 col0\" >-0.142216</td>\n",
       "      <td id=\"T_e28bf_row1_col1\" class=\"data row1 col1\" >1.000000</td>\n",
       "      <td id=\"T_e28bf_row1_col2\" class=\"data row1 col2\" >0.130666</td>\n",
       "      <td id=\"T_e28bf_row1_col3\" class=\"data row1 col3\" >-0.177676</td>\n",
       "      <td id=\"T_e28bf_row1_col4\" class=\"data row1 col4\" >0.044292</td>\n",
       "      <td id=\"T_e28bf_row1_col5\" class=\"data row1 col5\" >0.071177</td>\n",
       "      <td id=\"T_e28bf_row1_col6\" class=\"data row1 col6\" >-0.021967</td>\n",
       "      <td id=\"T_e28bf_row1_col7\" class=\"data row1 col7\" >0.005424</td>\n",
       "      <td id=\"T_e28bf_row1_col8\" class=\"data row1 col8\" >-0.074687</td>\n",
       "      <td id=\"T_e28bf_row1_col9\" class=\"data row1 col9\" >-0.045078</td>\n",
       "      <td id=\"T_e28bf_row1_col10\" class=\"data row1 col10\" >-0.044038</td>\n",
       "      <td id=\"T_e28bf_row1_col11\" class=\"data row1 col11\" >-0.014207</td>\n",
       "      <td id=\"T_e28bf_row1_col12\" class=\"data row1 col12\" >-0.143384</td>\n",
       "      <td id=\"T_e28bf_row1_col13\" class=\"data row1 col13\" >0.030246</td>\n",
       "      <td id=\"T_e28bf_row1_col14\" class=\"data row1 col14\" >0.038613</td>\n",
       "      <td id=\"T_e28bf_row1_col15\" class=\"data row1 col15\" >-0.018305</td>\n",
       "      <td id=\"T_e28bf_row1_col16\" class=\"data row1 col16\" >0.053645</td>\n",
       "      <td id=\"T_e28bf_row1_col17\" class=\"data row1 col17\" >0.041313</td>\n",
       "    </tr>\n",
       "    <tr>\n",
       "      <th id=\"T_e28bf_level0_row2\" class=\"row_heading level0 row2\" >energy</th>\n",
       "      <td id=\"T_e28bf_row2_col0\" class=\"data row2 col0\" >-0.205963</td>\n",
       "      <td id=\"T_e28bf_row2_col1\" class=\"data row2 col1\" >0.130666</td>\n",
       "      <td id=\"T_e28bf_row2_col2\" class=\"data row2 col2\" >1.000000</td>\n",
       "      <td id=\"T_e28bf_row2_col3\" class=\"data row2 col3\" >0.019137</td>\n",
       "      <td id=\"T_e28bf_row2_col4\" class=\"data row2 col4\" >0.580326</td>\n",
       "      <td id=\"T_e28bf_row2_col5\" class=\"data row2 col5\" >0.154047</td>\n",
       "      <td id=\"T_e28bf_row2_col6\" class=\"data row2 col6\" >0.320577</td>\n",
       "      <td id=\"T_e28bf_row2_col7\" class=\"data row2 col7\" >-0.149623</td>\n",
       "      <td id=\"T_e28bf_row2_col8\" class=\"data row2 col8\" >-0.431781</td>\n",
       "      <td id=\"T_e28bf_row2_col9\" class=\"data row2 col9\" >0.017055</td>\n",
       "      <td id=\"T_e28bf_row2_col10\" class=\"data row2 col10\" >-0.097496</td>\n",
       "      <td id=\"T_e28bf_row2_col11\" class=\"data row2 col11\" >-0.019734</td>\n",
       "      <td id=\"T_e28bf_row2_col12\" class=\"data row2 col12\" >-0.007042</td>\n",
       "      <td id=\"T_e28bf_row2_col13\" class=\"data row2 col13\" >0.019837</td>\n",
       "      <td id=\"T_e28bf_row2_col14\" class=\"data row2 col14\" >0.022199</td>\n",
       "      <td id=\"T_e28bf_row2_col15\" class=\"data row2 col15\" >-0.077578</td>\n",
       "      <td id=\"T_e28bf_row2_col16\" class=\"data row2 col16\" >0.055439</td>\n",
       "      <td id=\"T_e28bf_row2_col17\" class=\"data row2 col17\" >0.006443</td>\n",
       "    </tr>\n",
       "    <tr>\n",
       "      <th id=\"T_e28bf_level0_row3\" class=\"row_heading level0 row3\" >danceability</th>\n",
       "      <td id=\"T_e28bf_row3_col0\" class=\"data row3 col0\" >0.077221</td>\n",
       "      <td id=\"T_e28bf_row3_col1\" class=\"data row3 col1\" >-0.177676</td>\n",
       "      <td id=\"T_e28bf_row3_col2\" class=\"data row3 col2\" >0.019137</td>\n",
       "      <td id=\"T_e28bf_row3_col3\" class=\"data row3 col3\" >1.000000</td>\n",
       "      <td id=\"T_e28bf_row3_col4\" class=\"data row3 col4\" >0.053601</td>\n",
       "      <td id=\"T_e28bf_row3_col5\" class=\"data row3 col5\" >-0.022210</td>\n",
       "      <td id=\"T_e28bf_row3_col6\" class=\"data row3 col6\" >0.438431</td>\n",
       "      <td id=\"T_e28bf_row3_col7\" class=\"data row3 col7\" >-0.162045</td>\n",
       "      <td id=\"T_e28bf_row3_col8\" class=\"data row3 col8\" >-0.128173</td>\n",
       "      <td id=\"T_e28bf_row3_col9\" class=\"data row3 col9\" >-0.091298</td>\n",
       "      <td id=\"T_e28bf_row3_col10\" class=\"data row3 col10\" >0.060408</td>\n",
       "      <td id=\"T_e28bf_row3_col11\" class=\"data row3 col11\" >0.030515</td>\n",
       "      <td id=\"T_e28bf_row3_col12\" class=\"data row3 col12\" >0.037059</td>\n",
       "      <td id=\"T_e28bf_row3_col13\" class=\"data row3 col13\" >-0.098500</td>\n",
       "      <td id=\"T_e28bf_row3_col14\" class=\"data row3 col14\" >0.047395</td>\n",
       "      <td id=\"T_e28bf_row3_col15\" class=\"data row3 col15\" >-0.197288</td>\n",
       "      <td id=\"T_e28bf_row3_col16\" class=\"data row3 col16\" >0.143611</td>\n",
       "      <td id=\"T_e28bf_row3_col17\" class=\"data row3 col17\" >-0.062690</td>\n",
       "    </tr>\n",
       "    <tr>\n",
       "      <th id=\"T_e28bf_level0_row4\" class=\"row_heading level0 row4\" >loudness</th>\n",
       "      <td id=\"T_e28bf_row4_col0\" class=\"data row4 col0\" >-0.153812</td>\n",
       "      <td id=\"T_e28bf_row4_col1\" class=\"data row4 col1\" >0.044292</td>\n",
       "      <td id=\"T_e28bf_row4_col2\" class=\"data row4 col2\" >0.580326</td>\n",
       "      <td id=\"T_e28bf_row4_col3\" class=\"data row4 col3\" >0.053601</td>\n",
       "      <td id=\"T_e28bf_row4_col4\" class=\"data row4 col4\" >1.000000</td>\n",
       "      <td id=\"T_e28bf_row4_col5\" class=\"data row4 col5\" >0.047945</td>\n",
       "      <td id=\"T_e28bf_row4_col6\" class=\"data row4 col6\" >0.266824</td>\n",
       "      <td id=\"T_e28bf_row4_col7\" class=\"data row4 col7\" >-0.126839</td>\n",
       "      <td id=\"T_e28bf_row4_col8\" class=\"data row4 col8\" >-0.264420</td>\n",
       "      <td id=\"T_e28bf_row4_col9\" class=\"data row4 col9\" >-0.107366</td>\n",
       "      <td id=\"T_e28bf_row4_col10\" class=\"data row4 col10\" >-0.002563</td>\n",
       "      <td id=\"T_e28bf_row4_col11\" class=\"data row4 col11\" >-0.052761</td>\n",
       "      <td id=\"T_e28bf_row4_col12\" class=\"data row4 col12\" >-0.073356</td>\n",
       "      <td id=\"T_e28bf_row4_col13\" class=\"data row4 col13\" >-0.043224</td>\n",
       "      <td id=\"T_e28bf_row4_col14\" class=\"data row4 col14\" >0.002754</td>\n",
       "      <td id=\"T_e28bf_row4_col15\" class=\"data row4 col15\" >-0.019734</td>\n",
       "      <td id=\"T_e28bf_row4_col16\" class=\"data row4 col16\" >0.073175</td>\n",
       "      <td id=\"T_e28bf_row4_col17\" class=\"data row4 col17\" >0.018438</td>\n",
       "    </tr>\n",
       "    <tr>\n",
       "      <th id=\"T_e28bf_level0_row5\" class=\"row_heading level0 row5\" >liveness</th>\n",
       "      <td id=\"T_e28bf_row5_col0\" class=\"data row5 col0\" >-0.123272</td>\n",
       "      <td id=\"T_e28bf_row5_col1\" class=\"data row5 col1\" >0.071177</td>\n",
       "      <td id=\"T_e28bf_row5_col2\" class=\"data row5 col2\" >0.154047</td>\n",
       "      <td id=\"T_e28bf_row5_col3\" class=\"data row5 col3\" >-0.022210</td>\n",
       "      <td id=\"T_e28bf_row5_col4\" class=\"data row5 col4\" >0.047945</td>\n",
       "      <td id=\"T_e28bf_row5_col5\" class=\"data row5 col5\" >1.000000</td>\n",
       "      <td id=\"T_e28bf_row5_col6\" class=\"data row5 col6\" >0.038529</td>\n",
       "      <td id=\"T_e28bf_row5_col7\" class=\"data row5 col7\" >0.095713</td>\n",
       "      <td id=\"T_e28bf_row5_col8\" class=\"data row5 col8\" >-0.090635</td>\n",
       "      <td id=\"T_e28bf_row5_col9\" class=\"data row5 col9\" >0.097237</td>\n",
       "      <td id=\"T_e28bf_row5_col10\" class=\"data row5 col10\" >-0.098029</td>\n",
       "      <td id=\"T_e28bf_row5_col11\" class=\"data row5 col11\" >-0.085011</td>\n",
       "      <td id=\"T_e28bf_row5_col12\" class=\"data row5 col12\" >0.072768</td>\n",
       "      <td id=\"T_e28bf_row5_col13\" class=\"data row5 col13\" >0.078836</td>\n",
       "      <td id=\"T_e28bf_row5_col14\" class=\"data row5 col14\" >-0.000318</td>\n",
       "      <td id=\"T_e28bf_row5_col15\" class=\"data row5 col15\" >-0.082708</td>\n",
       "      <td id=\"T_e28bf_row5_col16\" class=\"data row5 col16\" >0.041660</td>\n",
       "      <td id=\"T_e28bf_row5_col17\" class=\"data row5 col17\" >0.013524</td>\n",
       "    </tr>\n",
       "    <tr>\n",
       "      <th id=\"T_e28bf_level0_row6\" class=\"row_heading level0 row6\" >valence</th>\n",
       "      <td id=\"T_e28bf_row6_col0\" class=\"data row6 col0\" >-0.108342</td>\n",
       "      <td id=\"T_e28bf_row6_col1\" class=\"data row6 col1\" >-0.021967</td>\n",
       "      <td id=\"T_e28bf_row6_col2\" class=\"data row6 col2\" >0.320577</td>\n",
       "      <td id=\"T_e28bf_row6_col3\" class=\"data row6 col3\" >0.438431</td>\n",
       "      <td id=\"T_e28bf_row6_col4\" class=\"data row6 col4\" >0.266824</td>\n",
       "      <td id=\"T_e28bf_row6_col5\" class=\"data row6 col5\" >0.038529</td>\n",
       "      <td id=\"T_e28bf_row6_col6\" class=\"data row6 col6\" >1.000000</td>\n",
       "      <td id=\"T_e28bf_row6_col7\" class=\"data row6 col7\" >-0.263595</td>\n",
       "      <td id=\"T_e28bf_row6_col8\" class=\"data row6 col8\" >-0.156199</td>\n",
       "      <td id=\"T_e28bf_row6_col9\" class=\"data row6 col9\" >0.066967</td>\n",
       "      <td id=\"T_e28bf_row6_col10\" class=\"data row6 col10\" >0.026887</td>\n",
       "      <td id=\"T_e28bf_row6_col11\" class=\"data row6 col11\" >-0.008393</td>\n",
       "      <td id=\"T_e28bf_row6_col12\" class=\"data row6 col12\" >-0.106170</td>\n",
       "      <td id=\"T_e28bf_row6_col13\" class=\"data row6 col13\" >-0.080467</td>\n",
       "      <td id=\"T_e28bf_row6_col14\" class=\"data row6 col14\" >0.070709</td>\n",
       "      <td id=\"T_e28bf_row6_col15\" class=\"data row6 col15\" >-0.096883</td>\n",
       "      <td id=\"T_e28bf_row6_col16\" class=\"data row6 col16\" >0.150600</td>\n",
       "      <td id=\"T_e28bf_row6_col17\" class=\"data row6 col17\" >-0.082249</td>\n",
       "    </tr>\n",
       "    <tr>\n",
       "      <th id=\"T_e28bf_level0_row7\" class=\"row_heading level0 row7\" >length</th>\n",
       "      <td id=\"T_e28bf_row7_col0\" class=\"data row7 col0\" >-0.175608</td>\n",
       "      <td id=\"T_e28bf_row7_col1\" class=\"data row7 col1\" >0.005424</td>\n",
       "      <td id=\"T_e28bf_row7_col2\" class=\"data row7 col2\" >-0.149623</td>\n",
       "      <td id=\"T_e28bf_row7_col3\" class=\"data row7 col3\" >-0.162045</td>\n",
       "      <td id=\"T_e28bf_row7_col4\" class=\"data row7 col4\" >-0.126839</td>\n",
       "      <td id=\"T_e28bf_row7_col5\" class=\"data row7 col5\" >0.095713</td>\n",
       "      <td id=\"T_e28bf_row7_col6\" class=\"data row7 col6\" >-0.263595</td>\n",
       "      <td id=\"T_e28bf_row7_col7\" class=\"data row7 col7\" >1.000000</td>\n",
       "      <td id=\"T_e28bf_row7_col8\" class=\"data row7 col8\" >0.119907</td>\n",
       "      <td id=\"T_e28bf_row7_col9\" class=\"data row7 col9\" >0.068775</td>\n",
       "      <td id=\"T_e28bf_row7_col10\" class=\"data row7 col10\" >-0.038945</td>\n",
       "      <td id=\"T_e28bf_row7_col11\" class=\"data row7 col11\" >-0.003837</td>\n",
       "      <td id=\"T_e28bf_row7_col12\" class=\"data row7 col12\" >0.208448</td>\n",
       "      <td id=\"T_e28bf_row7_col13\" class=\"data row7 col13\" >0.013420</td>\n",
       "      <td id=\"T_e28bf_row7_col14\" class=\"data row7 col14\" >-0.012408</td>\n",
       "      <td id=\"T_e28bf_row7_col15\" class=\"data row7 col15\" >-0.000682</td>\n",
       "      <td id=\"T_e28bf_row7_col16\" class=\"data row7 col16\" >-0.072457</td>\n",
       "      <td id=\"T_e28bf_row7_col17\" class=\"data row7 col17\" >-0.056589</td>\n",
       "    </tr>\n",
       "    <tr>\n",
       "      <th id=\"T_e28bf_level0_row8\" class=\"row_heading level0 row8\" >acousticness</th>\n",
       "      <td id=\"T_e28bf_row8_col0\" class=\"data row8 col0\" >0.075372</td>\n",
       "      <td id=\"T_e28bf_row8_col1\" class=\"data row8 col1\" >-0.074687</td>\n",
       "      <td id=\"T_e28bf_row8_col2\" class=\"data row8 col2\" >-0.431781</td>\n",
       "      <td id=\"T_e28bf_row8_col3\" class=\"data row8 col3\" >-0.128173</td>\n",
       "      <td id=\"T_e28bf_row8_col4\" class=\"data row8 col4\" >-0.264420</td>\n",
       "      <td id=\"T_e28bf_row8_col5\" class=\"data row8 col5\" >-0.090635</td>\n",
       "      <td id=\"T_e28bf_row8_col6\" class=\"data row8 col6\" >-0.156199</td>\n",
       "      <td id=\"T_e28bf_row8_col7\" class=\"data row8 col7\" >0.119907</td>\n",
       "      <td id=\"T_e28bf_row8_col8\" class=\"data row8 col8\" >1.000000</td>\n",
       "      <td id=\"T_e28bf_row8_col9\" class=\"data row8 col9\" >0.094265</td>\n",
       "      <td id=\"T_e28bf_row8_col10\" class=\"data row8 col10\" >0.038936</td>\n",
       "      <td id=\"T_e28bf_row8_col11\" class=\"data row8 col11\" >-0.013819</td>\n",
       "      <td id=\"T_e28bf_row8_col12\" class=\"data row8 col12\" >0.017985</td>\n",
       "      <td id=\"T_e28bf_row8_col13\" class=\"data row8 col13\" >-0.037385</td>\n",
       "      <td id=\"T_e28bf_row8_col14\" class=\"data row8 col14\" >0.001925</td>\n",
       "      <td id=\"T_e28bf_row8_col15\" class=\"data row8 col15\" >0.142308</td>\n",
       "      <td id=\"T_e28bf_row8_col16\" class=\"data row8 col16\" >-0.092002</td>\n",
       "      <td id=\"T_e28bf_row8_col17\" class=\"data row8 col17\" >-0.012808</td>\n",
       "    </tr>\n",
       "    <tr>\n",
       "      <th id=\"T_e28bf_level0_row9\" class=\"row_heading level0 row9\" >speechiness</th>\n",
       "      <td id=\"T_e28bf_row9_col0\" class=\"data row9 col0\" >0.001637</td>\n",
       "      <td id=\"T_e28bf_row9_col1\" class=\"data row9 col1\" >-0.045078</td>\n",
       "      <td id=\"T_e28bf_row9_col2\" class=\"data row9 col2\" >0.017055</td>\n",
       "      <td id=\"T_e28bf_row9_col3\" class=\"data row9 col3\" >-0.091298</td>\n",
       "      <td id=\"T_e28bf_row9_col4\" class=\"data row9 col4\" >-0.107366</td>\n",
       "      <td id=\"T_e28bf_row9_col5\" class=\"data row9 col5\" >0.097237</td>\n",
       "      <td id=\"T_e28bf_row9_col6\" class=\"data row9 col6\" >0.066967</td>\n",
       "      <td id=\"T_e28bf_row9_col7\" class=\"data row9 col7\" >0.068775</td>\n",
       "      <td id=\"T_e28bf_row9_col8\" class=\"data row9 col8\" >0.094265</td>\n",
       "      <td id=\"T_e28bf_row9_col9\" class=\"data row9 col9\" >1.000000</td>\n",
       "      <td id=\"T_e28bf_row9_col10\" class=\"data row9 col10\" >-0.049099</td>\n",
       "      <td id=\"T_e28bf_row9_col11\" class=\"data row9 col11\" >-0.067725</td>\n",
       "      <td id=\"T_e28bf_row9_col12\" class=\"data row9 col12\" >0.144339</td>\n",
       "      <td id=\"T_e28bf_row9_col13\" class=\"data row9 col13\" >-0.006219</td>\n",
       "      <td id=\"T_e28bf_row9_col14\" class=\"data row9 col14\" >-0.013063</td>\n",
       "      <td id=\"T_e28bf_row9_col15\" class=\"data row9 col15\" >-0.074496</td>\n",
       "      <td id=\"T_e28bf_row9_col16\" class=\"data row9 col16\" >0.041168</td>\n",
       "      <td id=\"T_e28bf_row9_col17\" class=\"data row9 col17\" >-0.053247</td>\n",
       "    </tr>\n",
       "    <tr>\n",
       "      <th id=\"T_e28bf_level0_row10\" class=\"row_heading level0 row10\" >popularity</th>\n",
       "      <td id=\"T_e28bf_row10_col0\" class=\"data row10 col0\" >0.205194</td>\n",
       "      <td id=\"T_e28bf_row10_col1\" class=\"data row10 col1\" >-0.044038</td>\n",
       "      <td id=\"T_e28bf_row10_col2\" class=\"data row10 col2\" >-0.097496</td>\n",
       "      <td id=\"T_e28bf_row10_col3\" class=\"data row10 col3\" >0.060408</td>\n",
       "      <td id=\"T_e28bf_row10_col4\" class=\"data row10 col4\" >-0.002563</td>\n",
       "      <td id=\"T_e28bf_row10_col5\" class=\"data row10 col5\" >-0.098029</td>\n",
       "      <td id=\"T_e28bf_row10_col6\" class=\"data row10 col6\" >0.026887</td>\n",
       "      <td id=\"T_e28bf_row10_col7\" class=\"data row10 col7\" >-0.038945</td>\n",
       "      <td id=\"T_e28bf_row10_col8\" class=\"data row10 col8\" >0.038936</td>\n",
       "      <td id=\"T_e28bf_row10_col9\" class=\"data row10 col9\" >-0.049099</td>\n",
       "      <td id=\"T_e28bf_row10_col10\" class=\"data row10 col10\" >1.000000</td>\n",
       "      <td id=\"T_e28bf_row10_col11\" class=\"data row10 col11\" >0.038289</td>\n",
       "      <td id=\"T_e28bf_row10_col12\" class=\"data row10 col12\" >-0.006672</td>\n",
       "      <td id=\"T_e28bf_row10_col13\" class=\"data row10 col13\" >0.030338</td>\n",
       "      <td id=\"T_e28bf_row10_col14\" class=\"data row10 col14\" >-0.073232</td>\n",
       "      <td id=\"T_e28bf_row10_col15\" class=\"data row10 col15\" >-0.023202</td>\n",
       "      <td id=\"T_e28bf_row10_col16\" class=\"data row10 col16\" >-0.025442</td>\n",
       "      <td id=\"T_e28bf_row10_col17\" class=\"data row10 col17\" >0.113489</td>\n",
       "    </tr>\n",
       "    <tr>\n",
       "      <th id=\"T_e28bf_level0_row11\" class=\"row_heading level0 row11\" >top genre_edm</th>\n",
       "      <td id=\"T_e28bf_row11_col0\" class=\"data row11 col0\" >0.094404</td>\n",
       "      <td id=\"T_e28bf_row11_col1\" class=\"data row11 col1\" >-0.014207</td>\n",
       "      <td id=\"T_e28bf_row11_col2\" class=\"data row11 col2\" >-0.019734</td>\n",
       "      <td id=\"T_e28bf_row11_col3\" class=\"data row11 col3\" >0.030515</td>\n",
       "      <td id=\"T_e28bf_row11_col4\" class=\"data row11 col4\" >-0.052761</td>\n",
       "      <td id=\"T_e28bf_row11_col5\" class=\"data row11 col5\" >-0.085011</td>\n",
       "      <td id=\"T_e28bf_row11_col6\" class=\"data row11 col6\" >-0.008393</td>\n",
       "      <td id=\"T_e28bf_row11_col7\" class=\"data row11 col7\" >-0.003837</td>\n",
       "      <td id=\"T_e28bf_row11_col8\" class=\"data row11 col8\" >-0.013819</td>\n",
       "      <td id=\"T_e28bf_row11_col9\" class=\"data row11 col9\" >-0.067725</td>\n",
       "      <td id=\"T_e28bf_row11_col10\" class=\"data row11 col10\" >0.038289</td>\n",
       "      <td id=\"T_e28bf_row11_col11\" class=\"data row11 col11\" >1.000000</td>\n",
       "      <td id=\"T_e28bf_row11_col12\" class=\"data row11 col12\" >-0.030513</td>\n",
       "      <td id=\"T_e28bf_row11_col13\" class=\"data row11 col13\" >-0.014626</td>\n",
       "      <td id=\"T_e28bf_row11_col14\" class=\"data row11 col14\" >-0.016367</td>\n",
       "      <td id=\"T_e28bf_row11_col15\" class=\"data row11 col15\" >-0.050984</td>\n",
       "      <td id=\"T_e28bf_row11_col16\" class=\"data row11 col16\" >-0.374502</td>\n",
       "      <td id=\"T_e28bf_row11_col17\" class=\"data row11 col17\" >-0.023252</td>\n",
       "    </tr>\n",
       "    <tr>\n",
       "      <th id=\"T_e28bf_level0_row12\" class=\"row_heading level0 row12\" >top genre_hip hop</th>\n",
       "      <td id=\"T_e28bf_row12_col0\" class=\"data row12 col0\" >-0.035738</td>\n",
       "      <td id=\"T_e28bf_row12_col1\" class=\"data row12 col1\" >-0.143384</td>\n",
       "      <td id=\"T_e28bf_row12_col2\" class=\"data row12 col2\" >-0.007042</td>\n",
       "      <td id=\"T_e28bf_row12_col3\" class=\"data row12 col3\" >0.037059</td>\n",
       "      <td id=\"T_e28bf_row12_col4\" class=\"data row12 col4\" >-0.073356</td>\n",
       "      <td id=\"T_e28bf_row12_col5\" class=\"data row12 col5\" >0.072768</td>\n",
       "      <td id=\"T_e28bf_row12_col6\" class=\"data row12 col6\" >-0.106170</td>\n",
       "      <td id=\"T_e28bf_row12_col7\" class=\"data row12 col7\" >0.208448</td>\n",
       "      <td id=\"T_e28bf_row12_col8\" class=\"data row12 col8\" >0.017985</td>\n",
       "      <td id=\"T_e28bf_row12_col9\" class=\"data row12 col9\" >0.144339</td>\n",
       "      <td id=\"T_e28bf_row12_col10\" class=\"data row12 col10\" >-0.006672</td>\n",
       "      <td id=\"T_e28bf_row12_col11\" class=\"data row12 col11\" >-0.030513</td>\n",
       "      <td id=\"T_e28bf_row12_col12\" class=\"data row12 col12\" >1.000000</td>\n",
       "      <td id=\"T_e28bf_row12_col13\" class=\"data row12 col13\" >-0.015090</td>\n",
       "      <td id=\"T_e28bf_row12_col14\" class=\"data row12 col14\" >-0.016887</td>\n",
       "      <td id=\"T_e28bf_row12_col15\" class=\"data row12 col15\" >-0.052602</td>\n",
       "      <td id=\"T_e28bf_row12_col16\" class=\"data row12 col16\" >-0.386385</td>\n",
       "      <td id=\"T_e28bf_row12_col17\" class=\"data row12 col17\" >-0.023990</td>\n",
       "    </tr>\n",
       "    <tr>\n",
       "      <th id=\"T_e28bf_level0_row13\" class=\"row_heading level0 row13\" >top genre_house</th>\n",
       "      <td id=\"T_e28bf_row13_col0\" class=\"data row13 col0\" >0.013811</td>\n",
       "      <td id=\"T_e28bf_row13_col1\" class=\"data row13 col1\" >0.030246</td>\n",
       "      <td id=\"T_e28bf_row13_col2\" class=\"data row13 col2\" >0.019837</td>\n",
       "      <td id=\"T_e28bf_row13_col3\" class=\"data row13 col3\" >-0.098500</td>\n",
       "      <td id=\"T_e28bf_row13_col4\" class=\"data row13 col4\" >-0.043224</td>\n",
       "      <td id=\"T_e28bf_row13_col5\" class=\"data row13 col5\" >0.078836</td>\n",
       "      <td id=\"T_e28bf_row13_col6\" class=\"data row13 col6\" >-0.080467</td>\n",
       "      <td id=\"T_e28bf_row13_col7\" class=\"data row13 col7\" >0.013420</td>\n",
       "      <td id=\"T_e28bf_row13_col8\" class=\"data row13 col8\" >-0.037385</td>\n",
       "      <td id=\"T_e28bf_row13_col9\" class=\"data row13 col9\" >-0.006219</td>\n",
       "      <td id=\"T_e28bf_row13_col10\" class=\"data row13 col10\" >0.030338</td>\n",
       "      <td id=\"T_e28bf_row13_col11\" class=\"data row13 col11\" >-0.014626</td>\n",
       "      <td id=\"T_e28bf_row13_col12\" class=\"data row13 col12\" >-0.015090</td>\n",
       "      <td id=\"T_e28bf_row13_col13\" class=\"data row13 col13\" >1.000000</td>\n",
       "      <td id=\"T_e28bf_row13_col14\" class=\"data row13 col14\" >-0.008094</td>\n",
       "      <td id=\"T_e28bf_row13_col15\" class=\"data row13 col15\" >-0.025214</td>\n",
       "      <td id=\"T_e28bf_row13_col16\" class=\"data row13 col16\" >-0.185208</td>\n",
       "      <td id=\"T_e28bf_row13_col17\" class=\"data row13 col17\" >-0.011499</td>\n",
       "    </tr>\n",
       "    <tr>\n",
       "      <th id=\"T_e28bf_level0_row14\" class=\"row_heading level0 row14\" >top genre_latin</th>\n",
       "      <td id=\"T_e28bf_row14_col0\" class=\"data row14 col0\" >0.096392</td>\n",
       "      <td id=\"T_e28bf_row14_col1\" class=\"data row14 col1\" >0.038613</td>\n",
       "      <td id=\"T_e28bf_row14_col2\" class=\"data row14 col2\" >0.022199</td>\n",
       "      <td id=\"T_e28bf_row14_col3\" class=\"data row14 col3\" >0.047395</td>\n",
       "      <td id=\"T_e28bf_row14_col4\" class=\"data row14 col4\" >0.002754</td>\n",
       "      <td id=\"T_e28bf_row14_col5\" class=\"data row14 col5\" >-0.000318</td>\n",
       "      <td id=\"T_e28bf_row14_col6\" class=\"data row14 col6\" >0.070709</td>\n",
       "      <td id=\"T_e28bf_row14_col7\" class=\"data row14 col7\" >-0.012408</td>\n",
       "      <td id=\"T_e28bf_row14_col8\" class=\"data row14 col8\" >0.001925</td>\n",
       "      <td id=\"T_e28bf_row14_col9\" class=\"data row14 col9\" >-0.013063</td>\n",
       "      <td id=\"T_e28bf_row14_col10\" class=\"data row14 col10\" >-0.073232</td>\n",
       "      <td id=\"T_e28bf_row14_col11\" class=\"data row14 col11\" >-0.016367</td>\n",
       "      <td id=\"T_e28bf_row14_col12\" class=\"data row14 col12\" >-0.016887</td>\n",
       "      <td id=\"T_e28bf_row14_col13\" class=\"data row14 col13\" >-0.008094</td>\n",
       "      <td id=\"T_e28bf_row14_col14\" class=\"data row14 col14\" >1.000000</td>\n",
       "      <td id=\"T_e28bf_row14_col15\" class=\"data row14 col15\" >-0.028215</td>\n",
       "      <td id=\"T_e28bf_row14_col16\" class=\"data row14 col16\" >-0.207257</td>\n",
       "      <td id=\"T_e28bf_row14_col17\" class=\"data row14 col17\" >-0.012868</td>\n",
       "    </tr>\n",
       "    <tr>\n",
       "      <th id=\"T_e28bf_level0_row15\" class=\"row_heading level0 row15\" >top genre_others</th>\n",
       "      <td id=\"T_e28bf_row15_col0\" class=\"data row15 col0\" >0.025224</td>\n",
       "      <td id=\"T_e28bf_row15_col1\" class=\"data row15 col1\" >-0.018305</td>\n",
       "      <td id=\"T_e28bf_row15_col2\" class=\"data row15 col2\" >-0.077578</td>\n",
       "      <td id=\"T_e28bf_row15_col3\" class=\"data row15 col3\" >-0.197288</td>\n",
       "      <td id=\"T_e28bf_row15_col4\" class=\"data row15 col4\" >-0.019734</td>\n",
       "      <td id=\"T_e28bf_row15_col5\" class=\"data row15 col5\" >-0.082708</td>\n",
       "      <td id=\"T_e28bf_row15_col6\" class=\"data row15 col6\" >-0.096883</td>\n",
       "      <td id=\"T_e28bf_row15_col7\" class=\"data row15 col7\" >-0.000682</td>\n",
       "      <td id=\"T_e28bf_row15_col8\" class=\"data row15 col8\" >0.142308</td>\n",
       "      <td id=\"T_e28bf_row15_col9\" class=\"data row15 col9\" >-0.074496</td>\n",
       "      <td id=\"T_e28bf_row15_col10\" class=\"data row15 col10\" >-0.023202</td>\n",
       "      <td id=\"T_e28bf_row15_col11\" class=\"data row15 col11\" >-0.050984</td>\n",
       "      <td id=\"T_e28bf_row15_col12\" class=\"data row15 col12\" >-0.052602</td>\n",
       "      <td id=\"T_e28bf_row15_col13\" class=\"data row15 col13\" >-0.025214</td>\n",
       "      <td id=\"T_e28bf_row15_col14\" class=\"data row15 col14\" >-0.028215</td>\n",
       "      <td id=\"T_e28bf_row15_col15\" class=\"data row15 col15\" >1.000000</td>\n",
       "      <td id=\"T_e28bf_row15_col16\" class=\"data row15 col16\" >-0.645601</td>\n",
       "      <td id=\"T_e28bf_row15_col17\" class=\"data row15 col17\" >-0.040085</td>\n",
       "    </tr>\n",
       "    <tr>\n",
       "      <th id=\"T_e28bf_level0_row16\" class=\"row_heading level0 row16\" >top genre_pop</th>\n",
       "      <td id=\"T_e28bf_row16_col0\" class=\"data row16 col0\" >-0.096531</td>\n",
       "      <td id=\"T_e28bf_row16_col1\" class=\"data row16 col1\" >0.053645</td>\n",
       "      <td id=\"T_e28bf_row16_col2\" class=\"data row16 col2\" >0.055439</td>\n",
       "      <td id=\"T_e28bf_row16_col3\" class=\"data row16 col3\" >0.143611</td>\n",
       "      <td id=\"T_e28bf_row16_col4\" class=\"data row16 col4\" >0.073175</td>\n",
       "      <td id=\"T_e28bf_row16_col5\" class=\"data row16 col5\" >0.041660</td>\n",
       "      <td id=\"T_e28bf_row16_col6\" class=\"data row16 col6\" >0.150600</td>\n",
       "      <td id=\"T_e28bf_row16_col7\" class=\"data row16 col7\" >-0.072457</td>\n",
       "      <td id=\"T_e28bf_row16_col8\" class=\"data row16 col8\" >-0.092002</td>\n",
       "      <td id=\"T_e28bf_row16_col9\" class=\"data row16 col9\" >0.041168</td>\n",
       "      <td id=\"T_e28bf_row16_col10\" class=\"data row16 col10\" >-0.025442</td>\n",
       "      <td id=\"T_e28bf_row16_col11\" class=\"data row16 col11\" >-0.374502</td>\n",
       "      <td id=\"T_e28bf_row16_col12\" class=\"data row16 col12\" >-0.386385</td>\n",
       "      <td id=\"T_e28bf_row16_col13\" class=\"data row16 col13\" >-0.185208</td>\n",
       "      <td id=\"T_e28bf_row16_col14\" class=\"data row16 col14\" >-0.207257</td>\n",
       "      <td id=\"T_e28bf_row16_col15\" class=\"data row16 col15\" >-0.645601</td>\n",
       "      <td id=\"T_e28bf_row16_col16\" class=\"data row16 col16\" >1.000000</td>\n",
       "      <td id=\"T_e28bf_row16_col17\" class=\"data row16 col17\" >-0.294442</td>\n",
       "    </tr>\n",
       "    <tr>\n",
       "      <th id=\"T_e28bf_level0_row17\" class=\"row_heading level0 row17\" >top genre_room</th>\n",
       "      <td id=\"T_e28bf_row17_col0\" class=\"data row17 col0\" >0.074222</td>\n",
       "      <td id=\"T_e28bf_row17_col1\" class=\"data row17 col1\" >0.041313</td>\n",
       "      <td id=\"T_e28bf_row17_col2\" class=\"data row17 col2\" >0.006443</td>\n",
       "      <td id=\"T_e28bf_row17_col3\" class=\"data row17 col3\" >-0.062690</td>\n",
       "      <td id=\"T_e28bf_row17_col4\" class=\"data row17 col4\" >0.018438</td>\n",
       "      <td id=\"T_e28bf_row17_col5\" class=\"data row17 col5\" >0.013524</td>\n",
       "      <td id=\"T_e28bf_row17_col6\" class=\"data row17 col6\" >-0.082249</td>\n",
       "      <td id=\"T_e28bf_row17_col7\" class=\"data row17 col7\" >-0.056589</td>\n",
       "      <td id=\"T_e28bf_row17_col8\" class=\"data row17 col8\" >-0.012808</td>\n",
       "      <td id=\"T_e28bf_row17_col9\" class=\"data row17 col9\" >-0.053247</td>\n",
       "      <td id=\"T_e28bf_row17_col10\" class=\"data row17 col10\" >0.113489</td>\n",
       "      <td id=\"T_e28bf_row17_col11\" class=\"data row17 col11\" >-0.023252</td>\n",
       "      <td id=\"T_e28bf_row17_col12\" class=\"data row17 col12\" >-0.023990</td>\n",
       "      <td id=\"T_e28bf_row17_col13\" class=\"data row17 col13\" >-0.011499</td>\n",
       "      <td id=\"T_e28bf_row17_col14\" class=\"data row17 col14\" >-0.012868</td>\n",
       "      <td id=\"T_e28bf_row17_col15\" class=\"data row17 col15\" >-0.040085</td>\n",
       "      <td id=\"T_e28bf_row17_col16\" class=\"data row17 col16\" >-0.294442</td>\n",
       "      <td id=\"T_e28bf_row17_col17\" class=\"data row17 col17\" >1.000000</td>\n",
       "    </tr>\n",
       "  </tbody>\n",
       "</table>\n"
      ],
      "text/plain": [
       "<pandas.io.formats.style.Styler at 0x27762326a90>"
      ]
     },
     "execution_count": 85,
     "metadata": {},
     "output_type": "execute_result"
    }
   ],
   "source": [
    "# Plot correlation matrix for the correlation of columns in dataset\n",
    "corr_mat = df.corr()\n",
    "corr_mat.style.background_gradient(cmap='Reds')"
   ]
  },
  {
   "cell_type": "code",
   "execution_count": 86,
   "id": "901b2d5f-d1ef-4142-91ce-f63471279911",
   "metadata": {},
   "outputs": [
    {
     "data": {
      "text/plain": [
       "release year         0.205194\n",
       "speed                0.044038\n",
       "energy               0.097496\n",
       "danceability         0.060408\n",
       "loudness             0.002563\n",
       "liveness             0.098029\n",
       "valence              0.026887\n",
       "length               0.038945\n",
       "acousticness         0.038936\n",
       "speechiness          0.049099\n",
       "popularity           1.000000\n",
       "top genre_edm        0.038289\n",
       "top genre_hip hop    0.006672\n",
       "top genre_house      0.030338\n",
       "top genre_latin      0.073232\n",
       "top genre_others     0.023202\n",
       "top genre_pop        0.025442\n",
       "top genre_room       0.113489\n",
       "Name: popularity, dtype: float64"
      ]
     },
     "execution_count": 86,
     "metadata": {},
     "output_type": "execute_result"
    }
   ],
   "source": [
    "# Print out columns that have correlation to popularity of the song\n",
    "cor_target = abs(corr_mat['popularity'])\n",
    "relevant_features = cor_target[cor_target>0]\n",
    "relevant_features"
   ]
  },
  {
   "cell_type": "code",
   "execution_count": 87,
   "id": "5b33c4a2-f588-4af4-9230-aec14edcd55d",
   "metadata": {},
   "outputs": [
    {
     "data": {
      "text/plain": [
       "<AxesSubplot:>"
      ]
     },
     "execution_count": 87,
     "metadata": {},
     "output_type": "execute_result"
    },
    {
     "data": {
      "image/png": "[encoded data removed]",
      "text/plain": [
       "<Figure size 720x432 with 2 Axes>"
      ]
     },
     "metadata": {
      "needs_background": "light"
     },
     "output_type": "display_data"
    }
   ],
   "source": [
    "# Plot a heatmap to visualise the correlation better\n",
    "plt.figure(figsize=(10,6))\n",
    "sns.heatmap(corr_mat, annot= True)"
   ]
  },
  {
   "cell_type": "code",
   "execution_count": 88,
   "id": "9d841b89-46fd-4cce-bea3-571641ee81b4",
   "metadata": {},
   "outputs": [
    {
     "data": {
      "text/plain": [
       "(557, 18)"
      ]
     },
     "execution_count": 88,
     "metadata": {},
     "output_type": "execute_result"
    }
   ],
   "source": [
    "df.shape"
   ]
  },
  {
   "cell_type": "code",
   "execution_count": 89,
   "id": "832d638c-3f6d-44ed-a3a6-72a865e61504",
   "metadata": {},
   "outputs": [
    {
     "data": {
      "text/html": [
       "<div>\n",
       "<style scoped>\n",
       "    .dataframe tbody tr th:only-of-type {\n",
       "        vertical-align: middle;\n",
       "    }\n",
       "\n",
       "    .dataframe tbody tr th {\n",
       "        vertical-align: top;\n",
       "    }\n",
       "\n",
       "    .dataframe thead th {\n",
       "        text-align: right;\n",
       "    }\n",
       "</style>\n",
       "<table border=\"1\" class=\"dataframe\">\n",
       "  <thead>\n",
       "    <tr style=\"text-align: right;\">\n",
       "      <th></th>\n",
       "      <th>release year</th>\n",
       "      <th>speed</th>\n",
       "      <th>energy</th>\n",
       "      <th>danceability</th>\n",
       "      <th>loudness</th>\n",
       "      <th>liveness</th>\n",
       "      <th>valence</th>\n",
       "      <th>length</th>\n",
       "      <th>acousticness</th>\n",
       "      <th>speechiness</th>\n",
       "      <th>popularity</th>\n",
       "      <th>top genre_edm</th>\n",
       "      <th>top genre_hip hop</th>\n",
       "      <th>top genre_house</th>\n",
       "      <th>top genre_latin</th>\n",
       "      <th>top genre_others</th>\n",
       "      <th>top genre_pop</th>\n",
       "      <th>top genre_room</th>\n",
       "    </tr>\n",
       "  </thead>\n",
       "  <tbody>\n",
       "    <tr>\n",
       "      <th>0</th>\n",
       "      <td>2010</td>\n",
       "      <td>1</td>\n",
       "      <td>5</td>\n",
       "      <td>3</td>\n",
       "      <td>5</td>\n",
       "      <td>1</td>\n",
       "      <td>5</td>\n",
       "      <td>2</td>\n",
       "      <td>2</td>\n",
       "      <td>1</td>\n",
       "      <td>5</td>\n",
       "      <td>0</td>\n",
       "      <td>0</td>\n",
       "      <td>0</td>\n",
       "      <td>0</td>\n",
       "      <td>1</td>\n",
       "      <td>0</td>\n",
       "      <td>0</td>\n",
       "    </tr>\n",
       "    <tr>\n",
       "      <th>1</th>\n",
       "      <td>2010</td>\n",
       "      <td>1</td>\n",
       "      <td>5</td>\n",
       "      <td>4</td>\n",
       "      <td>4</td>\n",
       "      <td>4</td>\n",
       "      <td>4</td>\n",
       "      <td>3</td>\n",
       "      <td>2</td>\n",
       "      <td>3</td>\n",
       "      <td>5</td>\n",
       "      <td>0</td>\n",
       "      <td>1</td>\n",
       "      <td>0</td>\n",
       "      <td>0</td>\n",
       "      <td>0</td>\n",
       "      <td>0</td>\n",
       "      <td>0</td>\n",
       "    </tr>\n",
       "    <tr>\n",
       "      <th>2</th>\n",
       "      <td>2010</td>\n",
       "      <td>2</td>\n",
       "      <td>5</td>\n",
       "      <td>4</td>\n",
       "      <td>5</td>\n",
       "      <td>2</td>\n",
       "      <td>4</td>\n",
       "      <td>1</td>\n",
       "      <td>1</td>\n",
       "      <td>2</td>\n",
       "      <td>5</td>\n",
       "      <td>0</td>\n",
       "      <td>0</td>\n",
       "      <td>0</td>\n",
       "      <td>0</td>\n",
       "      <td>0</td>\n",
       "      <td>1</td>\n",
       "      <td>0</td>\n",
       "    </tr>\n",
       "    <tr>\n",
       "      <th>3</th>\n",
       "      <td>2010</td>\n",
       "      <td>2</td>\n",
       "      <td>5</td>\n",
       "      <td>4</td>\n",
       "      <td>5</td>\n",
       "      <td>1</td>\n",
       "      <td>4</td>\n",
       "      <td>3</td>\n",
       "      <td>1</td>\n",
       "      <td>1</td>\n",
       "      <td>5</td>\n",
       "      <td>0</td>\n",
       "      <td>0</td>\n",
       "      <td>0</td>\n",
       "      <td>0</td>\n",
       "      <td>0</td>\n",
       "      <td>1</td>\n",
       "      <td>0</td>\n",
       "    </tr>\n",
       "    <tr>\n",
       "      <th>4</th>\n",
       "      <td>2010</td>\n",
       "      <td>2</td>\n",
       "      <td>5</td>\n",
       "      <td>3</td>\n",
       "      <td>4</td>\n",
       "      <td>1</td>\n",
       "      <td>3</td>\n",
       "      <td>2</td>\n",
       "      <td>1</td>\n",
       "      <td>1</td>\n",
       "      <td>5</td>\n",
       "      <td>0</td>\n",
       "      <td>0</td>\n",
       "      <td>0</td>\n",
       "      <td>0</td>\n",
       "      <td>0</td>\n",
       "      <td>1</td>\n",
       "      <td>0</td>\n",
       "    </tr>\n",
       "  </tbody>\n",
       "</table>\n",
       "</div>"
      ],
      "text/plain": [
       "   release year  speed  energy  danceability  loudness  liveness  valence  \\\n",
       "0          2010      1       5             3         5         1        5   \n",
       "1          2010      1       5             4         4         4        4   \n",
       "2          2010      2       5             4         5         2        4   \n",
       "3          2010      2       5             4         5         1        4   \n",
       "4          2010      2       5             3         4         1        3   \n",
       "\n",
       "   length  acousticness  speechiness  popularity  top genre_edm  \\\n",
       "0       2             2            1           5              0   \n",
       "1       3             2            3           5              0   \n",
       "2       1             1            2           5              0   \n",
       "3       3             1            1           5              0   \n",
       "4       2             1            1           5              0   \n",
       "\n",
       "   top genre_hip hop  top genre_house  top genre_latin  top genre_others  \\\n",
       "0                  0                0                0                 1   \n",
       "1                  1                0                0                 0   \n",
       "2                  0                0                0                 0   \n",
       "3                  0                0                0                 0   \n",
       "4                  0                0                0                 0   \n",
       "\n",
       "   top genre_pop  top genre_room  \n",
       "0              0               0  \n",
       "1              0               0  \n",
       "2              1               0  \n",
       "3              1               0  \n",
       "4              1               0  "
      ]
     },
     "execution_count": 89,
     "metadata": {},
     "output_type": "execute_result"
    }
   ],
   "source": [
    "df.head()"
   ]
  },
  {
   "cell_type": "code",
   "execution_count": 90,
   "id": "ac0a221b-a31b-4fe3-9d21-f4b45e79896d",
   "metadata": {},
   "outputs": [],
   "source": [
    "# Move popularity column to the end of the dataset for better clarity of data\n",
    "df = df[[i for i in df if i not in ['popularity']] + ['popularity']]"
   ]
  },
  {
   "cell_type": "code",
   "execution_count": 91,
   "id": "94c58bad-819f-4376-88b8-dc5c080a7542",
   "metadata": {},
   "outputs": [
    {
     "data": {
      "text/html": [
       "<div>\n",
       "<style scoped>\n",
       "    .dataframe tbody tr th:only-of-type {\n",
       "        vertical-align: middle;\n",
       "    }\n",
       "\n",
       "    .dataframe tbody tr th {\n",
       "        vertical-align: top;\n",
       "    }\n",
       "\n",
       "    .dataframe thead th {\n",
       "        text-align: right;\n",
       "    }\n",
       "</style>\n",
       "<table border=\"1\" class=\"dataframe\">\n",
       "  <thead>\n",
       "    <tr style=\"text-align: right;\">\n",
       "      <th></th>\n",
       "      <th>release year</th>\n",
       "      <th>speed</th>\n",
       "      <th>energy</th>\n",
       "      <th>danceability</th>\n",
       "      <th>loudness</th>\n",
       "      <th>liveness</th>\n",
       "      <th>valence</th>\n",
       "      <th>length</th>\n",
       "      <th>acousticness</th>\n",
       "      <th>speechiness</th>\n",
       "      <th>top genre_edm</th>\n",
       "      <th>top genre_hip hop</th>\n",
       "      <th>top genre_house</th>\n",
       "      <th>top genre_latin</th>\n",
       "      <th>top genre_others</th>\n",
       "      <th>top genre_pop</th>\n",
       "      <th>top genre_room</th>\n",
       "      <th>popularity</th>\n",
       "    </tr>\n",
       "  </thead>\n",
       "  <tbody>\n",
       "    <tr>\n",
       "      <th>0</th>\n",
       "      <td>2010</td>\n",
       "      <td>1</td>\n",
       "      <td>5</td>\n",
       "      <td>3</td>\n",
       "      <td>5</td>\n",
       "      <td>1</td>\n",
       "      <td>5</td>\n",
       "      <td>2</td>\n",
       "      <td>2</td>\n",
       "      <td>1</td>\n",
       "      <td>0</td>\n",
       "      <td>0</td>\n",
       "      <td>0</td>\n",
       "      <td>0</td>\n",
       "      <td>1</td>\n",
       "      <td>0</td>\n",
       "      <td>0</td>\n",
       "      <td>5</td>\n",
       "    </tr>\n",
       "    <tr>\n",
       "      <th>1</th>\n",
       "      <td>2010</td>\n",
       "      <td>1</td>\n",
       "      <td>5</td>\n",
       "      <td>4</td>\n",
       "      <td>4</td>\n",
       "      <td>4</td>\n",
       "      <td>4</td>\n",
       "      <td>3</td>\n",
       "      <td>2</td>\n",
       "      <td>3</td>\n",
       "      <td>0</td>\n",
       "      <td>1</td>\n",
       "      <td>0</td>\n",
       "      <td>0</td>\n",
       "      <td>0</td>\n",
       "      <td>0</td>\n",
       "      <td>0</td>\n",
       "      <td>5</td>\n",
       "    </tr>\n",
       "    <tr>\n",
       "      <th>2</th>\n",
       "      <td>2010</td>\n",
       "      <td>2</td>\n",
       "      <td>5</td>\n",
       "      <td>4</td>\n",
       "      <td>5</td>\n",
       "      <td>2</td>\n",
       "      <td>4</td>\n",
       "      <td>1</td>\n",
       "      <td>1</td>\n",
       "      <td>2</td>\n",
       "      <td>0</td>\n",
       "      <td>0</td>\n",
       "      <td>0</td>\n",
       "      <td>0</td>\n",
       "      <td>0</td>\n",
       "      <td>1</td>\n",
       "      <td>0</td>\n",
       "      <td>5</td>\n",
       "    </tr>\n",
       "    <tr>\n",
       "      <th>3</th>\n",
       "      <td>2010</td>\n",
       "      <td>2</td>\n",
       "      <td>5</td>\n",
       "      <td>4</td>\n",
       "      <td>5</td>\n",
       "      <td>1</td>\n",
       "      <td>4</td>\n",
       "      <td>3</td>\n",
       "      <td>1</td>\n",
       "      <td>1</td>\n",
       "      <td>0</td>\n",
       "      <td>0</td>\n",
       "      <td>0</td>\n",
       "      <td>0</td>\n",
       "      <td>0</td>\n",
       "      <td>1</td>\n",
       "      <td>0</td>\n",
       "      <td>5</td>\n",
       "    </tr>\n",
       "    <tr>\n",
       "      <th>4</th>\n",
       "      <td>2010</td>\n",
       "      <td>2</td>\n",
       "      <td>5</td>\n",
       "      <td>3</td>\n",
       "      <td>4</td>\n",
       "      <td>1</td>\n",
       "      <td>3</td>\n",
       "      <td>2</td>\n",
       "      <td>1</td>\n",
       "      <td>1</td>\n",
       "      <td>0</td>\n",
       "      <td>0</td>\n",
       "      <td>0</td>\n",
       "      <td>0</td>\n",
       "      <td>0</td>\n",
       "      <td>1</td>\n",
       "      <td>0</td>\n",
       "      <td>5</td>\n",
       "    </tr>\n",
       "  </tbody>\n",
       "</table>\n",
       "</div>"
      ],
      "text/plain": [
       "   release year  speed  energy  danceability  loudness  liveness  valence  \\\n",
       "0          2010      1       5             3         5         1        5   \n",
       "1          2010      1       5             4         4         4        4   \n",
       "2          2010      2       5             4         5         2        4   \n",
       "3          2010      2       5             4         5         1        4   \n",
       "4          2010      2       5             3         4         1        3   \n",
       "\n",
       "   length  acousticness  speechiness  top genre_edm  top genre_hip hop  \\\n",
       "0       2             2            1              0                  0   \n",
       "1       3             2            3              0                  1   \n",
       "2       1             1            2              0                  0   \n",
       "3       3             1            1              0                  0   \n",
       "4       2             1            1              0                  0   \n",
       "\n",
       "   top genre_house  top genre_latin  top genre_others  top genre_pop  \\\n",
       "0                0                0                 1              0   \n",
       "1                0                0                 0              0   \n",
       "2                0                0                 0              1   \n",
       "3                0                0                 0              1   \n",
       "4                0                0                 0              1   \n",
       "\n",
       "   top genre_room  popularity  \n",
       "0               0           5  \n",
       "1               0           5  \n",
       "2               0           5  \n",
       "3               0           5  \n",
       "4               0           5  "
      ]
     },
     "execution_count": 91,
     "metadata": {},
     "output_type": "execute_result"
    }
   ],
   "source": [
    "df.head()"
   ]
  },
  {
   "cell_type": "code",
   "execution_count": 92,
   "id": "ff0b37e5-787a-4beb-91b6-a8c1b8337e6e",
   "metadata": {},
   "outputs": [
    {
     "data": {
      "text/plain": [
       "0      5\n",
       "1      5\n",
       "2      5\n",
       "3      5\n",
       "4      5\n",
       "      ..\n",
       "598    4\n",
       "599    4\n",
       "600    4\n",
       "601    4\n",
       "602    4\n",
       "Name: popularity, Length: 557, dtype: int64"
      ]
     },
     "execution_count": 92,
     "metadata": {},
     "output_type": "execute_result"
    }
   ],
   "source": [
    "df['popularity']"
   ]
  },
  {
   "cell_type": "markdown",
   "id": "7d582796-2e09-486a-9477-a82d907b785c",
   "metadata": {},
   "source": [
    "## <font color= grey> Data Visualisation"
   ]
  },
  {
   "cell_type": "code",
   "execution_count": 93,
   "id": "c68159d8-9f76-47a8-83ed-7277166f856f",
   "metadata": {},
   "outputs": [
    {
     "data": {
      "text/plain": [
       "loudness           energy          0.580326\n",
       "valence            danceability    0.438431\n",
       "energy             valence         0.320577\n",
       "valence            loudness        0.266824\n",
       "top genre_hip hop  length          0.208448\n",
       "dtype: float64"
      ]
     },
     "execution_count": 93,
     "metadata": {},
     "output_type": "execute_result"
    }
   ],
   "source": [
    "# Print out the top 5 correlated colums in dataset\n",
    "top_correlated = df.corr().unstack().sort_values(ascending=False).drop_duplicates()[1:6]\n",
    "top_correlated"
   ]
  },
  {
   "cell_type": "code",
   "execution_count": 94,
   "id": "5050a9c7-952e-4e08-82b1-d265e80ee32f",
   "metadata": {},
   "outputs": [
    {
     "data": {
      "text/plain": [
       "<seaborn.axisgrid.FacetGrid at 0x277629dd610>"
      ]
     },
     "execution_count": 94,
     "metadata": {},
     "output_type": "execute_result"
    },
    {
     "data": {
      "image/png": "[encoded data removed]",
      "text/plain": [
       "<Figure size 360x360 with 1 Axes>"
      ]
     },
     "metadata": {
      "needs_background": "light"
     },
     "output_type": "display_data"
    }
   ],
   "source": [
    "# Plot point plot for energy and loudness\n",
    "sns.catplot(x=\"energy\", y=\"loudness\", kind=\"point\", data=df)"
   ]
  },
  {
   "cell_type": "markdown",
   "id": "75d6ac29-ed3a-4297-8d9d-d51778c89ef5",
   "metadata": {},
   "source": [
    "The above point plot shows us that as that energy and loudness have a positive correlation, as when the song increases in energy, the song also increases in loudness. This makes sense as using domain knowledge, energetic songs are usually louder than more toned down, mellow songs."
   ]
  },
  {
   "cell_type": "code",
   "execution_count": 95,
   "id": "6337691e-a6e9-49fc-8934-3e16f1098bca",
   "metadata": {},
   "outputs": [
    {
     "data": {
      "text/plain": [
       "<AxesSubplot:xlabel='valence', ylabel='danceability'>"
      ]
     },
     "execution_count": 95,
     "metadata": {},
     "output_type": "execute_result"
    },
    {
     "data": {
      "image/png": "[encoded data removed]",
      "text/plain": [
       "<Figure size 432x288 with 1 Axes>"
      ]
     },
     "metadata": {
      "needs_background": "light"
     },
     "output_type": "display_data"
    }
   ],
   "source": [
    "# Plot violin plot for valence and danceability\n",
    "sns.violinplot(x=df[\"valence\"],y=df[\"danceability\"])"
   ]
  },
  {
   "cell_type": "markdown",
   "id": "7a174b7a-e7df-4488-b179-c3c572ad25bd",
   "metadata": {},
   "source": [
    "From the violin plot above, we can see that songs with higher valence tend to have a higher danceability than songs with higher valence, implying a positive correlation between valence and danceability. This makes sense as using domain knowledge, happier songs are usually more danceable than sadder songs"
   ]
  },
  {
   "cell_type": "code",
   "execution_count": 96,
   "id": "e3292dc3-39d0-460f-9785-3eb17b61d8cf",
   "metadata": {},
   "outputs": [
    {
     "data": {
      "text/plain": [
       "<AxesSubplot:xlabel='energy', ylabel='valence'>"
      ]
     },
     "execution_count": 96,
     "metadata": {},
     "output_type": "execute_result"
    },
    {
     "data": {
      "image/png": "[encoded data removed]",
      "text/plain": [
       "<Figure size 432x288 with 1 Axes>"
      ]
     },
     "metadata": {
      "needs_background": "light"
     },
     "output_type": "display_data"
    }
   ],
   "source": [
    "# Plot line plot for energy and valence\n",
    "sns.lineplot(x=\"energy\", y=\"valence\", data=df)"
   ]
  },
  {
   "cell_type": "markdown",
   "id": "7f20fc6f-fa56-41e3-a626-c13f43fa977b",
   "metadata": {},
   "source": [
    "From the line plot above, we can see that energy and valence have a general positive correlation. This implies that as the energy of the song increases, the valence also increases. This makes sense as using domain knowledge, energetic songs tend to be more happy than less energetic songs, which tend to be more mellow. "
   ]
  },
  {
   "cell_type": "code",
   "execution_count": 97,
   "id": "d1a35464-aefb-4f85-970f-7da154ed43a3",
   "metadata": {},
   "outputs": [
    {
     "data": {
      "text/plain": [
       "<seaborn.axisgrid.FacetGrid at 0x277624abd60>"
      ]
     },
     "execution_count": 97,
     "metadata": {},
     "output_type": "execute_result"
    },
    {
     "data": {
      "image/png": "[encoded data removed]",
      "text/plain": [
       "<Figure size 360x360 with 1 Axes>"
      ]
     },
     "metadata": {
      "needs_background": "light"
     },
     "output_type": "display_data"
    }
   ],
   "source": [
    "# Plot box plot for valence and loudness\n",
    "sns.catplot(x=\"valence\",y=\"loudness\",data=df, orient=\"h\", kind=\"box\")"
   ]
  },
  {
   "cell_type": "markdown",
   "id": "8306fe76-cb53-4f86-b335-e0d8d5990daf",
   "metadata": {},
   "source": [
    "The box plot above shows us that songs with higher valence are generally louder. This implies a positive correlation between valence and loudness, as when valence increases, loudness increases too. This makes sense as using domain knowledge, happier songs tend to be louder than sadder songs."
   ]
  },
  {
   "cell_type": "code",
   "execution_count": 98,
   "id": "781694ea-c07a-48c4-af3f-50878cdd4635",
   "metadata": {},
   "outputs": [
    {
     "data": {
      "text/plain": [
       "<AxesSubplot:ylabel='None'>"
      ]
     },
     "execution_count": 98,
     "metadata": {},
     "output_type": "execute_result"
    },
    {
     "data": {
      "image/png": "[encoded data removed]",
      "text/plain": [
       "<Figure size 1080x720 with 1 Axes>"
      ]
     },
     "metadata": {},
     "output_type": "display_data"
    }
   ],
   "source": [
    "# Plot a pie chart for the differnet genres\n",
    "df.loc[:, ['top genre_edm', 'top genre_hip hop', 'top genre_house',\n",
    "       'top genre_latin', 'top genre_others', 'top genre_pop',\n",
    "       'top genre_room']].value_counts().plot.pie(figsize=(15,10), autopct='%.2f')"
   ]
  },
  {
   "cell_type": "markdown",
   "id": "453919ee-82a6-4d17-b5ac-65668c7e4b00",
   "metadata": {},
   "source": [
    "(0,0,0,0,0,1,0) refers to pop, which seems to be the most popular genre at 82.59% of genres.\n",
    "(0,0,0,0,1,0,0) refers to genres that are not edm, hip hop, house, latin, room or pop. \"Other\" genres seem to be the 2ndmost popular genre at 8.08% of genres.\n",
    "(0,1,0,0,0,0,0) refers to hip hop, which seems to be the third most popular genre at 3.05% of genres."
   ]
  },
  {
   "cell_type": "code",
   "execution_count": 99,
   "id": "7cd9ce1d-3526-4758-b5d0-1ad2496a4125",
   "metadata": {},
   "outputs": [],
   "source": [
    "df.to_excel(r'C:\\Y2 Sem 1\\Machine Learning for Developers.xlsx', header=True)"
   ]
  },
  {
   "cell_type": "code",
   "execution_count": 100,
   "id": "24222d5f-05dc-4262-a193-ef21e282e2e4",
   "metadata": {},
   "outputs": [],
   "source": [
    "# Import relevant modules\n",
    "from pandas.plotting import scatter_matrix\n",
    "from sklearn import model_selection\n",
    "from sklearn.metrics import classification_report\n",
    "from sklearn.metrics import confusion_matrix\n",
    "from sklearn.metrics import accuracy_score\n",
    "from sklearn.linear_model import LogisticRegression\n",
    "from sklearn.tree import DecisionTreeClassifier\n",
    "from sklearn.neighbors import KNeighborsClassifier\n",
    "from sklearn.discriminant_analysis import LinearDiscriminantAnalysis\n",
    "from sklearn.naive_bayes import GaussianNB\n",
    "from sklearn.svm import SVC\n",
    "from sklearn.model_selection import RandomizedSearchCV\n",
    "from sklearn.ensemble import GradientBoostingRegressor\n",
    "from scipy.stats import uniform as sp_randFloat\n",
    "from scipy.stats import randint as sp_randInt\n",
    "\n",
    "# Shuffle and Split the dataset to predict popularity, splitting the dataset at a 80:20 ratio and having a random state of 8\n",
    "df = df.to_numpy()\n",
    "X = df[:, 0:17]\n",
    "y = df[:, [17]]\n",
    "size = 0.20\n",
    "seed = 8           \n",
    "X_train, X_test, y_train, y_test = model_selection.train_test_split(X, y, test_size=size, random_state=seed)"
   ]
  },
  {
   "cell_type": "code",
   "execution_count": 101,
   "id": "40781a32-3abc-4613-a08c-73993402d65c",
   "metadata": {},
   "outputs": [],
   "source": [
    "# Evaluate Algorithms and set their hyperparameters\n",
    "LR = LogisticRegression(solver='lbfgs', multi_class='auto', max_iter=200)\n",
    "LDA = LinearDiscriminantAnalysis()\n",
    "KNN = KNeighborsClassifier()\n",
    "CART = DecisionTreeClassifier()\n",
    "SVM = SVC(gamma='auto')"
   ]
  },
  {
   "cell_type": "code",
   "execution_count": 102,
   "id": "77129368-8523-40a3-aee5-82fe47119b82",
   "metadata": {},
   "outputs": [
    {
     "data": {
      "text/plain": [
       "SVC(gamma='auto')"
      ]
     },
     "execution_count": 102,
     "metadata": {},
     "output_type": "execute_result"
    }
   ],
   "source": [
    "# Train the model\n",
    "LR.fit(X_train,y_train)\n",
    "LDA.fit(X_train,y_train)\n",
    "KNN.fit(X_train,y_train)\n",
    "CART.fit(X_train,y_train)\n",
    "SVM.fit(X_train,y_train)"
   ]
  },
  {
   "cell_type": "code",
   "execution_count": 103,
   "id": "1d84cc03-e6d3-490d-8554-6613a75a812a",
   "metadata": {},
   "outputs": [
    {
     "name": "stdout",
     "output_type": "stream",
     "text": [
      "LR: 0.5357142857142857\n",
      "LDA: 0.5714285714285714\n",
      "KNN: 0.5178571428571429\n",
      "CART: 0.3482142857142857\n",
      "SVM: 0.5446428571428571\n"
     ]
    }
   ],
   "source": [
    "# Evaluate the model\n",
    "accuracy_score_LR = accuracy_score(y_test,LR.predict(X_test))\n",
    "accuracy_score_LDA = accuracy_score(y_test,LDA.predict(X_test))\n",
    "accuracy_score_KNN = accuracy_score(y_test,KNN.predict(X_test))\n",
    "accuracy_score_CART = accuracy_score(y_test,CART.predict(X_test))\n",
    "accuracy_score_SVM = accuracy_score(y_test,SVM.predict(X_test))\n",
    "\n",
    "print('LR:',accuracy_score_LR)\n",
    "print('LDA:',accuracy_score_LDA)\n",
    "print('KNN:',accuracy_score_KNN)\n",
    "print('CART:',accuracy_score_CART)\n",
    "print('SVM:',accuracy_score_SVM)"
   ]
  },
  {
   "cell_type": "code",
   "execution_count": 115,
   "id": "f30b60e8-d679-412f-a4c2-21ef612fbd02",
   "metadata": {},
   "outputs": [
    {
     "name": "stdout",
     "output_type": "stream",
     "text": [
      "LR: 0.5803571428571429\n",
      "LDA: 0.5803571428571429\n",
      "KNN: 0.5535714285714286\n",
      "CART: 0.5446428571428571\n",
      "SVM: 0.5178571428571429\n"
     ]
    }
   ],
   "source": [
    "# Evaluate the model\n",
    "accuracy_score_LR_tuned = accuracy_score(y_test,LR_tuned.predict(X_test))\n",
    "accuracy_score_LDA_tuned = accuracy_score(y_test,LDA_tuned.predict(X_test))\n",
    "accuracy_score_KNN_tuned  = accuracy_score(y_test,KNN_tuned.predict(X_test))\n",
    "accuracy_score_CART_tuned = accuracy_score(y_test,CART_tuned.predict(X_test))\n",
    "accuracy_score_SVM_tuned = accuracy_score(y_test,SVM_tuned.predict(X_test))\n",
    "\n",
    "print('LR:',accuracy_score_LR_tuned)\n",
    "print('LDA:',accuracy_score_LDA_tuned)\n",
    "print('KNN:',accuracy_score_KNN_tuned)\n",
    "print('CART:',accuracy_score_CART_tuned)\n",
    "print('SVM:',accuracy_score_SVM_tuned)"
   ]
  },
  {
   "cell_type": "code",
   "execution_count": 104,
   "id": "6086d9cd-f359-427f-ac2f-1efb6e4ed329",
   "metadata": {},
   "outputs": [
    {
     "name": "stdout",
     "output_type": "stream",
     "text": [
      "Best: 0.489037 using {'C': 0.01, 'penalty': 'l2', 'solver': 'newton-cg'}\n"
     ]
    }
   ],
   "source": [
    "from numpy import arange\n",
    "from sklearn.model_selection import GridSearchCV\n",
    "from sklearn.model_selection import RepeatedStratifiedKFold\n",
    "from sklearn.datasets import make_classification\n",
    "# define models and parameters\n",
    "model = LR\n",
    "solvers = ['newton-cg', 'lbfgs', 'liblinear']\n",
    "penalty = ['l2']\n",
    "c_values = [100, 10, 1.0, 0.1, 0.01]\n",
    "# define grid search\n",
    "grid = dict(solver=solvers,penalty=penalty,C=c_values)\n",
    "cv = RepeatedStratifiedKFold(n_splits=10, n_repeats=3, random_state=1)\n",
    "grid_search = GridSearchCV(estimator=model, param_grid=grid, n_jobs=-1, cv=cv, scoring='accuracy',error_score=0)\n",
    "grid_result = grid_search.fit(X, y)\n",
    "# summarize results\n",
    "print(\"Best: %f using %s\" % (grid_result.best_score_, grid_result.best_params_))\n",
    "means = grid_result.cv_results_['mean_test_score']\n",
    "stds = grid_result.cv_results_['std_test_score']"
   ]
  },
  {
   "cell_type": "code",
   "execution_count": 105,
   "id": "9c9ffef3-c6a1-4228-911d-3d50985fb79f",
   "metadata": {},
   "outputs": [],
   "source": [
    "LR_tuned = LogisticRegression(C=0.01,penalty='l2',solver=\"newton-cg\")"
   ]
  },
  {
   "cell_type": "code",
   "execution_count": 106,
   "id": "e54d8b1b-ad50-4689-aabb-73d5fdc51d33",
   "metadata": {},
   "outputs": [
    {
     "name": "stdout",
     "output_type": "stream",
     "text": [
      "Mean Accuracy: 0.492\n",
      "Config: {'shrinkage': 0.39, 'solver': 'lsqr'}\n"
     ]
    }
   ],
   "source": [
    "model=LDA\n",
    "# define grid\n",
    "grid = dict()\n",
    "grid['shrinkage'] = arange(0, 1, 0.01)\n",
    "grid['solver'] = ['svd', 'lsqr', 'eigen']\n",
    "# define search\n",
    "cv = RepeatedStratifiedKFold(n_splits=10, n_repeats=3, random_state=8)\n",
    "search = GridSearchCV(model, grid, scoring='accuracy', cv=cv, n_jobs=-1)\n",
    "# perform the search\n",
    "results = search.fit(X, y)\n",
    "# summarize\n",
    "print('Mean Accuracy: %.3f' % results.best_score_)\n",
    "print('Config: %s' % results.best_params_)"
   ]
  },
  {
   "cell_type": "code",
   "execution_count": 107,
   "id": "bf943f40-4b13-4afc-b39b-66e2bf3d25c4",
   "metadata": {},
   "outputs": [],
   "source": [
    "LDA_tuned = LinearDiscriminantAnalysis(shrinkage=0.39,solver=\"lsqr\")"
   ]
  },
  {
   "cell_type": "code",
   "execution_count": 108,
   "id": "0f453f46-13c3-44db-a0a6-0b9a852d0496",
   "metadata": {},
   "outputs": [
    {
     "name": "stdout",
     "output_type": "stream",
     "text": [
      "Best: 0.490703 using {'metric': 'manhattan', 'n_neighbors': 17, 'weights': 'distance'}\n"
     ]
    }
   ],
   "source": [
    "model = KNN\n",
    "n_neighbors = range(1, 21, 2)\n",
    "weights = ['uniform', 'distance']\n",
    "metric = ['euclidean', 'manhattan', 'minkowski']\n",
    "# define grid search\n",
    "grid = dict(n_neighbors=n_neighbors,weights=weights,metric=metric)\n",
    "cv = RepeatedStratifiedKFold(n_splits=10, n_repeats=3, random_state=1)\n",
    "grid_search = GridSearchCV(estimator=model, param_grid=grid, n_jobs=-1, cv=cv, scoring='accuracy',error_score=0)\n",
    "grid_result = grid_search.fit(X, y)\n",
    "# summarize results\n",
    "print(\"Best: %f using %s\" % (grid_result.best_score_, grid_result.best_params_))\n",
    "means = grid_result.cv_results_['mean_test_score']\n",
    "stds = grid_result.cv_results_['std_test_score']\n",
    "params = grid_result.cv_results_['params']"
   ]
  },
  {
   "cell_type": "code",
   "execution_count": 109,
   "id": "3dcbc9a2-8032-40e7-8822-57e8433e600e",
   "metadata": {},
   "outputs": [],
   "source": [
    "KNN_tuned = KNeighborsClassifier(metric='manhattan',n_neighbors=17,weights='distance')"
   ]
  },
  {
   "cell_type": "code",
   "execution_count": 110,
   "id": "7d438dc5-601c-48c8-9085-34b8fcbb3584",
   "metadata": {},
   "outputs": [
    {
     "name": "stdout",
     "output_type": "stream",
     "text": [
      "Best: 0.488268 using {'criterion': 'entropy', 'max_depth': 3, 'min_samples_leaf': 5}\n"
     ]
    }
   ],
   "source": [
    "model = CART\n",
    "max_depth= [2, 3, 5, 10, 20]\n",
    "min_samples_leaf= [5, 10, 20, 50, 100]\n",
    "criterion= [\"gini\", \"entropy\"]\n",
    "grid = dict(max_depth=max_depth,min_samples_leaf=min_samples_leaf,criterion=criterion)\n",
    "cv = RepeatedStratifiedKFold(n_splits=10, n_repeats=3, random_state=1)\n",
    "grid_search = GridSearchCV(estimator=model, param_grid=grid, n_jobs=-1, cv=cv, scoring='accuracy',error_score=0)\n",
    "grid_result = grid_search.fit(X, y)\n",
    "# summarize results\n",
    "print(\"Best: %f using %s\" % (grid_result.best_score_, grid_result.best_params_))\n",
    "means = grid_result.cv_results_['mean_test_score']\n",
    "stds = grid_result.cv_results_['std_test_score']\n",
    "params = grid_result.cv_results_['params']"
   ]
  },
  {
   "cell_type": "code",
   "execution_count": 111,
   "id": "03ca9c54-a093-4120-9f13-6ff84482a6ee",
   "metadata": {},
   "outputs": [],
   "source": [
    "CART_tuned = DecisionTreeClassifier(criterion='entropy',max_depth=3,min_samples_leaf=20)"
   ]
  },
  {
   "cell_type": "code",
   "execution_count": 112,
   "id": "0516df64-2e4e-412f-a7bd-e17f285d9255",
   "metadata": {},
   "outputs": [
    {
     "name": "stdout",
     "output_type": "stream",
     "text": [
      "Best: 0.459675 using {'C': 50, 'gamma': 'scale', 'kernel': 'poly'}\n"
     ]
    }
   ],
   "source": [
    "model = SVM\n",
    "kernel = ['poly', 'rbf', 'sigmoid']\n",
    "C = [50, 10, 1.0, 0.1, 0.01]\n",
    "gamma = ['scale']\n",
    "# define grid search\n",
    "grid = dict(kernel=kernel,C=C,gamma=gamma)\n",
    "cv = RepeatedStratifiedKFold(n_splits=10, n_repeats=3, random_state=1)\n",
    "grid_search = GridSearchCV(estimator=model, param_grid=grid, n_jobs=-1, cv=cv, scoring='accuracy',error_score=0)\n",
    "grid_result = grid_search.fit(X, y)\n",
    "# summarize results\n",
    "print(\"Best: %f using %s\" % (grid_result.best_score_, grid_result.best_params_))\n",
    "means = grid_result.cv_results_['mean_test_score']\n",
    "stds = grid_result.cv_results_['std_test_score']\n",
    "params = grid_result.cv_results_['params']"
   ]
  },
  {
   "cell_type": "code",
   "execution_count": 113,
   "id": "7f0796ba-ae05-4873-bc6c-27ac2d99c259",
   "metadata": {},
   "outputs": [],
   "source": [
    "SVM_tuned = SVC(C=50,gamma='scale',kernel='poly')"
   ]
  },
  {
   "cell_type": "code",
   "execution_count": 114,
   "id": "3909d562-502c-489e-9f67-13c3e86e095c",
   "metadata": {},
   "outputs": [
    {
     "data": {
      "text/plain": [
       "SVC(C=50, kernel='poly')"
      ]
     },
     "execution_count": 114,
     "metadata": {},
     "output_type": "execute_result"
    }
   ],
   "source": [
    "LR_tuned.fit(X_train,y_train)\n",
    "LDA_tuned.fit(X_train,y_train)\n",
    "KNN_tuned.fit(X_train,y_train)\n",
    "CART_tuned.fit(X_train,y_train)\n",
    "SVM_tuned.fit(X_train,y_train)"
   ]
  },
  {
   "cell_type": "markdown",
   "id": "1ad3810d-46e1-4721-8230-02a88953ab03",
   "metadata": {},
   "source": [
    "After evaluating, I concluded that LR is the more appropriate model to use as logistic regression produces robust estimations regardless of assumptions as logistic regression does not make any assumptions about distributions of variables or relationships, unlike linear discriminant analysis, where if the assumptions of LDA are violated, the model would not make as robust estimations. Furthermore, the requirements of multivariate normalities would disrupt LDA’s classifications more than LR, hence I chose to use LR over LDA. "
   ]
  },
  {
   "cell_type": "code",
   "execution_count": 116,
   "id": "86c43281-60ef-479a-a67f-47ce862719db",
   "metadata": {},
   "outputs": [
    {
     "name": "stdout",
     "output_type": "stream",
     "text": [
      "Confusion matrix:\n",
      "[[ 0  0  0  2  0]\n",
      " [ 0  0  0  6  0]\n",
      " [ 0  0  0 15  2]\n",
      " [ 0  0  0 52  6]\n",
      " [ 0  0  0 16 13]]\n",
      "Classification report:\n",
      "              precision    recall  f1-score   support\n",
      "\n",
      "           1       0.00      0.00      0.00         2\n",
      "           2       0.00      0.00      0.00         6\n",
      "           3       0.00      0.00      0.00        17\n",
      "           4       0.57      0.90      0.70        58\n",
      "           5       0.62      0.45      0.52        29\n",
      "\n",
      "    accuracy                           0.58       112\n",
      "   macro avg       0.24      0.27      0.24       112\n",
      "weighted avg       0.46      0.58      0.50       112\n",
      "\n"
     ]
    }
   ],
   "source": [
    "# Print the confusion matrix and classification report for LDA\n",
    "print(\"Confusion matrix:\")\n",
    "print(confusion_matrix(y_test, LR_tuned.predict(X_test)))\n",
    "print(\"Classification report:\")\n",
    "print(classification_report(y_test, LR_tuned.predict(X_test)))"
   ]
  },
  {
   "cell_type": "code",
   "execution_count": 117,
   "id": "c879fe40-b030-48f0-b9d0-cf12d5b90352",
   "metadata": {},
   "outputs": [
    {
     "name": "stdout",
     "output_type": "stream",
     "text": [
      "[4]\n"
     ]
    }
   ],
   "source": [
    "# Test out and predict a song popularity\n",
    "print(LR_tuned.predict([[2010,1,4,4,5,2,1,1,2,2,0,0,0,0,0,0,1]]))"
   ]
  },
  {
   "cell_type": "code",
   "execution_count": null,
   "id": "8b523da9-19dd-45f3-80a7-8331fef065ca",
   "metadata": {},
   "outputs": [
    {
     "name": "stdout",
     "output_type": "stream",
     "text": [
      " * Serving Flask app \"__main__\" (lazy loading)\n",
      " * Environment: production\n",
      "\u001b[31m   WARNING: This is a development server. Do not use it in a production deployment.\u001b[0m\n",
      "\u001b[2m   Use a production WSGI server instead.\u001b[0m\n",
      " * Debug mode: off\n"
     ]
    },
    {
     "name": "stderr",
     "output_type": "stream",
     "text": [
      " * Running on http://127.0.0.1:5000/ (Press CTRL+C to quit)\n",
      "127.0.0.1 - - [15/Aug/2022 14:26:58] \"GET / HTTP/1.1\" 200 -\n",
      "127.0.0.1 - - [15/Aug/2022 14:26:58] \"GET /static/templates/genreValues.js HTTP/1.1\" 404 -\n",
      "127.0.0.1 - - [15/Aug/2022 14:26:58] \"GET /static/music-gfd4faec89_1280.png HTTP/1.1\" 200 -\n",
      "127.0.0.1 - - [15/Aug/2022 14:26:58] \"GET /favicon.ico HTTP/1.1\" 404 -\n",
      "127.0.0.1 - - [15/Aug/2022 15:15:59] \"POST /predict HTTP/1.1\" 200 -\n",
      "127.0.0.1 - - [15/Aug/2022 15:15:59] \"GET /static/templates/genreValues.js HTTP/1.1\" 404 -\n"
     ]
    }
   ],
   "source": [
    "import numpy as np\n",
    "from flask import Flask, request, render_template\n",
    "import joblib\n",
    "joblib.dump(LR_tuned,\"predictionModel.pkl\")\n",
    "app = Flask(__name__)\n",
    "model = joblib.load('predictionModel.pkl')\n",
    "@app.route('/')\n",
    "def home():\n",
    "    return render_template('popularity_predictor.html')\n",
    "\n",
    "@app.route('/predict',methods=['POST'])\n",
    "def predict():\n",
    "    title = \"Classify Popularity\"\n",
    "    form_data = [float(x) for x in request.form.values()]\n",
    "    features = [np.array(form_data)]\n",
    "    prediction = model.predict(features)\n",
    "\n",
    "    # Format prediction text for display in \"popularity_predictor.html\"\n",
    "    return render_template('popularity_predictor.html', song_prediction='Song popularity should be {}'.format(prediction[0]), title=title)\n",
    "if __name__ == '__main__':\n",
    "    app.run(debug=False)"
   ]
  }
 ],
 "metadata": {
  "kernelspec": {
   "display_name": "Python 3 (ipykernel)",
   "language": "python",
   "name": "python3"
  },
  "language_info": {
   "codemirror_mode": {
    "name": "ipython",
    "version": 3
   },
   "file_extension": ".py",
   "mimetype": "text/x-python",
   "name": "python",
   "nbconvert_exporter": "python",
   "pygments_lexer": "ipython3",
   "version": "3.9.7"
  }
 },
 "nbformat": 4,
 "nbformat_minor": 5
}
